{
  "nbformat": 4,
  "nbformat_minor": 0,
  "metadata": {
    "colab": {
      "provenance": []
    },
    "kernelspec": {
      "name": "python3",
      "display_name": "Python 3"
    },
    "language_info": {
      "name": "python"
    }
  },
  "cells": [
    {
      "cell_type": "code",
      "execution_count": null,
      "metadata": {
        "colab": {
          "base_uri": "https://localhost:8080/"
        },
        "id": "4OmkRo21yOtQ",
        "outputId": "b0461753-19fc-49ad-d3f8-7bafbec12250"
      },
      "outputs": [
        {
          "output_type": "stream",
          "name": "stdout",
          "text": [
            "Looking in indexes: https://pypi.org/simple, https://us-python.pkg.dev/colab-wheels/public/simple/\n",
            "Collecting keybert\n",
            "  Downloading keybert-0.7.0.tar.gz (21 kB)\n",
            "  Preparing metadata (setup.py) ... \u001b[?25l\u001b[?25hdone\n",
            "Collecting sentence-transformers>=0.3.8 (from keybert)\n",
            "  Downloading sentence-transformers-2.2.2.tar.gz (85 kB)\n",
            "\u001b[2K     \u001b[90m━━━━━━━━━━━━━━━━━━━━━━━━━━━━━━━━━━━━━━━━\u001b[0m \u001b[32m86.0/86.0 kB\u001b[0m \u001b[31m3.9 MB/s\u001b[0m eta \u001b[36m0:00:00\u001b[0m\n",
            "\u001b[?25h  Preparing metadata (setup.py) ... \u001b[?25l\u001b[?25hdone\n",
            "Requirement already satisfied: scikit-learn>=0.22.2 in /usr/local/lib/python3.10/dist-packages (from keybert) (1.2.2)\n",
            "Requirement already satisfied: numpy>=1.18.5 in /usr/local/lib/python3.10/dist-packages (from keybert) (1.22.4)\n",
            "Requirement already satisfied: rich>=10.4.0 in /usr/local/lib/python3.10/dist-packages (from keybert) (13.3.4)\n",
            "Requirement already satisfied: markdown-it-py<3.0.0,>=2.2.0 in /usr/local/lib/python3.10/dist-packages (from rich>=10.4.0->keybert) (2.2.0)\n",
            "Requirement already satisfied: pygments<3.0.0,>=2.13.0 in /usr/local/lib/python3.10/dist-packages (from rich>=10.4.0->keybert) (2.14.0)\n",
            "Requirement already satisfied: scipy>=1.3.2 in /usr/local/lib/python3.10/dist-packages (from scikit-learn>=0.22.2->keybert) (1.10.1)\n",
            "Requirement already satisfied: joblib>=1.1.1 in /usr/local/lib/python3.10/dist-packages (from scikit-learn>=0.22.2->keybert) (1.2.0)\n",
            "Requirement already satisfied: threadpoolctl>=2.0.0 in /usr/local/lib/python3.10/dist-packages (from scikit-learn>=0.22.2->keybert) (3.1.0)\n",
            "Collecting transformers<5.0.0,>=4.6.0 (from sentence-transformers>=0.3.8->keybert)\n",
            "  Downloading transformers-4.30.2-py3-none-any.whl (7.2 MB)\n",
            "\u001b[2K     \u001b[90m━━━━━━━━━━━━━━━━━━━━━━━━━━━━━━━━━━━━━━━━\u001b[0m \u001b[32m7.2/7.2 MB\u001b[0m \u001b[31m71.3 MB/s\u001b[0m eta \u001b[36m0:00:00\u001b[0m\n",
            "\u001b[?25hRequirement already satisfied: tqdm in /usr/local/lib/python3.10/dist-packages (from sentence-transformers>=0.3.8->keybert) (4.65.0)\n",
            "Requirement already satisfied: torch>=1.6.0 in /usr/local/lib/python3.10/dist-packages (from sentence-transformers>=0.3.8->keybert) (2.0.1+cu118)\n",
            "Requirement already satisfied: torchvision in /usr/local/lib/python3.10/dist-packages (from sentence-transformers>=0.3.8->keybert) (0.15.2+cu118)\n",
            "Requirement already satisfied: nltk in /usr/local/lib/python3.10/dist-packages (from sentence-transformers>=0.3.8->keybert) (3.8.1)\n",
            "Collecting sentencepiece (from sentence-transformers>=0.3.8->keybert)\n",
            "  Downloading sentencepiece-0.1.99-cp310-cp310-manylinux_2_17_x86_64.manylinux2014_x86_64.whl (1.3 MB)\n",
            "\u001b[2K     \u001b[90m━━━━━━━━━━━━━━━━━━━━━━━━━━━━━━━━━━━━━━━━\u001b[0m \u001b[32m1.3/1.3 MB\u001b[0m \u001b[31m74.2 MB/s\u001b[0m eta \u001b[36m0:00:00\u001b[0m\n",
            "\u001b[?25hCollecting huggingface-hub>=0.4.0 (from sentence-transformers>=0.3.8->keybert)\n",
            "  Downloading huggingface_hub-0.15.1-py3-none-any.whl (236 kB)\n",
            "\u001b[2K     \u001b[90m━━━━━━━━━━━━━━━━━━━━━━━━━━━━━━━━━━━━━━\u001b[0m \u001b[32m236.8/236.8 kB\u001b[0m \u001b[31m26.5 MB/s\u001b[0m eta \u001b[36m0:00:00\u001b[0m\n",
            "\u001b[?25hRequirement already satisfied: filelock in /usr/local/lib/python3.10/dist-packages (from huggingface-hub>=0.4.0->sentence-transformers>=0.3.8->keybert) (3.12.0)\n",
            "Requirement already satisfied: fsspec in /usr/local/lib/python3.10/dist-packages (from huggingface-hub>=0.4.0->sentence-transformers>=0.3.8->keybert) (2023.4.0)\n",
            "Requirement already satisfied: requests in /usr/local/lib/python3.10/dist-packages (from huggingface-hub>=0.4.0->sentence-transformers>=0.3.8->keybert) (2.27.1)\n",
            "Requirement already satisfied: pyyaml>=5.1 in /usr/local/lib/python3.10/dist-packages (from huggingface-hub>=0.4.0->sentence-transformers>=0.3.8->keybert) (6.0)\n",
            "Requirement already satisfied: typing-extensions>=3.7.4.3 in /usr/local/lib/python3.10/dist-packages (from huggingface-hub>=0.4.0->sentence-transformers>=0.3.8->keybert) (4.5.0)\n",
            "Requirement already satisfied: packaging>=20.9 in /usr/local/lib/python3.10/dist-packages (from huggingface-hub>=0.4.0->sentence-transformers>=0.3.8->keybert) (23.1)\n",
            "Requirement already satisfied: mdurl~=0.1 in /usr/local/lib/python3.10/dist-packages (from markdown-it-py<3.0.0,>=2.2.0->rich>=10.4.0->keybert) (0.1.2)\n",
            "Requirement already satisfied: sympy in /usr/local/lib/python3.10/dist-packages (from torch>=1.6.0->sentence-transformers>=0.3.8->keybert) (1.11.1)\n",
            "Requirement already satisfied: networkx in /usr/local/lib/python3.10/dist-packages (from torch>=1.6.0->sentence-transformers>=0.3.8->keybert) (3.1)\n",
            "Requirement already satisfied: jinja2 in /usr/local/lib/python3.10/dist-packages (from torch>=1.6.0->sentence-transformers>=0.3.8->keybert) (3.1.2)\n",
            "Requirement already satisfied: triton==2.0.0 in /usr/local/lib/python3.10/dist-packages (from torch>=1.6.0->sentence-transformers>=0.3.8->keybert) (2.0.0)\n",
            "Requirement already satisfied: cmake in /usr/local/lib/python3.10/dist-packages (from triton==2.0.0->torch>=1.6.0->sentence-transformers>=0.3.8->keybert) (3.25.2)\n",
            "Requirement already satisfied: lit in /usr/local/lib/python3.10/dist-packages (from triton==2.0.0->torch>=1.6.0->sentence-transformers>=0.3.8->keybert) (16.0.5)\n",
            "Requirement already satisfied: regex!=2019.12.17 in /usr/local/lib/python3.10/dist-packages (from transformers<5.0.0,>=4.6.0->sentence-transformers>=0.3.8->keybert) (2022.10.31)\n",
            "Collecting tokenizers!=0.11.3,<0.14,>=0.11.1 (from transformers<5.0.0,>=4.6.0->sentence-transformers>=0.3.8->keybert)\n",
            "  Downloading tokenizers-0.13.3-cp310-cp310-manylinux_2_17_x86_64.manylinux2014_x86_64.whl (7.8 MB)\n",
            "\u001b[2K     \u001b[90m━━━━━━━━━━━━━━━━━━━━━━━━━━━━━━━━━━━━━━━━\u001b[0m \u001b[32m7.8/7.8 MB\u001b[0m \u001b[31m70.7 MB/s\u001b[0m eta \u001b[36m0:00:00\u001b[0m\n",
            "\u001b[?25hCollecting safetensors>=0.3.1 (from transformers<5.0.0,>=4.6.0->sentence-transformers>=0.3.8->keybert)\n",
            "  Downloading safetensors-0.3.1-cp310-cp310-manylinux_2_17_x86_64.manylinux2014_x86_64.whl (1.3 MB)\n",
            "\u001b[2K     \u001b[90m━━━━━━━━━━━━━━━━━━━━━━━━━━━━━━━━━━━━━━━━\u001b[0m \u001b[32m1.3/1.3 MB\u001b[0m \u001b[31m71.7 MB/s\u001b[0m eta \u001b[36m0:00:00\u001b[0m\n",
            "\u001b[?25hRequirement already satisfied: click in /usr/local/lib/python3.10/dist-packages (from nltk->sentence-transformers>=0.3.8->keybert) (8.1.3)\n",
            "Requirement already satisfied: pillow!=8.3.*,>=5.3.0 in /usr/local/lib/python3.10/dist-packages (from torchvision->sentence-transformers>=0.3.8->keybert) (8.4.0)\n",
            "Requirement already satisfied: MarkupSafe>=2.0 in /usr/local/lib/python3.10/dist-packages (from jinja2->torch>=1.6.0->sentence-transformers>=0.3.8->keybert) (2.1.2)\n",
            "Requirement already satisfied: urllib3<1.27,>=1.21.1 in /usr/local/lib/python3.10/dist-packages (from requests->huggingface-hub>=0.4.0->sentence-transformers>=0.3.8->keybert) (1.26.15)\n",
            "Requirement already satisfied: certifi>=2017.4.17 in /usr/local/lib/python3.10/dist-packages (from requests->huggingface-hub>=0.4.0->sentence-transformers>=0.3.8->keybert) (2022.12.7)\n",
            "Requirement already satisfied: charset-normalizer~=2.0.0 in /usr/local/lib/python3.10/dist-packages (from requests->huggingface-hub>=0.4.0->sentence-transformers>=0.3.8->keybert) (2.0.12)\n",
            "Requirement already satisfied: idna<4,>=2.5 in /usr/local/lib/python3.10/dist-packages (from requests->huggingface-hub>=0.4.0->sentence-transformers>=0.3.8->keybert) (3.4)\n",
            "Requirement already satisfied: mpmath>=0.19 in /usr/local/lib/python3.10/dist-packages (from sympy->torch>=1.6.0->sentence-transformers>=0.3.8->keybert) (1.3.0)\n",
            "Building wheels for collected packages: keybert, sentence-transformers\n",
            "  Building wheel for keybert (setup.py) ... \u001b[?25l\u001b[?25hdone\n",
            "  Created wheel for keybert: filename=keybert-0.7.0-py3-none-any.whl size=23777 sha256=c551578b75462b0fcde476141810c1891e773086eb5d330ef8b891b12e0e5eaa\n",
            "  Stored in directory: /root/.cache/pip/wheels/66/8d/e6/b0e2f8d883b0fd51819226f67ad9843e04913ce4a97241ff4b\n",
            "  Building wheel for sentence-transformers (setup.py) ... \u001b[?25l\u001b[?25hdone\n",
            "  Created wheel for sentence-transformers: filename=sentence_transformers-2.2.2-py3-none-any.whl size=125926 sha256=36c158ad66080ff94960d475e41aa935365369f3feb234c2eb37e44a5cd1865e\n",
            "  Stored in directory: /root/.cache/pip/wheels/62/f2/10/1e606fd5f02395388f74e7462910fe851042f97238cbbd902f\n",
            "Successfully built keybert sentence-transformers\n",
            "Installing collected packages: tokenizers, sentencepiece, safetensors, huggingface-hub, transformers, sentence-transformers, keybert\n",
            "Successfully installed huggingface-hub-0.15.1 keybert-0.7.0 safetensors-0.3.1 sentence-transformers-2.2.2 sentencepiece-0.1.99 tokenizers-0.13.3 transformers-4.30.2\n"
          ]
        }
      ],
      "source": [
        "pip install keybert"
      ]
    },
    {
      "cell_type": "code",
      "source": [
        "pip install flair"
      ],
      "metadata": {
        "colab": {
          "base_uri": "https://localhost:8080/"
        },
        "id": "Dc88B29A9z3U",
        "outputId": "7ca20cc2-8375-4cbb-e153-ea9da0b31927"
      },
      "execution_count": null,
      "outputs": [
        {
          "output_type": "stream",
          "name": "stdout",
          "text": [
            "Looking in indexes: https://pypi.org/simple, https://us-python.pkg.dev/colab-wheels/public/simple/\n",
            "Collecting flair\n",
            "  Downloading flair-0.12.2-py3-none-any.whl (373 kB)\n",
            "\u001b[2K     \u001b[90m━━━━━━━━━━━━━━━━━━━━━━━━━━━━━━━━━━━━━━━\u001b[0m \u001b[32m373.1/373.1 kB\u001b[0m \u001b[31m7.9 MB/s\u001b[0m eta \u001b[36m0:00:00\u001b[0m\n",
            "\u001b[?25hRequirement already satisfied: python-dateutil>=2.6.1 in /usr/local/lib/python3.10/dist-packages (from flair) (2.8.2)\n",
            "Requirement already satisfied: torch!=1.8,>=1.5.0 in /usr/local/lib/python3.10/dist-packages (from flair) (2.0.1+cu118)\n",
            "Requirement already satisfied: gensim>=3.8.0 in /usr/local/lib/python3.10/dist-packages (from flair) (4.3.1)\n",
            "Requirement already satisfied: tqdm>=4.26.0 in /usr/local/lib/python3.10/dist-packages (from flair) (4.65.0)\n",
            "Collecting segtok>=1.5.7 (from flair)\n",
            "  Downloading segtok-1.5.11-py3-none-any.whl (24 kB)\n",
            "Requirement already satisfied: matplotlib>=2.2.3 in /usr/local/lib/python3.10/dist-packages (from flair) (3.7.1)\n",
            "Collecting mpld3==0.3 (from flair)\n",
            "  Downloading mpld3-0.3.tar.gz (788 kB)\n",
            "\u001b[2K     \u001b[90m━━━━━━━━━━━━━━━━━━━━━━━━━━━━━━━━━━━━━━\u001b[0m \u001b[32m788.5/788.5 kB\u001b[0m \u001b[31m26.3 MB/s\u001b[0m eta \u001b[36m0:00:00\u001b[0m\n",
            "\u001b[?25h  Preparing metadata (setup.py) ... \u001b[?25l\u001b[?25hdone\n",
            "Requirement already satisfied: scikit-learn>=0.21.3 in /usr/local/lib/python3.10/dist-packages (from flair) (1.2.2)\n",
            "Collecting sqlitedict>=1.6.0 (from flair)\n",
            "  Downloading sqlitedict-2.1.0.tar.gz (21 kB)\n",
            "  Preparing metadata (setup.py) ... \u001b[?25l\u001b[?25hdone\n",
            "Collecting deprecated>=1.2.4 (from flair)\n",
            "  Downloading Deprecated-1.2.14-py2.py3-none-any.whl (9.6 kB)\n",
            "Requirement already satisfied: hyperopt>=0.2.7 in /usr/local/lib/python3.10/dist-packages (from flair) (0.2.7)\n",
            "Collecting boto3 (from flair)\n",
            "  Downloading boto3-1.26.158-py3-none-any.whl (135 kB)\n",
            "\u001b[2K     \u001b[90m━━━━━━━━━━━━━━━━━━━━━━━━━━━━━━━━━━━━━━\u001b[0m \u001b[32m135.9/135.9 kB\u001b[0m \u001b[31m13.7 MB/s\u001b[0m eta \u001b[36m0:00:00\u001b[0m\n",
            "\u001b[?25hRequirement already satisfied: transformers[sentencepiece]>=4.18.0 in /usr/local/lib/python3.10/dist-packages (from flair) (4.30.2)\n",
            "Collecting bpemb>=0.3.2 (from flair)\n",
            "  Downloading bpemb-0.3.4-py3-none-any.whl (19 kB)\n",
            "Requirement already satisfied: regex in /usr/local/lib/python3.10/dist-packages (from flair) (2022.10.31)\n",
            "Requirement already satisfied: tabulate in /usr/local/lib/python3.10/dist-packages (from flair) (0.8.10)\n",
            "Collecting langdetect (from flair)\n",
            "  Downloading langdetect-1.0.9.tar.gz (981 kB)\n",
            "\u001b[2K     \u001b[90m━━━━━━━━━━━━━━━━━━━━━━━━━━━━━━━━━━━━━━\u001b[0m \u001b[32m981.5/981.5 kB\u001b[0m \u001b[31m36.7 MB/s\u001b[0m eta \u001b[36m0:00:00\u001b[0m\n",
            "\u001b[?25h  Preparing metadata (setup.py) ... \u001b[?25l\u001b[?25hdone\n",
            "Requirement already satisfied: lxml in /usr/local/lib/python3.10/dist-packages (from flair) (4.9.2)\n",
            "Collecting ftfy (from flair)\n",
            "  Downloading ftfy-6.1.1-py3-none-any.whl (53 kB)\n",
            "\u001b[2K     \u001b[90m━━━━━━━━━━━━━━━━━━━━━━━━━━━━━━━━━━━━━━━━\u001b[0m \u001b[32m53.1/53.1 kB\u001b[0m \u001b[31m6.6 MB/s\u001b[0m eta \u001b[36m0:00:00\u001b[0m\n",
            "\u001b[?25hCollecting janome (from flair)\n",
            "  Downloading Janome-0.4.2-py2.py3-none-any.whl (19.7 MB)\n",
            "\u001b[2K     \u001b[90m━━━━━━━━━━━━━━━━━━━━━━━━━━━━━━━━━━━━━━━━\u001b[0m \u001b[32m19.7/19.7 MB\u001b[0m \u001b[31m46.5 MB/s\u001b[0m eta \u001b[36m0:00:00\u001b[0m\n",
            "\u001b[?25hCollecting gdown==4.4.0 (from flair)\n",
            "  Downloading gdown-4.4.0.tar.gz (14 kB)\n",
            "  Installing build dependencies ... \u001b[?25l\u001b[?25hdone\n",
            "  Getting requirements to build wheel ... \u001b[?25l\u001b[?25hdone\n",
            "  Preparing metadata (pyproject.toml) ... \u001b[?25l\u001b[?25hdone\n",
            "Requirement already satisfied: huggingface-hub>=0.10.0 in /usr/local/lib/python3.10/dist-packages (from flair) (0.15.1)\n",
            "Collecting conllu>=4.0 (from flair)\n",
            "  Downloading conllu-4.5.3-py2.py3-none-any.whl (16 kB)\n",
            "Requirement already satisfied: more-itertools in /usr/local/lib/python3.10/dist-packages (from flair) (9.1.0)\n",
            "Collecting wikipedia-api (from flair)\n",
            "  Downloading Wikipedia_API-0.5.8-py3-none-any.whl (13 kB)\n",
            "Collecting pptree (from flair)\n",
            "  Downloading pptree-3.1.tar.gz (3.0 kB)\n",
            "  Preparing metadata (setup.py) ... \u001b[?25l\u001b[?25hdone\n",
            "Collecting pytorch-revgrad (from flair)\n",
            "  Downloading pytorch_revgrad-0.2.0-py3-none-any.whl (4.6 kB)\n",
            "Collecting transformer-smaller-training-vocab>=0.2.1 (from flair)\n",
            "  Downloading transformer_smaller_training_vocab-0.2.4-py3-none-any.whl (13 kB)\n",
            "Requirement already satisfied: filelock in /usr/local/lib/python3.10/dist-packages (from gdown==4.4.0->flair) (3.12.0)\n",
            "Requirement already satisfied: requests[socks] in /usr/local/lib/python3.10/dist-packages (from gdown==4.4.0->flair) (2.27.1)\n",
            "Requirement already satisfied: six in /usr/local/lib/python3.10/dist-packages (from gdown==4.4.0->flair) (1.16.0)\n",
            "Requirement already satisfied: beautifulsoup4 in /usr/local/lib/python3.10/dist-packages (from gdown==4.4.0->flair) (4.11.2)\n",
            "Requirement already satisfied: numpy in /usr/local/lib/python3.10/dist-packages (from bpemb>=0.3.2->flair) (1.22.4)\n",
            "Requirement already satisfied: sentencepiece in /usr/local/lib/python3.10/dist-packages (from bpemb>=0.3.2->flair) (0.1.99)\n",
            "Requirement already satisfied: wrapt<2,>=1.10 in /usr/local/lib/python3.10/dist-packages (from deprecated>=1.2.4->flair) (1.14.1)\n",
            "Requirement already satisfied: scipy>=1.7.0 in /usr/local/lib/python3.10/dist-packages (from gensim>=3.8.0->flair) (1.10.1)\n",
            "Requirement already satisfied: smart-open>=1.8.1 in /usr/local/lib/python3.10/dist-packages (from gensim>=3.8.0->flair) (6.3.0)\n",
            "Requirement already satisfied: fsspec in /usr/local/lib/python3.10/dist-packages (from huggingface-hub>=0.10.0->flair) (2023.4.0)\n",
            "Requirement already satisfied: pyyaml>=5.1 in /usr/local/lib/python3.10/dist-packages (from huggingface-hub>=0.10.0->flair) (6.0)\n",
            "Requirement already satisfied: typing-extensions>=3.7.4.3 in /usr/local/lib/python3.10/dist-packages (from huggingface-hub>=0.10.0->flair) (4.5.0)\n",
            "Requirement already satisfied: packaging>=20.9 in /usr/local/lib/python3.10/dist-packages (from huggingface-hub>=0.10.0->flair) (23.1)\n",
            "Requirement already satisfied: networkx>=2.2 in /usr/local/lib/python3.10/dist-packages (from hyperopt>=0.2.7->flair) (3.1)\n",
            "Requirement already satisfied: future in /usr/local/lib/python3.10/dist-packages (from hyperopt>=0.2.7->flair) (0.18.3)\n",
            "Requirement already satisfied: cloudpickle in /usr/local/lib/python3.10/dist-packages (from hyperopt>=0.2.7->flair) (2.2.1)\n",
            "Requirement already satisfied: py4j in /usr/local/lib/python3.10/dist-packages (from hyperopt>=0.2.7->flair) (0.10.9.7)\n",
            "Requirement already satisfied: contourpy>=1.0.1 in /usr/local/lib/python3.10/dist-packages (from matplotlib>=2.2.3->flair) (1.0.7)\n",
            "Requirement already satisfied: cycler>=0.10 in /usr/local/lib/python3.10/dist-packages (from matplotlib>=2.2.3->flair) (0.11.0)\n",
            "Requirement already satisfied: fonttools>=4.22.0 in /usr/local/lib/python3.10/dist-packages (from matplotlib>=2.2.3->flair) (4.39.3)\n",
            "Requirement already satisfied: kiwisolver>=1.0.1 in /usr/local/lib/python3.10/dist-packages (from matplotlib>=2.2.3->flair) (1.4.4)\n",
            "Requirement already satisfied: pillow>=6.2.0 in /usr/local/lib/python3.10/dist-packages (from matplotlib>=2.2.3->flair) (8.4.0)\n",
            "Requirement already satisfied: pyparsing>=2.3.1 in /usr/local/lib/python3.10/dist-packages (from matplotlib>=2.2.3->flair) (3.0.9)\n",
            "Requirement already satisfied: joblib>=1.1.1 in /usr/local/lib/python3.10/dist-packages (from scikit-learn>=0.21.3->flair) (1.2.0)\n",
            "Requirement already satisfied: threadpoolctl>=2.0.0 in /usr/local/lib/python3.10/dist-packages (from scikit-learn>=0.21.3->flair) (3.1.0)\n",
            "Requirement already satisfied: sympy in /usr/local/lib/python3.10/dist-packages (from torch!=1.8,>=1.5.0->flair) (1.11.1)\n",
            "Requirement already satisfied: jinja2 in /usr/local/lib/python3.10/dist-packages (from torch!=1.8,>=1.5.0->flair) (3.1.2)\n",
            "Requirement already satisfied: triton==2.0.0 in /usr/local/lib/python3.10/dist-packages (from torch!=1.8,>=1.5.0->flair) (2.0.0)\n",
            "Requirement already satisfied: cmake in /usr/local/lib/python3.10/dist-packages (from triton==2.0.0->torch!=1.8,>=1.5.0->flair) (3.25.2)\n",
            "Requirement already satisfied: lit in /usr/local/lib/python3.10/dist-packages (from triton==2.0.0->torch!=1.8,>=1.5.0->flair) (16.0.5)\n",
            "Collecting datasets<3.0.0,>=2.0.0 (from transformer-smaller-training-vocab>=0.2.1->flair)\n",
            "  Downloading datasets-2.13.0-py3-none-any.whl (485 kB)\n",
            "\u001b[2K     \u001b[90m━━━━━━━━━━━━━━━━━━━━━━━━━━━━━━━━━━━━━━\u001b[0m \u001b[32m485.6/485.6 kB\u001b[0m \u001b[31m30.1 MB/s\u001b[0m eta \u001b[36m0:00:00\u001b[0m\n",
            "\u001b[?25hRequirement already satisfied: tokenizers!=0.11.3,<0.14,>=0.11.1 in /usr/local/lib/python3.10/dist-packages (from transformers[sentencepiece]>=4.18.0->flair) (0.13.3)\n",
            "Requirement already satisfied: safetensors>=0.3.1 in /usr/local/lib/python3.10/dist-packages (from transformers[sentencepiece]>=4.18.0->flair) (0.3.1)\n",
            "Requirement already satisfied: protobuf<=3.20.3 in /usr/local/lib/python3.10/dist-packages (from transformers[sentencepiece]>=4.18.0->flair) (3.20.3)\n",
            "Collecting botocore<1.30.0,>=1.29.158 (from boto3->flair)\n",
            "  Downloading botocore-1.29.158-py3-none-any.whl (10.9 MB)\n",
            "\u001b[2K     \u001b[90m━━━━━━━━━━━━━━━━━━━━━━━━━━━━━━━━━━━━━━━━\u001b[0m \u001b[32m10.9/10.9 MB\u001b[0m \u001b[31m87.2 MB/s\u001b[0m eta \u001b[36m0:00:00\u001b[0m\n",
            "\u001b[?25hCollecting jmespath<2.0.0,>=0.7.1 (from boto3->flair)\n",
            "  Downloading jmespath-1.0.1-py3-none-any.whl (20 kB)\n",
            "Collecting s3transfer<0.7.0,>=0.6.0 (from boto3->flair)\n",
            "  Downloading s3transfer-0.6.1-py3-none-any.whl (79 kB)\n",
            "\u001b[2K     \u001b[90m━━━━━━━━━━━━━━━━━━━━━━━━━━━━━━━━━━━━━━━━\u001b[0m \u001b[32m79.8/79.8 kB\u001b[0m \u001b[31m9.2 MB/s\u001b[0m eta \u001b[36m0:00:00\u001b[0m\n",
            "\u001b[?25hRequirement already satisfied: wcwidth>=0.2.5 in /usr/local/lib/python3.10/dist-packages (from ftfy->flair) (0.2.6)\n",
            "Requirement already satisfied: urllib3<1.27,>=1.25.4 in /usr/local/lib/python3.10/dist-packages (from botocore<1.30.0,>=1.29.158->boto3->flair) (1.26.15)\n",
            "Requirement already satisfied: pyarrow>=8.0.0 in /usr/local/lib/python3.10/dist-packages (from datasets<3.0.0,>=2.0.0->transformer-smaller-training-vocab>=0.2.1->flair) (9.0.0)\n",
            "Collecting dill<0.3.7,>=0.3.0 (from datasets<3.0.0,>=2.0.0->transformer-smaller-training-vocab>=0.2.1->flair)\n",
            "  Downloading dill-0.3.6-py3-none-any.whl (110 kB)\n",
            "\u001b[2K     \u001b[90m━━━━━━━━━━━━━━━━━━━━━━━━━━━━━━━━━━━━━━\u001b[0m \u001b[32m110.5/110.5 kB\u001b[0m \u001b[31m12.8 MB/s\u001b[0m eta \u001b[36m0:00:00\u001b[0m\n",
            "\u001b[?25hRequirement already satisfied: pandas in /usr/local/lib/python3.10/dist-packages (from datasets<3.0.0,>=2.0.0->transformer-smaller-training-vocab>=0.2.1->flair) (1.5.3)\n",
            "Collecting xxhash (from datasets<3.0.0,>=2.0.0->transformer-smaller-training-vocab>=0.2.1->flair)\n",
            "  Downloading xxhash-3.2.0-cp310-cp310-manylinux_2_17_x86_64.manylinux2014_x86_64.whl (212 kB)\n",
            "\u001b[2K     \u001b[90m━━━━━━━━━━━━━━━━━━━━━━━━━━━━━━━━━━━━━━\u001b[0m \u001b[32m212.5/212.5 kB\u001b[0m \u001b[31m21.8 MB/s\u001b[0m eta \u001b[36m0:00:00\u001b[0m\n",
            "\u001b[?25hCollecting multiprocess (from datasets<3.0.0,>=2.0.0->transformer-smaller-training-vocab>=0.2.1->flair)\n",
            "  Downloading multiprocess-0.70.14-py310-none-any.whl (134 kB)\n",
            "\u001b[2K     \u001b[90m━━━━━━━━━━━━━━━━━━━━━━━━━━━━━━━━━━━━━━\u001b[0m \u001b[32m134.3/134.3 kB\u001b[0m \u001b[31m15.3 MB/s\u001b[0m eta \u001b[36m0:00:00\u001b[0m\n",
            "\u001b[?25hCollecting aiohttp (from datasets<3.0.0,>=2.0.0->transformer-smaller-training-vocab>=0.2.1->flair)\n",
            "  Downloading aiohttp-3.8.4-cp310-cp310-manylinux_2_17_x86_64.manylinux2014_x86_64.whl (1.0 MB)\n",
            "\u001b[2K     \u001b[90m━━━━━━━━━━━━━━━━━━━━━━━━━━━━━━━━━━━━━━━━\u001b[0m \u001b[32m1.0/1.0 MB\u001b[0m \u001b[31m48.9 MB/s\u001b[0m eta \u001b[36m0:00:00\u001b[0m\n",
            "\u001b[?25hRequirement already satisfied: certifi>=2017.4.17 in /usr/local/lib/python3.10/dist-packages (from requests[socks]->gdown==4.4.0->flair) (2022.12.7)\n",
            "Requirement already satisfied: charset-normalizer~=2.0.0 in /usr/local/lib/python3.10/dist-packages (from requests[socks]->gdown==4.4.0->flair) (2.0.12)\n",
            "Requirement already satisfied: idna<4,>=2.5 in /usr/local/lib/python3.10/dist-packages (from requests[socks]->gdown==4.4.0->flair) (3.4)\n",
            "Collecting accelerate>=0.20.2 (from transformers[sentencepiece]>=4.18.0->flair)\n",
            "  Downloading accelerate-0.20.3-py3-none-any.whl (227 kB)\n",
            "\u001b[2K     \u001b[90m━━━━━━━━━━━━━━━━━━━━━━━━━━━━━━━━━━━━━━\u001b[0m \u001b[32m227.6/227.6 kB\u001b[0m \u001b[31m24.5 MB/s\u001b[0m eta \u001b[36m0:00:00\u001b[0m\n",
            "\u001b[?25hRequirement already satisfied: soupsieve>1.2 in /usr/local/lib/python3.10/dist-packages (from beautifulsoup4->gdown==4.4.0->flair) (2.4.1)\n",
            "Requirement already satisfied: MarkupSafe>=2.0 in /usr/local/lib/python3.10/dist-packages (from jinja2->torch!=1.8,>=1.5.0->flair) (2.1.2)\n",
            "Requirement already satisfied: PySocks!=1.5.7,>=1.5.6 in /usr/local/lib/python3.10/dist-packages (from requests[socks]->gdown==4.4.0->flair) (1.7.1)\n",
            "Requirement already satisfied: mpmath>=0.19 in /usr/local/lib/python3.10/dist-packages (from sympy->torch!=1.8,>=1.5.0->flair) (1.3.0)\n",
            "Requirement already satisfied: psutil in /usr/local/lib/python3.10/dist-packages (from accelerate>=0.20.2->transformers[sentencepiece]>=4.18.0->flair) (5.9.5)\n",
            "Requirement already satisfied: attrs>=17.3.0 in /usr/local/lib/python3.10/dist-packages (from aiohttp->datasets<3.0.0,>=2.0.0->transformer-smaller-training-vocab>=0.2.1->flair) (23.1.0)\n",
            "Collecting multidict<7.0,>=4.5 (from aiohttp->datasets<3.0.0,>=2.0.0->transformer-smaller-training-vocab>=0.2.1->flair)\n",
            "  Downloading multidict-6.0.4-cp310-cp310-manylinux_2_17_x86_64.manylinux2014_x86_64.whl (114 kB)\n",
            "\u001b[2K     \u001b[90m━━━━━━━━━━━━━━━━━━━━━━━━━━━━━━━━━━━━━━\u001b[0m \u001b[32m114.5/114.5 kB\u001b[0m \u001b[31m11.0 MB/s\u001b[0m eta \u001b[36m0:00:00\u001b[0m\n",
            "\u001b[?25hCollecting async-timeout<5.0,>=4.0.0a3 (from aiohttp->datasets<3.0.0,>=2.0.0->transformer-smaller-training-vocab>=0.2.1->flair)\n",
            "  Downloading async_timeout-4.0.2-py3-none-any.whl (5.8 kB)\n",
            "Collecting yarl<2.0,>=1.0 (from aiohttp->datasets<3.0.0,>=2.0.0->transformer-smaller-training-vocab>=0.2.1->flair)\n",
            "  Downloading yarl-1.9.2-cp310-cp310-manylinux_2_17_x86_64.manylinux2014_x86_64.whl (268 kB)\n",
            "\u001b[2K     \u001b[90m━━━━━━━━━━━━━━━━━━━━━━━━━━━━━━━━━━━━━━\u001b[0m \u001b[32m268.8/268.8 kB\u001b[0m \u001b[31m10.8 MB/s\u001b[0m eta \u001b[36m0:00:00\u001b[0m\n",
            "\u001b[?25hCollecting frozenlist>=1.1.1 (from aiohttp->datasets<3.0.0,>=2.0.0->transformer-smaller-training-vocab>=0.2.1->flair)\n",
            "  Downloading frozenlist-1.3.3-cp310-cp310-manylinux_2_5_x86_64.manylinux1_x86_64.manylinux_2_17_x86_64.manylinux2014_x86_64.whl (149 kB)\n",
            "\u001b[2K     \u001b[90m━━━━━━━━━━━━━━━━━━━━━━━━━━━━━━━━━━━━━━\u001b[0m \u001b[32m149.6/149.6 kB\u001b[0m \u001b[31m16.1 MB/s\u001b[0m eta \u001b[36m0:00:00\u001b[0m\n",
            "\u001b[?25hCollecting aiosignal>=1.1.2 (from aiohttp->datasets<3.0.0,>=2.0.0->transformer-smaller-training-vocab>=0.2.1->flair)\n",
            "  Downloading aiosignal-1.3.1-py3-none-any.whl (7.6 kB)\n",
            "Requirement already satisfied: pytz>=2020.1 in /usr/local/lib/python3.10/dist-packages (from pandas->datasets<3.0.0,>=2.0.0->transformer-smaller-training-vocab>=0.2.1->flair) (2022.7.1)\n",
            "Building wheels for collected packages: gdown, mpld3, sqlitedict, langdetect, pptree\n",
            "  Building wheel for gdown (pyproject.toml) ... \u001b[?25l\u001b[?25hdone\n",
            "  Created wheel for gdown: filename=gdown-4.4.0-py3-none-any.whl size=14759 sha256=314f1d5f4968422fe957b49f1005d10ef04c96bff4eea741d4494402079a463e\n",
            "  Stored in directory: /root/.cache/pip/wheels/03/0b/3f/6ddf67a417a5b400b213b0bb772a50276c199a386b12c06bfc\n",
            "  Building wheel for mpld3 (setup.py) ... \u001b[?25l\u001b[?25hdone\n",
            "  Created wheel for mpld3: filename=mpld3-0.3-py3-none-any.whl size=116685 sha256=fe0f3b5e470843e1fb5c519bf255f5afc6b080c7532cfb26faca2e510bdc9058\n",
            "  Stored in directory: /root/.cache/pip/wheels/9c/92/f7/45d9aac5dcfb1c2a1761a272365599cc7ba1050ce211a3fd9a\n",
            "  Building wheel for sqlitedict (setup.py) ... \u001b[?25l\u001b[?25hdone\n",
            "  Created wheel for sqlitedict: filename=sqlitedict-2.1.0-py3-none-any.whl size=16863 sha256=4102f7d73cbb8ed30f19ac10ea8517e66b7c2113b1fbb4e050ecd339e1841178\n",
            "  Stored in directory: /root/.cache/pip/wheels/79/d6/e7/304e0e6cb2221022c26d8161f7c23cd4f259a9e41e8bbcfabd\n",
            "  Building wheel for langdetect (setup.py) ... \u001b[?25l\u001b[?25hdone\n",
            "  Created wheel for langdetect: filename=langdetect-1.0.9-py3-none-any.whl size=993224 sha256=a3a7bc773a387960571b95799879ac8832378e80d7c0e7f15b4b0d257b1462b7\n",
            "  Stored in directory: /root/.cache/pip/wheels/95/03/7d/59ea870c70ce4e5a370638b5462a7711ab78fba2f655d05106\n",
            "  Building wheel for pptree (setup.py) ... \u001b[?25l\u001b[?25hdone\n",
            "  Created wheel for pptree: filename=pptree-3.1-py3-none-any.whl size=4609 sha256=9f01a64a211b4dcc2a2c864e3bdc408196d1b754eb613785c427725acef9489d\n",
            "  Stored in directory: /root/.cache/pip/wheels/9f/b6/0e/6f26eb9e6eb53ff2107a7888d72b5a6a597593956113037828\n",
            "Successfully built gdown mpld3 sqlitedict langdetect pptree\n",
            "Installing collected packages: sqlitedict, pptree, mpld3, janome, xxhash, segtok, multidict, langdetect, jmespath, ftfy, frozenlist, dill, deprecated, conllu, async-timeout, yarl, wikipedia-api, multiprocess, botocore, aiosignal, s3transfer, gdown, bpemb, aiohttp, boto3, datasets, accelerate, transformer-smaller-training-vocab, pytorch-revgrad, flair\n",
            "  Attempting uninstall: gdown\n",
            "    Found existing installation: gdown 4.6.6\n",
            "    Uninstalling gdown-4.6.6:\n",
            "      Successfully uninstalled gdown-4.6.6\n",
            "Successfully installed accelerate-0.20.3 aiohttp-3.8.4 aiosignal-1.3.1 async-timeout-4.0.2 boto3-1.26.158 botocore-1.29.158 bpemb-0.3.4 conllu-4.5.3 datasets-2.13.0 deprecated-1.2.14 dill-0.3.6 flair-0.12.2 frozenlist-1.3.3 ftfy-6.1.1 gdown-4.4.0 janome-0.4.2 jmespath-1.0.1 langdetect-1.0.9 mpld3-0.3 multidict-6.0.4 multiprocess-0.70.14 pptree-3.1 pytorch-revgrad-0.2.0 s3transfer-0.6.1 segtok-1.5.11 sqlitedict-2.1.0 transformer-smaller-training-vocab-0.2.4 wikipedia-api-0.5.8 xxhash-3.2.0 yarl-1.9.2\n"
          ]
        }
      ]
    },
    {
      "cell_type": "code",
      "source": [
        "f=open(\"/content/1958.INSC.124.txt\",'r')\n",
        "df=f.read()"
      ],
      "metadata": {
        "id": "E7jCN_xx3ZrS"
      },
      "execution_count": null,
      "outputs": []
    },
    {
      "cell_type": "code",
      "source": [
        "from keybert import KeyBERT\n",
        "from flair.embeddings import TransformerDocumentEmbeddings\n",
        "\n",
        "'''doc = \"\"\"\n",
        "         Supervised learning is the machine learning task of learning a function that\n",
        "         maps an input to an output based on example input-output pairs. It infers a\n",
        "         function from labeled training data consisting of a set of training examples.\n",
        "         In supervised learning, each example is a pair consisting of an input object\n",
        "         (typically a vector) and a desired output value (also called the supervisory signal).\n",
        "         A supervised learning algorithm analyzes the training data and produces an inferred function,\n",
        "         which can be used for mapping new examples. An optimal scenario will allow for the\n",
        "         algorithm to correctly determine the class labels for unseen instances. This requires\n",
        "         the learning algorithm to generalize from the training data to unseen situations in a\n",
        "         'reasonable' way (see inductive bias).\n",
        "      \"\"\"'''\n",
        "doc=df\n",
        "#roberta = TransformerDocumentEmbeddings('roberta-base')\n",
        "kw_model = KeyBERT(model='all-MiniLM-L6-v2')\n",
        "#keywords = kw_model.extract_keywords(doc)"
      ],
      "metadata": {
        "id": "-RtGGlg30MhV"
      },
      "execution_count": null,
      "outputs": []
    },
    {
      "cell_type": "code",
      "source": [
        "def ext1(doc):\n",
        "  kw_model = KeyBERT(model='all-MiniLM-L6-v2')\n",
        "  keywords = kw_model.extract_keywords(doc, keyphrase_ngram_range=(2,2), stop_words='english',\n",
        "                              use_mmr=True, diversity=0.3)\n",
        "  return keywords"
      ],
      "metadata": {
        "id": "MvAI710i9whH"
      },
      "execution_count": 62,
      "outputs": []
    },
    {
      "cell_type": "code",
      "source": [
        "def ext2(doc):\n",
        "  kw_model = KeyBERT()\n",
        "  keywords = kw_model.extract_keywords(doc, keyphrase_ngram_range=(2,2), stop_words='english',\n",
        "                              use_mmr=True, diversity=0.3)\n",
        "  return keywords"
      ],
      "metadata": {
        "id": "POmIbd5rIkvj"
      },
      "execution_count": 67,
      "outputs": []
    },
    {
      "cell_type": "code",
      "source": [
        "keywords = kw_model.extract_keywords(doc, keyphrase_ngram_range=(1, 3), stop_words='english',\n",
        "                              use_mmr=True, diversity=0.1)\n",
        "print(keywords)"
      ],
      "metadata": {
        "colab": {
          "base_uri": "https://localhost:8080/"
        },
        "id": "ET5q6I4T0Yi5",
        "outputId": "dca916ff-fa9a-4540-cf82-7c17892aa09f"
      },
      "execution_count": null,
      "outputs": [
        {
          "output_type": "stream",
          "name": "stdout",
          "text": [
            "[('indian evidence act', 0.6019), ('appellants case evidence', 0.5518), ('evidence act prosecution', 0.5488), ('appellants tried offences', 0.5228), ('result accused', 0.509)]\n"
          ]
        }
      ]
    },
    {
      "cell_type": "code",
      "source": [],
      "metadata": {
        "id": "rE5VLtBGBJm7"
      },
      "execution_count": null,
      "outputs": []
    },
    {
      "cell_type": "code",
      "source": [
        "from keybert import KeyBERT\n",
        "from sentence_transformers import SentenceTransformer\n",
        "def ext(doc):\n",
        "  sentence_model = SentenceTransformer(\"all-MiniLM-L6-v2\")\n",
        "  kw_model = KeyBERT(model=sentence_model)\n",
        "  keywords = kw_model.extract_keywords(doc, keyphrase_ngram_range=(2, 2), stop_words='english',\n",
        "                              use_mmr=True, diversity=0.3)\n",
        "  return keywords"
      ],
      "metadata": {
        "id": "lPsm9FpCBAn6"
      },
      "execution_count": 58,
      "outputs": []
    },
    {
      "cell_type": "code",
      "source": [
        "keywords = kw_model.extract_keywords(doc, keyphrase_ngram_range=(2, 2), stop_words='english',\n",
        "                              use_mmr=True, diversity=0.3)\n",
        "print(keywords)"
      ],
      "metadata": {
        "colab": {
          "base_uri": "https://localhost:8080/"
        },
        "id": "AdQS6pEMBKys",
        "outputId": "dfb3c641-5ee9-4cf4-db96-ce49cecd63d6"
      },
      "execution_count": null,
      "outputs": [
        {
          "output_type": "stream",
          "name": "stdout",
          "text": [
            "[('result accused', 0.509), ('evidence act', 0.4983), ('indian evidence', 0.4889), ('offences appellants', 0.4782), ('assault necessary', 0.4277)]\n"
          ]
        }
      ]
    },
    {
      "cell_type": "code",
      "source": [
        "import zipfile\n",
        "zip_path = '/content/clean_random_200_doc.zip'\n",
        "with zipfile.ZipFile(zip_path, 'r') as zip_ref:\n",
        "    zip_ref.extractall()"
      ],
      "metadata": {
        "id": "agfxf_xlDsLb"
      },
      "execution_count": 53,
      "outputs": []
    },
    {
      "cell_type": "code",
      "source": [
        "def chunking(d):\n",
        "  d=d.replace(\"\\n\",\"\")\n",
        "  l=d.split(\" \")\n",
        "  l1=[]\n",
        "  k=\"\"\n",
        "  for i in l:\n",
        "    k+=str(i)+\" \"\n",
        "    s=k.split(\" \")\n",
        "    if len(s)==500:\n",
        "      l1.append(k)\n",
        "      k=\"\"\n",
        "      st=\" \".join(j for j in s[-20:])\n",
        "      k=st+\" \"\n",
        "  l1.append(st+\" \"+k)\n",
        "  return l1"
      ],
      "metadata": {
        "id": "m5_g2I-rdszS"
      },
      "execution_count": 104,
      "outputs": []
    },
    {
      "cell_type": "code",
      "source": [
        "import os\n",
        "fn=\"/content/clean_random_200_doc\"\n",
        "filename=os.listdir(fn)"
      ],
      "metadata": {
        "id": "U-8YDNXVEeIS"
      },
      "execution_count": 55,
      "outputs": []
    },
    {
      "cell_type": "code",
      "source": [
        "import pandas as pd\n",
        "l=[]\n",
        "for i in filename:\n",
        "  fp=fn+\"/\"+i\n",
        "  f=open(fp,'r')\n",
        "  l1=chunking(f.read())\n",
        "  res=[]\n",
        "  for j in l1:\n",
        "    res.extend(ext(j))\n",
        "  l.append([i,res])\n",
        "print(l)"
      ],
      "metadata": {
        "colab": {
          "base_uri": "https://localhost:8080/"
        },
        "id": "HIU_5m4RFEeH",
        "outputId": "3cd3f9d8-9041-404a-c219-ff704007b571"
      },
      "execution_count": 68,
      "outputs": [
        {
          "output_type": "stream",
          "name": "stdout",
          "text": [
            "[['2005.INSC.336.txt', [('murder murugan', 0.5607), ('naolekar accused', 0.531), ('persons acquitted', 0.5149), ('appeal prosecution', 0.5001), ('seeman veeranam', 0.4745)]], ['2008.INSC.1943.txt', [('judgment acquittal', 0.6082), ('appeal accused', 0.5972), ('prosecution rajiulla', 0.5585), ('pradesh filed', 0.4552), ('mamu appellant', 0.3947)]], ['2008.INSC.247.txt', [('judgment rajasthan', 0.6215), ('rajasthan lala', 0.5431), ('bhagirath incident', 0.5017), ('criminal appeal', 0.4851), ('jai singh', 0.4744)]], ['1988.INSC.357.txt', [('preventively detained', 0.4952), ('constitution india', 0.4769), ('detention vijay', 0.4615), ('security act', 0.4525), ('compliance insisted', 0.3886)]], ['1996.INSC.1547.txt', [('accused jusabmiya', 0.5473), ('girishbhai victim', 0.5032), ('charge murder', 0.4784), ('appellants convicted', 0.4764), ('ipc sentenced', 0.4476)]], ['2009.INSC.1044.txt', [('singh accused', 0.5896), ('indian penal', 0.5531), ('court punjab', 0.5507), ('convicted gurlabh', 0.4764), ('depositions bakhtawar', 0.424)]], ['2010.INSC.65.txt', [('india criminal', 0.5312), ('ganguly appeals', 0.5177), ('discussed appeal', 0.4711), ('scooter accused', 0.4475), ('pw incident', 0.3973)]], ['1997.INSC.652.txt', [('accused bhagwan', 0.6057), ('judicature allahabad', 0.5274), ('kalicharan case', 0.523), ('khare act', 0.5045), ('criminal appeal', 0.4869)]], ['1976.INSC.143.txt', [('subhash sentenced', 0.602), ('appellants subhash', 0.5313), ('narain convicted', 0.4572), ('arrest appellants', 0.4203), ('postmortem examination', 0.3743)]], ['2007.INSC.516.txt', [('indian penal', 0.5881), ('jain criminal', 0.5567), ('bench rajasthan', 0.5091), ('accused sunderlal', 0.4914), ('judgment conviction', 0.4747)]], ['2004.INSC.756.txt', [('appeal acquitted', 0.5632), ('judicature andhra', 0.5535), ('prosecution respondent', 0.5399), ('ipc sentenced', 0.4946), ('singh respondent', 0.472)]], ['1993.INSC.170.txt', [('indian penal', 0.5712), ('judgment punjab', 0.5284), ('counsel appellants', 0.5201), ('accused sukhpal', 0.5078), ('appeal convicted', 0.4986)]], ['2009.INSC.1305.txt', [('diwani ra', 0.4644), ('devi disappearance', 0.4383), ('taken appeal', 0.4085), ('fact sati', 0.4019), ('leave arises', 0.3914)]], ['2006.INSC.900.txt', [('singh falsely', 0.6122), ('singh interrogation', 0.6021), ('murdered rajbir', 0.5972), ('singh deceased', 0.5918), ('singh appellant', 0.5626)]], ['1992.INSC.129.txt', [('appeal acquittal', 0.6209), ('court appeal', 0.5803), ('criminal appellate', 0.558), ('201 conviction', 0.5217), ('ipc sentencing', 0.4196)]], ['1961.INSC.328.txt', [('charge verdict', 0.4462), ('lawcite cit', 0.4123), ('provocation exception', 0.3936), ('investigation 117', 0.3919), ('ascertainment suddenness', 0.3904)]], ['2016.INSC.377.txt', [('rambraksh accused', 0.6093), ('judge surajpur', 0.5588), ('indian penal', 0.5443), ('court chhatisgarh', 0.5263), ('accused ambikapur', 0.5129)]], ['1991.INSC.227.txt', [('indian penal', 0.6), ('appellant conviction', 0.489), ('141 prosecution', 0.4574), ('commission offence', 0.4544), ('pradesh 1991', 0.4368)]], ['2011.INSC.447.txt', [('mahajan alleged', 0.6423), ('mahajan appellant', 0.6003), ('india criminal', 0.592), ('sirpurkar appeal', 0.5404), ('ablaze prosecution', 0.4486)]], ['2008.INSC.57.txt', [('court bombay', 0.548), ('indian penal', 0.5174), ('respondent prosecution', 0.4972), ('maharashtra devahari', 0.4816), ('nagpur lodged', 0.4722)]], ['2009.INSC.1767.txt', [('accused balaji', 0.6559), ('2009 judgement', 0.4892), ('indian penal', 0.4849), ('kabir appeal', 0.474), ('dhanalakshmi wife', 0.4161)]], ['2006.INSC.393.txt', [('court indore', 0.5518), ('accused pappu', 0.4942), ('judgment conviction', 0.4786), ('lodged madhu', 0.4725), ('pasayat kapadia', 0.4624)]], ['2013.INSC.314.txt', [('court madhya', 0.5967), ('accused ramswaroop', 0.4867), ('indian penal', 0.4741), ('appeal prosecution', 0.4728), ('appellants ramjilal', 0.4664)]], ['1996.INSC.389.txt', [('singh convicted', 0.6495), ('singh trial', 0.6416), ('singh accused', 0.634), ('singh joginder', 0.5081), ('interrogated raghubir', 0.4927)]], ['2003.INSC.41.txt', [('accused jaipal', 0.594), ('offence sentenced', 0.5164), ('court judicature', 0.5077), ('singh appeal', 0.4863), ('lal died', 0.4489)]], ['2009.INSC.1060.txt', [('court india', 0.5509), ('judgment acquittal', 0.5249), ('singh appellant', 0.5114), ('chandigarh criminal', 0.4924), ('sinha appeal', 0.4727)]], ['1971.INSC.336.txt', [('india appeals', 0.5615), ('prosecutor india', 0.5332), ('acquittal conviction', 0.5266), ('prosecution 772', 0.4575), ('evidence act', 0.4386)]], ['1961.INSC.123.txt', [('trespasser abide', 0.4759), ('indian penal', 0.4531), ('pradesh 1961', 0.4358), ('attacked appellants', 0.3901), ('605 circumstances', 0.3879)]], ['2014.INSC.164.txt', [('court india', 0.5547), ('india negligence', 0.5503), ('appellants appeals', 0.4806), ('responsible sanctioning', 0.4386), ('conclusion sushil', 0.4228)]], ['1999.INSC.152.txt', [('convicted appellants', 0.5839), ('judicature allahabad', 0.529), ('farrukhabad convicted', 0.4837), ('ramesh lodged', 0.4549), ('siddique ors', 0.4065)]], ['1997.INSC.717.txt', [('indian penal', 0.5825), ('court madhya', 0.5721), ('singh punished', 0.5626), ('singh lodged', 0.5361), ('disputed appeals', 0.4752)]], ['2010.INSC.236.txt', [('sharma appeals', 0.6402), ('court india', 0.5748), ('indian penal', 0.5568), ('singh deceased', 0.5277), ('sri vikramaditya', 0.4537)]], ['1964.INSC.198.txt', [('cattle seized', 0.6697), ('cattle trespassing', 0.6511), ('cattle detaining', 0.6412), ('cattle offence', 0.6272), ('bihar appealed', 0.3944)]], ['1996.INSC.458.txt', [('appellant convicted', 0.5393), ('prosecution sought', 0.5084), ('indian penal', 0.4987), ('ishwar lal', 0.4631), ('murder chhita', 0.4259)]], ['2010.INSC.749.txt', [('indian penal', 0.6177), ('court india', 0.5935), ('singh appellant', 0.5686), ('singh sunder', 0.5643), ('dismissed sirpurkar', 0.474)]], ['2013.INSC.940.txt', [('india criminal', 0.5284), ('tamang petitioner', 0.5169), ('bhartiya gorkha', 0.4957), ('killed alleged', 0.4584), ('gjmm abort', 0.3654)]], ['2008.INSC.1347.txt', [('appellant aizaz', 0.5716), ('conviction appellants', 0.5334), ('indian penal', 0.4908), ('legality judgment', 0.4377), ('acquittal imlak', 0.4165)]], ['2009.INSC.418.txt', [('singh appellants', 0.6049), ('indian penal', 0.5994), ('court india', 0.5565), ('judicature allahabad', 0.5454), ('judgment conviction', 0.514)]], ['2004.INSC.166.txt', [('appeal alleged', 0.5325), ('ipc convicting', 0.4558), ('satyavathi bandala', 0.4552), ('murdered respondents', 0.4382), ('judicature andhra', 0.4345)]], ['2012.INSC.4.txt', [('india criminal', 0.547), ('governor manipur', 0.5334), ('manipur appellant', 0.533), ('issuance detention', 0.5091), ('yumman ongbi', 0.4345)]], ['2013.INSC.922.txt', [('death proceedings', 0.5161), ('penalty death', 0.489), ('india criminal', 0.4845), ('rajasthan appeal', 0.4772), ('punjab principle', 0.3924)]], ['2012.INSC.165.txt', [('india criminal', 0.5678), ('incident ramchandra', 0.546), ('singh incident', 0.4972), ('narendra convicted', 0.4663), ('dismissed lodha', 0.4242)]], ['2014.INSC.318.txt', [('balbir prosecution', 0.5915), ('criminal appeal', 0.5864), ('rajgarh trial', 0.5789), ('rajasthan appellant', 0.5666), ('accused vazir', 0.5038)]], ['1988.INSC.203.txt', [('trial india', 0.583), ('tihar trial', 0.5813), ('tihar jail', 0.5369), ('prosecution satwant', 0.5136), ('court validity', 0.4224)]], ['2015.INSC.820.txt', [('ramesh convicted', 0.5814), ('judicature rajasthan', 0.5651), ('indian penal', 0.5286), ('prithviraj singh', 0.45), ('suicide hanging', 0.4078)]], ['1989.INSC.46.txt', [('dowry offence', 0.6511), ('indian penal', 0.5816), ('magistrate stated', 0.4601), ('cover offence', 0.4349), ('lodged report', 0.4122)]], ['1962.INSC.204.txt', [('kumar murdered', 0.5488), ('appellant convicted', 0.4859), ('indian penal', 0.4838), ('body prosecution', 0.4619), ('1961 murder', 0.4432)]], ['2004.INSC.478.txt', [('appellant sentenced', 0.4831), ('guilty offence', 0.4571), ('pereira robbing', 0.4567), ('accused gilbert', 0.4556), ('court ashok', 0.4476)]], ['1964.INSC.70.txt', [('previous prosecution', 0.4968), ('manipur criminal', 0.48), ('punjab trial', 0.4772), ('136 accused', 0.4365), ('1964 scr', 0.3447)]], ['2012.INSC.177.txt', [('bhajju doubts', 0.5851), ('court india', 0.5797), ('died bhajju', 0.5549), ('pradesh bhajju', 0.5528), ('singh appellant', 0.5363)]], ['2015.INSC.887.txt', [('criminal appeal', 0.6334), ('2011 appeals', 0.582), ('appeal 2230', 0.5701), ('judicature allahabad', 0.5557), ('singh appellant', 0.482)]], ['2011.INSC.868.txt', [('appeal prosecution', 0.599), ('court india', 0.5508), ('appellants convicted', 0.5137), ('appellants father', 0.4061), ('mool chand', 0.4048)]], ['1998.INSC.33.txt', [('karnataka convicting', 0.659), ('justice srinivasan', 0.6457), ('court karnataka', 0.64), ('appellant counsel', 0.4392), ('following judgment', 0.4145)]], ['2015.INSC.162.txt', [('india criminal', 0.5483), ('singh deceased', 0.5244), ('court uttarakhand', 0.516), ('sentenced appellant', 0.509), ('appeal article', 0.3927)]], ['1995.INSC.302.txt', [('rajasthan judgment', 0.7717), ('rajasthan prithvi', 0.5672), ('reddy appeal', 0.5327), ('justice jayachandra', 0.5321), ('raj 1995', 0.5012)]], ['1994.INSC.568.txt', [('indian penal', 0.548), ('mukherjee appeal', 0.5324), ('singh deceased', 0.5236), ('punjab 1994', 0.4691), ('prosecution betrothal', 0.4209)]], ['2008.INSC.166.txt', [('indian penal', 0.6108), ('court indore', 0.5375), ('judgment conviction', 0.4989), ('convicted appellant', 0.4926), ('sathasivam criminal', 0.4732)]], ['2008.INSC.951.txt', [('singh prosecution', 0.6513), ('singh sentenced', 0.6391), ('indian penal', 0.6222), ('singh umrao', 0.5565), ('appellants appeals', 0.454)]], ['2015.INSC.82.txt', [('court india', 0.5995), ('savitribai appeals', 0.5366), ('criminal appeal', 0.5351), ('maharashtra respondent', 0.5264), ('onkar pund', 0.4761)]], ['2016.INSC.518.txt', [('criminal appeals', 0.5892), ('india criminal', 0.5673), ('appellants sentenced', 0.5302), ('sentences court', 0.5177), ('singh cases', 0.5001)]], ['2004.INSC.333.txt', [('singh guilty', 0.5673), ('judgment acquittal', 0.53), ('indian penal', 0.5171), ('respondents convicted', 0.5148), ('muzaffarnagar trial', 0.507)]], ['2007.INSC.992.txt', [('singh trial', 0.6163), ('judgment punjab', 0.5891), ('indian penal', 0.5609), ('accused ajit', 0.5118), ('pasayat appeals', 0.505)]], ['2008.INSC.1985.txt', [('accused moorthy', 0.5521), ('court india', 0.5243), ('bhandari appeal', 0.5219), ('appellant convicted', 0.4927), ('dispose appeal', 0.4847)]], ['2007.INSC.803.txt', [('singh trial', 0.6441), ('singh petition', 0.5938), ('judge allahabad', 0.537), ('lodged nigam', 0.5025), ('result appeal', 0.4507)]], ['2012.INSC.399.txt', [('sentenced appellant', 0.6547), ('counsel appellant', 0.6113), ('court india', 0.6067), ('criminal appeal', 0.5157), ('accused ramesh', 0.476)]], ['1996.INSC.239.txt', [('offences prosecution', 0.5171), ('appeals bajirao', 0.4921), ('indicted sessions', 0.4828), ('acquittal appellants', 0.4797), ('ansaram lodged', 0.4279)]], ['1997.INSC.913.txt', [('murder ashok', 0.6468), ('convicted appellant', 0.579), ('nanavati appellant', 0.499), ('prosecution failed', 0.4828), ('ipc appeal', 0.4072)]], ['1991.INSC.76.txt', [('singh rifle', 0.5328), ('firing deceased', 0.479), ('1991 ramaswami', 0.4601), ('accused shot', 0.432), ('death evidence', 0.4024)]], ['1996.INSC.1657.txt', [('indian penal', 0.5831), ('pune accused', 0.5392), ('appellants convicted', 0.5247), ('kurdukar criminal', 0.5159), ('shankar sentenced', 0.4926)]], ['1998.INSC.152.txt', [('accused rita', 0.5608), ('judgment punjab', 0.5294), ('nanavati khare', 0.5056), ('kaur dying', 0.4028), ('convicted gian', 0.3855)]], ['2000.INSC.321.txt', [('appellant convicted', 0.5667), ('sabharwal appellant', 0.5537), ('bahadur naik', 0.5255), ('triveni succumbed', 0.5092), ('pw incident', 0.3738)]], ['2006.INSC.948.txt', [('indian penal', 0.5376), ('death sentence', 0.4981), ('court jodhpur', 0.4921), ('appeal judgment', 0.4708), ('arijit pasayat', 0.4124)]], ['2008.INSC.2081.txt', [('indian penal', 0.6051), ('court india', 0.6022), ('accused prabhu', 0.5551), ('bench madhya', 0.5279), ('appeal judgment', 0.5102)]], ['2010.INSC.1244.txt', [('indian penal', 0.5669), ('punjab appellant', 0.5512), ('criminal appellate', 0.5143), ('appeals dismissed', 0.4635), ('dismissed harjit', 0.3884)]], ['2012.INSC.522.txt', [('court india', 0.5854), ('filed juvenile', 0.489), ('status juvenility', 0.4435), ('dismissed appeal', 0.4404), ('inquiry act', 0.4169)]], ['2015.INSC.709.txt', [('india criminal', 0.5323), ('deceased tanaji', 0.4771), ('devappa rathod', 0.4468), ('durgamata temple', 0.4213), ('11 appeal', 0.3688)]], ['2000.INSC.267.txt', [('singh convicted', 0.6026), ('prosecution incident', 0.5078), ('haryana appeal', 0.4716), ('appellants claim', 0.4531), ('court punjab', 0.4497)]], ['1983.INSC.70.txt', [('appellants acquittal', 0.6064), ('prosecution balwant', 0.5662), ('haryana 1983', 0.4902), ('singh tortured', 0.4712), ('kishan acquitted', 0.4681)]], ['1976.INSC.139.txt', [('punjab jail', 0.5617), ('law madhya', 0.4737), ('pradesh filed', 0.4722), ('sentenced transferor', 0.4721), ('1976 scr', 0.4233)]], ['2009.INSC.324.txt', [('singh claimed', 0.5731), ('singh died', 0.5611), ('singh filed', 0.554), ('brijesh kumar', 0.4858), ('criminal appeal', 0.3593)]], ['1968.INSC.304.txt', [('bin lawcite', 0.5026), ('cit 1971', 0.451), ('citation 1969', 0.4432), ('1091 cgi', 0.3916), ('sc 44', 0.3894)]], ['2015.INSC.430.txt', [('indian penal', 0.5795), ('haryana fir', 0.4965), ('ramesh convicted', 0.4858), ('appeal 1189', 0.4427), ('murder nand', 0.4206)]], ['1994.INSC.569.txt', [('haryana judgment', 0.6213), ('indian penal', 0.5422), ('accused radha', 0.5227), ('lodged palwal', 0.483), ('appellants prosecution', 0.4807)]], ['2009.INSC.878.txt', [('india criminal', 0.5945), ('court india', 0.5902), ('conviction appellant', 0.5132), ('appeal judgment', 0.4712), ('maqsood appellant', 0.4101)]], ['2002.INSC.45.txt', [('prosecution appellants', 0.5568), ('singh incident', 0.5158), ('court punjab', 0.4731), ('ipc sentenced', 0.4503), ('judge judgment', 0.4434)]], ['2008.INSC.1772.txt', [('indian penal', 0.6143), ('rajasthan appellant', 0.5689), ('judgment acquittal', 0.5503), ('narayan respondent', 0.4674), ('judge sikar', 0.459)]], ['1970.INSC.73.txt', [('murder accused', 0.51), ('murder mahamed', 0.4972), ('conspiracy offences', 0.4941), ('accused mohammad', 0.4712), ('indian penal', 0.4582)]], ['2010.INSC.1102.txt', [('appellant sanjay', 0.5638), ('jain appellant', 0.5553), ('jain married', 0.5147), ('court delhi', 0.511), ('result appeal', 0.4093)]], ['2012.INSC.183.txt', [('court india', 0.5786), ('indian penal', 0.5747), ('criminal appeals', 0.5649), ('singh lodged', 0.5048), ('jai prakash', 0.4734)]], ['2002.INSC.567.txt', [('convicted jagmender', 0.5241), ('accused ram', 0.4448), ('state haryana', 0.4371), ('offences sections', 0.435), ('imposed suraj', 0.4232)]], ['1971.INSC.33.txt', [('death sentence', 0.4792), ('delay appeal', 0.4784), ('bengal 1971', 0.4479), ('1968 judgment', 0.3973), ('sikri case', 0.3501)]], ['2003.INSC.538.txt', [('accused appellant', 0.586), ('indian penal', 0.5411), ('convicted offence', 0.5259), ('accused kakka', 0.4882), ('zaveriben pw', 0.341)]], ['1996.INSC.1451.txt', [('singh appellant', 0.6204), ('according prosecution', 0.4932), ('trial jahangir', 0.4582), ('appeal dismissed', 0.4403), ('kurdukar act', 0.4201)]], ['2008.INSC.1718.txt', [('court india', 0.6123), ('indian penal', 0.5911), ('accused rajendra', 0.5338), ('prosecution case', 0.516), ('appeal judgment', 0.5146)]], ['2015.INSC.759.txt', [('karnataka acquittal', 0.6194), ('reddy witnesses', 0.5291), ('court india', 0.5251), ('appeal judgment', 0.5007), ('fir lodged', 0.4271)]], ['2008.INSC.1771.txt', [('indian penal', 0.5611), ('singh accused', 0.5539), ('prosecution bhupinder', 0.5428), ('punjab appellant', 0.5223), ('accused gurdev', 0.5156)]], ['2009.INSC.991.txt', [('court india', 0.5999), ('indian penal', 0.5486), ('appeal judgment', 0.5271), ('criminal appellate', 0.478), ('mirdha appellant', 0.4544)]], ['2005.INSC.262.txt', [('judicature allahabad', 0.5966), ('court judicature', 0.589), ('court appeal', 0.5441), ('indian penal', 0.5349), ('prosecution pw1', 0.4362)]], ['2013.INSC.441.txt', [('court uttarakhand', 0.6068), ('indian penal', 0.5939), ('sentenced appellant', 0.5238), ('chandra verma', 0.4732), ('dismissed appeal', 0.4253)]], ['2009.INSC.1125.txt', [('govindaraju convicted', 0.7035), ('accused govindaraju', 0.7), ('court india', 0.5584), ('karnataka respondent', 0.53), ('sirpurkar appeal', 0.5155)]], ['2009.INSC.398.txt', [('court india', 0.5898), ('accused syed', 0.5401), ('appeal 2009', 0.5396), ('syed hakkim', 0.5001), ('result conviction', 0.4771)]], ['2016.INSC.200.txt', [('singh appellant', 0.6238), ('ramana appeals', 0.5685), ('judicature allahabad', 0.5639), ('indian penal', 0.5544), ('appeals accused', 0.5459)]], ['2006.INSC.653.txt', [('court punjab', 0.5784), ('appellants appeals', 0.5693), ('singh appellants', 0.5648), ('criminal appeal', 0.5635), ('singh convicted', 0.5254)]], ['1993.INSC.267.txt', [('dubai conspiracy', 0.5565), ('india prosecution', 0.4993), ('conspiracy offence', 0.4701), ('chandigarh conspiracy', 0.4593), ('202433 rule', 0.3582)]], ['2009.INSC.1015.txt', [('accused dipak', 0.6035), ('halder alleged', 0.498), ('indian penal', 0.4946), ('acquittal appellants', 0.4809), ('appeal judgment', 0.4443)]], ['2008.INSC.245.txt', [('bangalore lodged', 0.5265), ('complaint criminal', 0.5209), ('cognizance offence', 0.4529), ('appeal referred', 0.4517), ('notice appellant', 0.4336)]], ['2002.INSC.329.txt', [('dowry prohibition', 0.659), ('demon dowry', 0.6518), ('satisfied dowry', 0.6071), ('neeta married', 0.4609), ('banswara rajasthan', 0.4421)]], ['2008.INSC.1205.txt', [('court rajasthan', 0.6337), ('judge udaipur', 0.6289), ('indian penal', 0.6), ('singh appellant', 0.494), ('judgment conviction', 0.4852)]], ['2002.INSC.474.txt', [('indian penal', 0.5115), ('liable act', 0.4571), ('statutory recognition', 0.4489), ('section 34', 0.4136), ('intention common', 0.3929)]], ['2004.INSC.146.txt', [('acquittal accused', 0.5871), ('retrial trial', 0.5695), ('singh accused', 0.5341), ('sabharwal appellants', 0.5239), ('yadav court', 0.4981)]], ['2008.INSC.1014.txt', [('judgment acquittal', 0.6064), ('criminal appeal', 0.605), ('court india', 0.5713), ('counsel appellant', 0.4448), ('syed peda', 0.4028)]], ['1963.INSC.183.txt', [('prior acquittal', 0.5914), ('relating assault', 0.5896), ('convicted appellants', 0.5238), ('incidents trial', 0.5226), ('charges conviction', 0.5064)]], ['2013.INSC.349.txt', [('search form', 0.4669), ('court india', 0.4626), ('liiofindia databases', 0.4389), ('raigarh attended', 0.3892), ('query insc', 0.3604)]], ['2009.INSC.135.txt', [('appellant convicted', 0.5923), ('indian penal', 0.5911), ('india criminal', 0.5813), ('criminal appellate', 0.4943), ('eerati laxman', 0.3982)]], ['2001.INSC.117.txt', [('indian penal', 0.6208), ('judgment patna', 0.574), ('agrawal appeal', 0.5189), ('bihar 2001', 0.4852), ('appellant convicted', 0.4823)]], ['2013.INSC.133.txt', [('indian penal', 0.5668), ('court india', 0.5643), ('separate appeals', 0.5287), ('assam respondent', 0.5137), ('judgment conviction', 0.5102)]], ['2002.INSC.360.txt', [('criminal appeal', 0.5531), ('undergo imprisonment', 0.4591), ('agrawal meharban', 0.4563), ('accused bahadur', 0.4525), ('respectively appellants', 0.3432)]], ['2008.INSC.691.txt', [('indian penal', 0.5761), ('appeal accused', 0.5189), ('appellant conviction', 0.5023), ('ipc conviction', 0.4976), ('pasayat sathasivam', 0.4555)]], ['2014.INSC.287.txt', [('indian penal', 0.6067), ('singh accused', 0.5289), ('haryana respondent', 0.518), ('ipc sentenced', 0.5178), ('court jagbir', 0.4919)]], ['2008.INSC.1830.txt', [('court india', 0.5686), ('appealed suspended', 0.5052), ('pending rajasthan', 0.4887), ('versus rajendra', 0.4761), ('yadav appellant', 0.4548)]], ['2012.INSC.161.txt', [('delhi petitions', 0.6376), ('court india', 0.5469), ('gujarat trial', 0.535), ('petitioners prosecution', 0.4957), ('investigation transferred', 0.4685)]], ['2004.INSC.765.txt', [('judicature allahabad', 0.6028), ('singh appeal', 0.5888), ('court judicature', 0.5772), ('judgment order', 0.4947), ('accused ram', 0.4874)]], ['1998.INSC.553.txt', [('haryana criminal', 0.558), ('mukherjee appeal', 0.5353), ('singh died', 0.5276), ('dr vijay', 0.4383), ('mortem examination', 0.3873)]], ['2006.INSC.350.txt', [('indian penal', 0.5282), ('accused tej', 0.5246), ('judge delhi', 0.492), ('appellants dismissed', 0.4491), ('kabir arising', 0.4188)]], ['2011.INSC.616.txt', [('accused sayaji', 0.5636), ('court india', 0.5498), ('bankar appellant', 0.5393), ('hanmat bankar', 0.5145), ('appellant convicted', 0.5104)]], ['1993.INSC.98.txt', [('indian penal', 0.5174), ('indian evidence', 0.4752), ('appellant evidence', 0.4708), ('prosecution deceased', 0.4662), ('ipc conviction', 0.4433)]], ['1969.INSC.120.txt', [('indian penal', 0.5205), ('bhalas prosecution', 0.5198), ('respondents prosecution', 0.4515), ('defend property', 0.3971), ('lathis attacked', 0.3835)]], ['2013.INSC.752.txt', [('singh appellant', 0.5562), ('accused dharminder', 0.5459), ('court india', 0.526), ('delhi sentenced', 0.5112), ('criminal appeal', 0.5044)]], ['2008.INSC.5.txt', [('appellants sentenced', 0.5844), ('indian penal', 0.5709), ('proceeding appeal', 0.5344), ('prosecution non', 0.5021), ('indian evidence', 0.4598)]], ['2013.INSC.627.txt', [('india criminal', 0.5839), ('courts india', 0.5622), ('imprisonment offence', 0.543), ('302 offences', 0.5418), ('appeal accused', 0.4402)]], ['2009.INSC.656.txt', [('courts india', 0.5668), ('karnataka respondent', 0.5596), ('appeal conviction', 0.505), ('ramappa madar', 0.4595), ('husband ratnavva', 0.3766)]], ['2010.INSC.284.txt', [('india criminal', 0.5871), ('india courts', 0.574), ('judgment madras', 0.5376), ('appellants judicial', 0.4886), ('murugesan deceased', 0.4024)]], ['1990.INSC.336.txt', [('singh conviction', 0.5438), ('appellant offence', 0.5192), ('indian penal', 0.5101), ('intention accused', 0.4785), ('1990 scr', 0.3643)]], ['1998.INSC.141.txt', [('judgment punjab', 0.5407), ('balwant kaur', 0.5363), ('court bhatinda', 0.5226), ('appellant convicted', 0.505), ('singh killed', 0.4757)]], ['1996.INSC.523.txt', [('assassin delhi', 0.6144), ('delhi lost', 0.5532), ('sikhs different', 0.4649), ('singh evidence', 0.4574), ('shocking victims', 0.4247)]], ['1993.INSC.504.txt', [('gruesome massacre', 0.5625), ('kestara criminal', 0.47), ('persons killed', 0.4531), ('killed rukhmaj', 0.4029), ('caste prosecuted', 0.3808)]], ['1999.INSC.183.txt', [('singh appellant', 0.5813), ('court amritsar', 0.5007), ('accused paramjit', 0.4449), ('punjab 1999', 0.4326), ('evidence sajjan', 0.4187)]], ['2006.INSC.753.txt', [('judicature rajasthan', 0.5985), ('singh appeal', 0.5905), ('jodhpur criminal', 0.5312), ('1999 sentencing', 0.4889), ('judgment order', 0.4409)]], ['2001.INSC.131.txt', [('1998 appeal', 0.5683), ('cases hitendra', 0.5205), ('indian penal', 0.4827), ('pappu bhudharmal', 0.4489), ('thane pune', 0.4487)]], ['2010.INSC.727.txt', [('elections bihar', 0.5827), ('singh case', 0.5767), ('india criminal', 0.5592), ('report maharajganj', 0.5155), ('brother bharat', 0.4614)]], ['2007.INSC.393.txt', [('judge orissa', 0.6042), ('agarwal case', 0.5231), ('court indefensible', 0.5134), ('bail imposing', 0.4772), ('appellant lodged', 0.4473)]], ['2012.INSC.214.txt', [('indian penal', 0.5953), ('imprisonment fine', 0.5668), ('bilaspur convicted', 0.5568), ('death sentence', 0.526), ('hanged till', 0.4753)]], ['2012.INSC.811.txt', [('dnyaneshwar haibhau', 0.5699), ('indian penal', 0.5099), ('murder dhondiram', 0.4678), ('haribhau expired', 0.4655), ('criminal appeal', 0.4098)]], ['2010.INSC.767.txt', [('singh defendants', 0.6535), ('singh raghbinder', 0.5373), ('killed lal', 0.478), ('lakhs damages', 0.4413), ('bant kaur', 0.4273)]], ['1997.INSC.108.txt', [('confession upheld', 0.5298), ('disclosed offence', 0.5167), ('appellant evidence', 0.4789), ('inquiry judicial', 0.4469), ('cited kashmira', 0.4288)]], ['2001.INSC.558.txt', [('singh accused', 0.6653), ('singh acquitted', 0.6479), ('appeal conviction', 0.5016), ('ipc sentenced', 0.4956), ('court gurmit', 0.4749)]], ['1980.INSC.43.txt', [('bail offence', 0.566), ('policemen accused', 0.4933), ('judicial process', 0.4633), ('ahmednagar charges', 0.4575), ('singh anr', 0.3507)]], ['1985.INSC.171.txt', [('criminal procedure', 0.4867), ('strangulation deceased', 0.4416), ('accused rs', 0.4267), ('marriage appellant', 0.4173), ('1980 delhi', 0.3589)]], ['2004.INSC.654.txt', [('maharashtra verdict', 0.6302), ('accused sanjay', 0.5514), ('veena died', 0.4874), ('2004 venkatarama', 0.458), ('digambarrao rajhans', 0.4465)]], ['1994.INSC.476.txt', [('judgment court', 0.5501), ('court respondents', 0.5288), ('compensation act', 0.5271), ('result appeal', 0.4799), ('singh citation', 0.3666)]], ['1998.INSC.47.txt', [('accused bhagirath', 0.6491), ('judgment rajasthan', 0.5212), ('nanavati appeals', 0.4975), ('deceased babloo', 0.469), ('criminal appeal', 0.4637)]], ['2004.INSC.228.txt', [('indian penal', 0.5512), ('raj accused', 0.5448), ('judgment punjab', 0.5126), ('state haryana', 0.4578), ('prosecution examined', 0.4464)]], ['1999.INSC.403.txt', [('elected panchayat', 0.564), ('elections mandal', 0.5176), ('janata party', 0.5012), ('deceased kengegowda', 0.5001), ('shah appeals', 0.3962)]], ['2010.INSC.430.txt', [('accused nanhar', 0.5799), ('haryana dismissed', 0.5673), ('court india', 0.5585), ('criminal appeal', 0.5226), ('bhiwani convicting', 0.4533)]], ['2013.INSC.143.txt', [('venkatesha appellant', 0.5896), ('bangalore offence', 0.5792), ('india criminal', 0.5757), ('appellant sentenced', 0.5566), ('karnataka respondent', 0.5267)]], ['2010.INSC.332.txt', [('judicial manipur', 0.5724), ('delhi cases', 0.5641), ('accused cbi', 0.5536), ('investigation petitioner', 0.489), ('transfer investigation', 0.4723)]], ['1989.INSC.127.txt', [('indian penal', 0.5029), ('sentence death', 0.449), ('sentence judiciary', 0.4465), ('reason clause', 0.4088), ('conclusion allauddin', 0.3392)]], ['1997.INSC.15.txt', [('court kerala', 0.5779), ('madhavan convicted', 0.5461), ('acquitted appellant', 0.4941), ('kurdukar act', 0.4791), ('thamban nambiar', 0.4535)]], ['2013.INSC.172.txt', [('prosecution rameshwar', 0.6117), ('judicature rajasthan', 0.5888), ('court india', 0.5338), ('shahpura trial', 0.5287), ('dismissed appeal', 0.4696)]], ['1996.INSC.231.txt', [('attempted smuggling', 0.4808), ('hari chand', 0.4759), ('crores prevented', 0.4211), ('1996 jt', 0.3388), ('according appellant', 0.3117)]], ['2009.INSC.1611.txt', [('appeals prosecution', 0.5766), ('court india', 0.5643), ('2009 judgement', 0.5568), ('appeals allahabad', 0.5559), ('singh appellant', 0.5088)]], ['2005.INSC.42.txt', [('criminal appeal', 0.6041), ('bail respondent', 0.5726), ('bihar prosecution', 0.5433), ('judicature patna', 0.4951), ('court jayendra', 0.4784)]], ['1996.INSC.1244.txt', [('bhaiyala prosecution', 0.5524), ('court madhya', 0.5351), ('thakurdin incident', 0.4956), ('accused ramdhari', 0.4821), ('nanavati act', 0.481)]], ['2012.INSC.739.txt', [('court india', 0.6019), ('appeal appellant', 0.5631), ('delhi criminal', 0.5439), ('prosecution shama', 0.5304), ('judgment case', 0.517)]], ['2011.INSC.363.txt', [('singh trial', 0.5967), ('singh appellant', 0.5718), ('investigation ranjit', 0.4898), ('sandhwan dead', 0.4759), ('body gurtej', 0.3793)]], ['2013.INSC.611.txt', [('criminal appeal', 0.5798), ('court india', 0.5632), ('sentenced respondents', 0.5112), ('judgment dated', 0.4793), ('accused gobardhan', 0.4426)]], ['1983.INSC.117.txt', [('kumar assaulting', 0.531), ('prosecution evidence', 0.531), ('regarding incident', 0.4992), ('singh examined', 0.4621), ('deceased rajinder', 0.4308)]], ['2008.INSC.1214.txt', [('petition judgment', 0.5861), ('pasayat petition', 0.5847), ('sathasivam judgment', 0.5425), ('pasayat sathasivam', 0.5302), ('indian penal', 0.5013)]], ['2010.INSC.1145.txt', [('criminal appeal', 0.5871), ('2009 appeals', 0.5724), ('court nanhey', 0.5166), ('nanhey sheikh', 0.4527), ('appellants sahulat', 0.3937)]], ['2015.INSC.360.txt', [('indian penal', 0.578), ('court india', 0.5722), ('assam anr', 0.5216), ('appellants judgment', 0.4944), ('accused golbar', 0.4428)]], ['1970.INSC.171.txt', [('indian penal', 0.5093), ('khan convicted', 0.4961), ('appellant stabbing', 0.4609), ('defence cases', 0.4233), ('fight deceased', 0.4118)]], ['1993.INSC.28.txt', [('singh convicted', 0.557), ('appellants appeal', 0.4515), ('challenged shamsher', 0.4028), ('concurrently prosecution', 0.3867), ('reddy jayachandra', 0.3698)]], ['2016.INSC.17.txt', [('court india', 0.5694), ('india criminal', 0.5461), ('bengal respondent', 0.5365), ('criminal appeal', 0.5061), ('bhai appellant', 0.4829)]], ['2016.INSC.282.txt', [('court india', 0.5309), ('prosecution complainant', 0.5052), ('mukhtar accused', 0.4798), ('appeal prompted', 0.4606), ('appellants gopala', 0.4403)]], ['1997.INSC.226.txt', [('indian penal', 0.5771), ('gurgaon offences', 0.5767), ('appellants acquitted', 0.5663), ('convicted anwar', 0.5517), ('trial judge', 0.5052)]], ['2010.INSC.406.txt', [('arun raj', 0.58), ('raj appellant', 0.5509), ('india criminal', 0.5343), ('appellant offence', 0.4965), ('dattu appeal', 0.3787)]], ['1991.INSC.216.txt', [('offences modification', 0.5154), ('convicting accused', 0.5034), ('accused jodhpur', 0.4905), ('illegal omission', 0.4669), ('jurisdiction act', 0.4411)]], ['2007.INSC.1312.txt', [('indian penal', 0.6275), ('chauhan convicted', 0.5899), ('judicature allahabad', 0.5363), ('premwati sentenced', 0.5186), ('kumar deceased', 0.5169)]], ['2009.INSC.1018.txt', [('judgment andhra', 0.664), ('court india', 0.5978), ('criminal appeal', 0.5738), ('india criminal', 0.5672), ('rao appellant', 0.529)]], ['1962.INSC.273.txt', [('prosecution appellant', 0.5653), ('criminal procedure', 0.5091), ('examined trial', 0.506), ('1963 scr', 0.4381), ('witness shabir', 0.4092)]], ['2009.INSC.238.txt', [('court india', 0.6027), ('appeal 223', 0.5067), ('2009 judgement', 0.4993), ('ipc sentenced', 0.4526), ('a5 acquitted', 0.4517)]], ['1981.INSC.47.txt', [('chander prosecution', 0.6236), ('indian penal', 0.4785), ('haryana 1981', 0.4693), ('judge convicted', 0.4319), ('witnesses statements', 0.408)]], ['1972.INSC.202.txt', [('judgment kerala', 0.5081), ('kunju accused', 0.4943), ('yesu prosecution', 0.4923), ('kottayam offences', 0.482), ('acquittal convicted', 0.4573)]], ['1991.INSC.127.txt', [('indian penal', 0.5705), ('murder sridhar', 0.5587), ('khopkar prosecution', 0.5527), ('alleged respondent', 0.3998), ('fathima beevi', 0.3702)]], ['2008.INSC.1197.txt', [('court india', 0.5549), ('state madhya', 0.504), ('appeal 08', 0.4674), ('jain filed', 0.4232), ('leave petitions', 0.3745)]], ['1970.INSC.249.txt', [('appellants accused', 0.5842), ('singh appellant', 0.5527), ('accused jadu', 0.4538), ('investigation conducted', 0.4476), ('singh sentenced', 0.4171)]], ['2011.INSC.1165.txt', [('india criminal', 0.6364), ('indian penal', 0.6142), ('court rajasthan', 0.612), ('judge jodhpur', 0.5855), ('ipc imprisonment', 0.4831)]], ['2013.INSC.982.txt', [('reddy killed', 0.5543), ('court india', 0.5439), ('sujatha murdered', 0.5211), ('proceeding vijayawada', 0.5052), ('accused ramachandra', 0.4923)]], ['1998.INSC.561.txt', [('prosecution noorbhai', 0.6884), ('courts noorbhai', 0.6332), ('indian penal', 0.5074), ('gujarat 1998', 0.4622), ('appellant accused', 0.4299)]], ['2013.INSC.1077.txt', [('court madhya', 0.6412), ('prosecution rajesh', 0.6006), ('pradesh filed', 0.5503), ('magistrate chhindwara', 0.5271), ('dismissal appeals', 0.4676)]], ['1958.INSC.124.txt', [('result accused', 0.509), ('evidence act', 0.4983), ('indian evidence', 0.4889), ('offences appellants', 0.4782), ('assault necessary', 0.4277)]], ['1990.INSC.303.txt', [('indian penal', 0.4899), ('offences including', 0.4736), ('veracity prosecution', 0.4672), ('leading evi', 0.4009), ('qureshi appellants', 0.3767)]], ['2009.INSC.817.txt', [('courts india', 0.5849), ('indian penal', 0.584), ('haryana respondent', 0.5368), ('singh appellant', 0.5158), ('accused nepal', 0.499)]], ['2008.INSC.1970.txt', [('appellant magistrate', 0.5854), ('appeals mohmed', 0.5788), ('criminal appeal', 0.5531), ('gujarat decision', 0.4244), ('amin shaikh', 0.4091)]], ['2009.INSC.1411.txt', [('court gujarat', 0.6004), ('muktaben sentencing', 0.5616), ('indian penal', 0.5343), ('maniben appellant', 0.5064), ('appeal criminal', 0.4943)]], ['2001.INSC.263.txt', [('appeal prosecution', 0.5338), ('1999 convicted', 0.5231), ('gurgaon lodged', 0.4814), ('punjab haryana', 0.4563), ('363 sentenced', 0.4366)]], ['1999.INSC.81.txt', [('court kerala', 0.5562), ('judgment acquittal', 0.5229), ('ipc conviction', 0.5121), ('entire prosecution', 0.4792), ('ramakrishnan unnithan', 0.399)]], ['1995.INSC.412.txt', [('gyanpur offences', 0.6522), ('indian penal', 0.5888), ('conviction appellants', 0.5112), ('stated prosecution', 0.4778), ('pradesh 1995', 0.4503)]], ['2002.INSC.98.txt', [('indian penal', 0.5698), ('appellants sentenced', 0.5681), ('balakrishnan appellants', 0.5512), ('tada act', 0.4334), ('2002 appeal', 0.4257)]], ['2013.INSC.207.txt', [('appellant deceased', 0.6076), ('hiraman appellant', 0.524), ('chandrakala died', 0.4847), ('judge ahmednagar', 0.4706), ('indian penal', 0.458)]]]\n"
          ]
        }
      ]
    },
    {
      "cell_type": "code",
      "source": [
        "df=pd.DataFrame(l,columns=[\"doc_id\",\"key_phrases\"])\n",
        "df.to_csv(\"keybert-empty.csv\",index=False)"
      ],
      "metadata": {
        "id": "SioOMsilHOp-"
      },
      "execution_count": 69,
      "outputs": []
    }
  ]
}