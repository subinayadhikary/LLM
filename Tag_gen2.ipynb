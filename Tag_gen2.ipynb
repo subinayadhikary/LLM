{
  "nbformat": 4,
  "nbformat_minor": 0,
  "metadata": {
    "colab": {
      "provenance": [],
      "gpuType": "T4"
    },
    "kernelspec": {
      "name": "python3",
      "display_name": "Python 3"
    },
    "language_info": {
      "name": "python"
    }
  },
  "cells": [
    {
      "cell_type": "code",
      "execution_count": 1,
      "metadata": {
        "id": "kiUamu3VUDBB"
      },
      "outputs": [],
      "source": [
        "from torch.utils.data import Dataset\n",
        "#import json\n",
        "#print(Dataset)\n",
        "class gpt2train(Dataset):\n",
        "    def __init__(self, path:str, tokenizer):\n",
        "        self.data = open(path)\n",
        "        self.Y=[]\n",
        "\n",
        "        self.X = []\n",
        "\n",
        "        for i in self.data:\n",
        "            self.Y.append(i.strip())\n",
        "\n",
        "        #for idx,i in enumerate(self.Y):\n",
        "         #       self.X[idx] = \"<startofstring> \"+i+\" <tag>: \"+self.X[idx+1]+\" <endofstring>\"\n",
        "        for i in range(0,len(self.Y),2):\n",
        "            #print(self.Y[i],self.Y[i+1],i,len(self.Y))\n",
        "            self.X.append( \"<startofstring> \"+self.Y[i]+\" <tag>: \"+(self.Y[i+1]).split(':')[1]+\" <endofstring>\")\n",
        "\n",
        "        #self.X = self.X[:500]\n",
        "\n",
        "        #print(self.X)\n",
        "\n",
        "        self.X_encoded = tokenizer(self.X,max_length=40, truncation=True, padding=\"max_length\", return_tensors=\"pt\")\n",
        "        self.input_ids = self.X_encoded['input_ids']\n",
        "        self.attention_mask = self.X_encoded['attention_mask']\n",
        "\n",
        "    def __len__(self):\n",
        "        return len(self.X)\n",
        "\n",
        "    def __getitem__(self, idx):\n",
        "        return (self.input_ids[idx], self.attention_mask[idx])"
      ]
    },
    {
      "cell_type": "code",
      "source": [
        "!pip install transformers\n",
        "!pip install gpt2"
      ],
      "metadata": {
        "colab": {
          "base_uri": "https://localhost:8080/"
        },
        "id": "3FRyJBiFVBlL",
        "outputId": "60b58569-6109-45ee-ea8c-d8cebcb33a0c"
      },
      "execution_count": 2,
      "outputs": [
        {
          "output_type": "stream",
          "name": "stdout",
          "text": [
            "Looking in indexes: https://pypi.org/simple, https://us-python.pkg.dev/colab-wheels/public/simple/\n",
            "Requirement already satisfied: transformers in /usr/local/lib/python3.10/dist-packages (4.30.2)\n",
            "Requirement already satisfied: filelock in /usr/local/lib/python3.10/dist-packages (from transformers) (3.12.0)\n",
            "Requirement already satisfied: huggingface-hub<1.0,>=0.14.1 in /usr/local/lib/python3.10/dist-packages (from transformers) (0.15.1)\n",
            "Requirement already satisfied: numpy>=1.17 in /usr/local/lib/python3.10/dist-packages (from transformers) (1.22.4)\n",
            "Requirement already satisfied: packaging>=20.0 in /usr/local/lib/python3.10/dist-packages (from transformers) (23.1)\n",
            "Requirement already satisfied: pyyaml>=5.1 in /usr/local/lib/python3.10/dist-packages (from transformers) (6.0)\n",
            "Requirement already satisfied: regex!=2019.12.17 in /usr/local/lib/python3.10/dist-packages (from transformers) (2022.10.31)\n",
            "Requirement already satisfied: requests in /usr/local/lib/python3.10/dist-packages (from transformers) (2.27.1)\n",
            "Requirement already satisfied: tokenizers!=0.11.3,<0.14,>=0.11.1 in /usr/local/lib/python3.10/dist-packages (from transformers) (0.13.3)\n",
            "Requirement already satisfied: safetensors>=0.3.1 in /usr/local/lib/python3.10/dist-packages (from transformers) (0.3.1)\n",
            "Requirement already satisfied: tqdm>=4.27 in /usr/local/lib/python3.10/dist-packages (from transformers) (4.65.0)\n",
            "Requirement already satisfied: fsspec in /usr/local/lib/python3.10/dist-packages (from huggingface-hub<1.0,>=0.14.1->transformers) (2023.4.0)\n",
            "Requirement already satisfied: typing-extensions>=3.7.4.3 in /usr/local/lib/python3.10/dist-packages (from huggingface-hub<1.0,>=0.14.1->transformers) (4.5.0)\n",
            "Requirement already satisfied: urllib3<1.27,>=1.21.1 in /usr/local/lib/python3.10/dist-packages (from requests->transformers) (1.26.15)\n",
            "Requirement already satisfied: certifi>=2017.4.17 in /usr/local/lib/python3.10/dist-packages (from requests->transformers) (2022.12.7)\n",
            "Requirement already satisfied: charset-normalizer~=2.0.0 in /usr/local/lib/python3.10/dist-packages (from requests->transformers) (2.0.12)\n",
            "Requirement already satisfied: idna<4,>=2.5 in /usr/local/lib/python3.10/dist-packages (from requests->transformers) (3.4)\n",
            "Looking in indexes: https://pypi.org/simple, https://us-python.pkg.dev/colab-wheels/public/simple/\n",
            "Collecting gpt2\n",
            "  Downloading gpt2-0.0.4-py3-none-any.whl (4.1 kB)\n",
            "Installing collected packages: gpt2\n",
            "Successfully installed gpt2-0.0.4\n"
          ]
        }
      ]
    },
    {
      "cell_type": "code",
      "source": [
        "#****** test and train set generation*****\n",
        "import json\n",
        "import pandas as pd\n",
        "f=open(\"ssss.json\")\n",
        "da=json.load(f)\n",
        "l=[]\n",
        "for i in da:\n",
        "    for j in da[i]:\n",
        "        for k in da[i][j]:\n",
        "            if(k[0].upper()!=k[0].lower()):#to remove texts that are just numbers or special characters\n",
        "                l.append(k)\n",
        "emp=pd.DataFrame(data=l)\n",
        "#print(emp)\n",
        "\n",
        "s1=set((\",\".join(set(emp[2]))).split(\",\"))\n",
        "#print(s1)\n",
        "dict={}\n",
        "p=[\"homicide_murder\",\"life_imprisonment\",\"riot\",\"physical_assault\",\"evidence_inconsistency\",\"witness_testimony\",\"expert_witness_testimony\"]\n",
        "s=[i for i in s1 if i not in p] #list of all other tags\n",
        "#print(s)\n",
        "for i in p:\n",
        "    dict[i]=list(emp[emp[2].str.contains(i)][0])\n",
        "'''\n",
        "for i in s: #loop to generate others tag from tags unused\n",
        "    dict[\"others\"]=list(emp[emp[2].str.contains(i)][0])\n",
        "'''\n",
        "#print(dict)\n",
        "\n",
        "prompt=\"\"\n",
        "g=open(\"promptfile.txt\",\"w+\")\n",
        "for i in dict:\n",
        "    r=min(20,len(dict[i]))\n",
        "    j=0\n",
        "    c=0\n",
        "    while c<r:\n",
        "        if dict[i][j] not in prompt:\n",
        "            c=c+1\n",
        "            m=emp[emp[0]==dict[i][j]].index.values\n",
        "            for k in m:\n",
        "                emp=emp.drop(k)\n",
        "            prompt+=\"Statement:\"+dict[i][j]+\". \\n\"\n",
        "            g.write(\"Statement:\"+dict[i][j]+\". \\n\")\n",
        "            prompt+=\"Tag:\"+i+\"\\n\"\n",
        "            g.write(\"Tag:\"+i+\"\\n\")\n",
        "        j=j+1\n",
        "\n",
        "h=open(\"ssss2.txt\",\"r+\")\n",
        "for i in (h.read()).split(\". \")[:10]:\n",
        "    prompt+=\"Statement:\"+i+\". \\n\"\n",
        "    g.write(\"Statement:\"+i+\". \\n\")\n",
        "    prompt+=\"Tag:\"+\"Others\"+\"\\n\"\n",
        "    g.write(\"Tag:\"+\"Others\"+\"\\n\")\n",
        "h.close\n",
        "g.close()\n",
        "\n",
        "\n",
        "#**********test and train set generation end***********"
      ],
      "metadata": {
        "id": "AX3AMK8oUlBA"
      },
      "execution_count": 7,
      "outputs": []
    },
    {
      "cell_type": "code",
      "source": [
        "#!pip install torch\n",
        "!pip install transformers"
      ],
      "metadata": {
        "colab": {
          "base_uri": "https://localhost:8080/"
        },
        "id": "AcT2mAsKVb02",
        "outputId": "4ac5bb8f-41ae-473c-9372-f0f4a532e60d"
      },
      "execution_count": 1,
      "outputs": [
        {
          "output_type": "stream",
          "name": "stdout",
          "text": [
            "Looking in indexes: https://pypi.org/simple, https://us-python.pkg.dev/colab-wheels/public/simple/\n",
            "Collecting transformers\n",
            "  Downloading transformers-4.30.2-py3-none-any.whl (7.2 MB)\n",
            "\u001b[2K     \u001b[90m━━━━━━━━━━━━━━━━━━━━━━━━━━━━━━━━━━━━━━━━\u001b[0m \u001b[32m7.2/7.2 MB\u001b[0m \u001b[31m101.5 MB/s\u001b[0m eta \u001b[36m0:00:00\u001b[0m\n",
            "\u001b[?25hRequirement already satisfied: filelock in /usr/local/lib/python3.10/dist-packages (from transformers) (3.12.0)\n",
            "Collecting huggingface-hub<1.0,>=0.14.1 (from transformers)\n",
            "  Downloading huggingface_hub-0.15.1-py3-none-any.whl (236 kB)\n",
            "\u001b[2K     \u001b[90m━━━━━━━━━━━━━━━━━━━━━━━━━━━━━━━━━━━━━━\u001b[0m \u001b[32m236.8/236.8 kB\u001b[0m \u001b[31m28.4 MB/s\u001b[0m eta \u001b[36m0:00:00\u001b[0m\n",
            "\u001b[?25hRequirement already satisfied: numpy>=1.17 in /usr/local/lib/python3.10/dist-packages (from transformers) (1.22.4)\n",
            "Requirement already satisfied: packaging>=20.0 in /usr/local/lib/python3.10/dist-packages (from transformers) (23.1)\n",
            "Requirement already satisfied: pyyaml>=5.1 in /usr/local/lib/python3.10/dist-packages (from transformers) (6.0)\n",
            "Requirement already satisfied: regex!=2019.12.17 in /usr/local/lib/python3.10/dist-packages (from transformers) (2022.10.31)\n",
            "Requirement already satisfied: requests in /usr/local/lib/python3.10/dist-packages (from transformers) (2.27.1)\n",
            "Collecting tokenizers!=0.11.3,<0.14,>=0.11.1 (from transformers)\n",
            "  Downloading tokenizers-0.13.3-cp310-cp310-manylinux_2_17_x86_64.manylinux2014_x86_64.whl (7.8 MB)\n",
            "\u001b[2K     \u001b[90m━━━━━━━━━━━━━━━━━━━━━━━━━━━━━━━━━━━━━━━━\u001b[0m \u001b[32m7.8/7.8 MB\u001b[0m \u001b[31m126.7 MB/s\u001b[0m eta \u001b[36m0:00:00\u001b[0m\n",
            "\u001b[?25hCollecting safetensors>=0.3.1 (from transformers)\n",
            "  Downloading safetensors-0.3.1-cp310-cp310-manylinux_2_17_x86_64.manylinux2014_x86_64.whl (1.3 MB)\n",
            "\u001b[2K     \u001b[90m━━━━━━━━━━━━━━━━━━━━━━━━━━━━━━━━━━━━━━━━\u001b[0m \u001b[32m1.3/1.3 MB\u001b[0m \u001b[31m77.9 MB/s\u001b[0m eta \u001b[36m0:00:00\u001b[0m\n",
            "\u001b[?25hRequirement already satisfied: tqdm>=4.27 in /usr/local/lib/python3.10/dist-packages (from transformers) (4.65.0)\n",
            "Requirement already satisfied: fsspec in /usr/local/lib/python3.10/dist-packages (from huggingface-hub<1.0,>=0.14.1->transformers) (2023.4.0)\n",
            "Requirement already satisfied: typing-extensions>=3.7.4.3 in /usr/local/lib/python3.10/dist-packages (from huggingface-hub<1.0,>=0.14.1->transformers) (4.5.0)\n",
            "Requirement already satisfied: urllib3<1.27,>=1.21.1 in /usr/local/lib/python3.10/dist-packages (from requests->transformers) (1.26.15)\n",
            "Requirement already satisfied: certifi>=2017.4.17 in /usr/local/lib/python3.10/dist-packages (from requests->transformers) (2022.12.7)\n",
            "Requirement already satisfied: charset-normalizer~=2.0.0 in /usr/local/lib/python3.10/dist-packages (from requests->transformers) (2.0.12)\n",
            "Requirement already satisfied: idna<4,>=2.5 in /usr/local/lib/python3.10/dist-packages (from requests->transformers) (3.4)\n",
            "Installing collected packages: tokenizers, safetensors, huggingface-hub, transformers\n",
            "Successfully installed huggingface-hub-0.15.1 safetensors-0.3.1 tokenizers-0.13.3 transformers-4.30.2\n"
          ]
        }
      ]
    },
    {
      "cell_type": "code",
      "source": [
        "from transformers import GPT2LMHeadModel, GPT2Tokenizer\n",
        "#from gpt2train import gpt2train\n",
        "from torch.optim import Adam\n",
        "from torch.utils.data import DataLoader\n",
        "import tqdm\n",
        "import torch\n",
        "\n",
        "def train(chatData, model, optim):\n",
        "\n",
        "    epochs = 65\n",
        "\n",
        "    for i in tqdm.tqdm(range(epochs)):\n",
        "        for X, a in chatData:\n",
        "            #print(X,a)\n",
        "            X = X.to(device)\n",
        "            a = a.to(device)\n",
        "            optim.zero_grad()\n",
        "            loss = model(X, attention_mask=a, labels=X).loss\n",
        "            loss.backward()\n",
        "            optim.step()\n",
        "        torch.save(model.state_dict(), \"model_state.pt\")\n",
        "        print(infer(\"He was charged under section 302\"))\n",
        "\n",
        "def infer(inp):\n",
        "    inp = \"<startofstring> \"+inp+\" <tag>: \"\n",
        "    inp = tokenizer(inp, return_tensors=\"pt\")\n",
        "    X = inp[\"input_ids\"].to(device)\n",
        "    a = inp[\"attention_mask\"].to(device)\n",
        "    output = model.generate(X, attention_mask=a, no_repeat_ngram_size=2,early_stopping=True,max_new_tokens=10)\n",
        "    #output=model.generate(inp,no_repeat_ngram_size=2,early_stopping=True,max_new_tokens=3)\n",
        "    output = tokenizer.decode(output[0])\n",
        "    return output\n",
        "\n",
        "\n",
        "\n",
        "\n",
        "device = \"cuda\" if torch.cuda.is_available() else \"mps\" if torch.backends.mps.is_available() else \"cpu\"\n",
        "\n",
        "tokenizer = GPT2Tokenizer.from_pretrained(\"gpt2\")\n",
        "tokenizer.add_special_tokens({\"pad_token\": \"<pad>\",\n",
        "                                \"bos_token\": \"<startofstring>\",\n",
        "                                \"eos_token\": \"<endofstring>\",\n",
        "                                \"sep_token\": \"<tag>:\"})\n",
        "#tokenizer.add_tokens([\"<tag>:\"])\n",
        "\n",
        "model = GPT2LMHeadModel.from_pretrained(\"gpt2\")\n",
        "model.resize_token_embeddings(len(tokenizer))\n",
        "\n",
        "model = model.to(device)\n",
        "\n",
        "# print(tokenizer.decode(model.generate(**tokenizer(\"hey i was good at basketball but \",\n",
        "#                          return_tensors=\"pt\"))[0]))\n",
        "\n",
        "chatData = gpt2train(\"./promptfile_edited.txt\", tokenizer)\n",
        "chatData =  DataLoader(chatData, batch_size=64)\n",
        "print(chatData)\n",
        "model.train()\n",
        "\n",
        "optim = Adam(model.parameters(), lr=1e-3)\n",
        "\n",
        "print(\"training .... \")\n",
        "train(chatData, model, optim)\n",
        "\n",
        "print(\"infer from model : \")\n",
        "'''\n",
        "while True:\n",
        "  inp = input()\n",
        "  print(infer(inp))\n",
        "'''\n"
      ],
      "metadata": {
        "colab": {
          "base_uri": "https://localhost:8080/",
          "height": 1000
        },
        "id": "5PA4a8_NU2U0",
        "outputId": "870b2e9b-1303-4bca-d6d9-bf4f2985e1d2"
      },
      "execution_count": 11,
      "outputs": [
        {
          "output_type": "stream",
          "name": "stdout",
          "text": [
            "<torch.utils.data.dataloader.DataLoader object at 0x7f162f4c8eb0>\n",
            "training .... \n"
          ]
        },
        {
          "output_type": "stream",
          "name": "stderr",
          "text": [
            "  0%|          | 0/65 [00:00<?, ?it/s]Setting `pad_token_id` to `eos_token_id`:50256 for open-end generation.\n",
            "  2%|▏         | 1/65 [00:03<03:34,  3.35s/it]"
          ]
        },
        {
          "output_type": "stream",
          "name": "stdout",
          "text": [
            "<startofstring> He was charged under section 302 <tag>: <startofstring> <startofstring> <endofstring> <startofstring> <pad> <startofstring> <tag>: <pad> <endofstring> <endofstring>\n"
          ]
        },
        {
          "output_type": "stream",
          "name": "stderr",
          "text": [
            "Setting `pad_token_id` to `eos_token_id`:50256 for open-end generation.\n",
            "  3%|▎         | 2/65 [00:06<03:32,  3.37s/it]"
          ]
        },
        {
          "output_type": "stream",
          "name": "stdout",
          "text": [
            "<startofstring> He was charged under section 302 <tag>:  the.... the, the the....\n"
          ]
        },
        {
          "output_type": "stream",
          "name": "stderr",
          "text": [
            "Setting `pad_token_id` to `eos_token_id`:50256 for open-end generation.\n",
            "  5%|▍         | 3/65 [00:11<04:14,  4.10s/it]"
          ]
        },
        {
          "output_type": "stream",
          "name": "stdout",
          "text": [
            "<startofstring> He was charged under section 302 <tag>:  the the <pad> <pad> <endofstring>  the. <pad>  the,\n"
          ]
        },
        {
          "output_type": "stream",
          "name": "stderr",
          "text": [
            "Setting `pad_token_id` to `eos_token_id`:50256 for open-end generation.\n",
            "  6%|▌         | 4/65 [00:16<04:32,  4.46s/it]"
          ]
        },
        {
          "output_type": "stream",
          "name": "stdout",
          "text": [
            "<startofstring> He was charged under section 302 <tag>: <pad>  the the. the of the <pad> <pad> <endofstring>\n"
          ]
        },
        {
          "output_type": "stream",
          "name": "stderr",
          "text": [
            "Setting `pad_token_id` to `eos_token_id`:50256 for open-end generation.\n",
            "  8%|▊         | 5/65 [00:20<04:04,  4.07s/it]"
          ]
        },
        {
          "output_type": "stream",
          "name": "stdout",
          "text": [
            "<startofstring> He was charged under section 302 <tag>: <pad>  the the of <pad> <pad>  of the.. the\n"
          ]
        },
        {
          "output_type": "stream",
          "name": "stderr",
          "text": [
            "Setting `pad_token_id` to `eos_token_id`:50256 for open-end generation.\n",
            "  9%|▉         | 6/65 [00:24<04:10,  4.24s/it]"
          ]
        },
        {
          "output_type": "stream",
          "name": "stdout",
          "text": [
            "<startofstring> He was charged under section 302 <tag>:  the the__ the of the and the..\n"
          ]
        },
        {
          "output_type": "stream",
          "name": "stderr",
          "text": [
            "Setting `pad_token_id` to `eos_token_id`:50256 for open-end generation.\n",
            " 11%|█         | 7/65 [00:29<04:20,  4.49s/it]"
          ]
        },
        {
          "output_type": "stream",
          "name": "stdout",
          "text": [
            "<startofstring> He was charged under section 302 <tag>:  the <pad>  the the_ the.. <pad> <pad> <tag>:\n"
          ]
        },
        {
          "output_type": "stream",
          "name": "stderr",
          "text": [
            "Setting `pad_token_id` to `eos_token_id`:50256 for open-end generation.\n",
            " 12%|█▏        | 8/65 [00:34<04:25,  4.65s/it]"
          ]
        },
        {
          "output_type": "stream",
          "name": "stdout",
          "text": [
            "<startofstring> He was charged under section 302 <tag>:  the the__ <pad> <pad> <tag>: <pad>  the of\n"
          ]
        },
        {
          "output_type": "stream",
          "name": "stderr",
          "text": [
            "Setting `pad_token_id` to `eos_token_id`:50256 for open-end generation.\n",
            " 14%|█▍        | 9/65 [00:39<04:27,  4.78s/it]"
          ]
        },
        {
          "output_type": "stream",
          "name": "stdout",
          "text": [
            "<startofstring> He was charged under section 302 <tag>:  the the of the_witnessitness__\n"
          ]
        },
        {
          "output_type": "stream",
          "name": "stderr",
          "text": [
            "Setting `pad_token_id` to `eos_token_id`:50256 for open-end generation.\n",
            " 15%|█▌        | 10/65 [00:44<04:25,  4.84s/it]"
          ]
        },
        {
          "output_type": "stream",
          "name": "stdout",
          "text": [
            "<startofstring> He was charged under section 302 <tag>: imony: the the right <pad> <pad> <tag>:  the of\n"
          ]
        },
        {
          "output_type": "stream",
          "name": "stderr",
          "text": [
            "Setting `pad_token_id` to `eos_token_id`:50256 for open-end generation.\n",
            " 17%|█▋        | 11/65 [00:49<04:16,  4.74s/it]"
          ]
        },
        {
          "output_type": "stream",
          "name": "stdout",
          "text": [
            "<startofstring> He was charged under section 302 <tag>:  the theitnessimony of the appellantimonyimony <pad>\n"
          ]
        },
        {
          "output_type": "stream",
          "name": "stderr",
          "text": [
            "Setting `pad_token_id` to `eos_token_id`:50256 for open-end generation.\n",
            " 18%|█▊        | 12/65 [00:59<05:36,  6.34s/it]"
          ]
        },
        {
          "output_type": "stream",
          "name": "stdout",
          "text": [
            "<startofstring> He was charged under section 302 <tag>:  the the right of the appellant of of_ the\n"
          ]
        },
        {
          "output_type": "stream",
          "name": "stderr",
          "text": [
            "Setting `pad_token_id` to `eos_token_id`:50256 for open-end generation.\n",
            " 20%|██        | 13/65 [01:02<04:46,  5.51s/it]"
          ]
        },
        {
          "output_type": "stream",
          "name": "stdout",
          "text": [
            "<startofstring> He was charged under section 302 <tag>:  the the right of the appellant. <pad> <pad> <tag>:\n"
          ]
        },
        {
          "output_type": "stream",
          "name": "stderr",
          "text": [
            "Setting `pad_token_id` to `eos_token_id`:50256 for open-end generation.\n",
            " 22%|██▏       | 14/65 [01:09<05:06,  6.01s/it]"
          ]
        },
        {
          "output_type": "stream",
          "name": "stdout",
          "text": [
            "<startofstring> He was charged under section 302 <tag>:  the the right of the. the_testimony\n"
          ]
        },
        {
          "output_type": "stream",
          "name": "stderr",
          "text": [
            "Setting `pad_token_id` to `eos_token_id`:50256 for open-end generation.\n",
            " 23%|██▎       | 15/65 [01:13<04:23,  5.26s/it]"
          ]
        },
        {
          "output_type": "stream",
          "name": "stdout",
          "text": [
            "<startofstring> He was charged under section 302 <tag>:  the appellant. <pad> <pad>  the the <pad> <tag>:.\n"
          ]
        },
        {
          "output_type": "stream",
          "name": "stderr",
          "text": [
            "Setting `pad_token_id` to `eos_token_id`:50256 for open-end generation.\n",
            " 25%|██▍       | 16/65 [01:17<03:57,  4.85s/it]"
          ]
        },
        {
          "output_type": "stream",
          "name": "stdout",
          "text": [
            "<startofstring> He was charged under section 302 <tag>:  the the right side of the appellant_ <pad>  the\n"
          ]
        },
        {
          "output_type": "stream",
          "name": "stderr",
          "text": [
            "Setting `pad_token_id` to `eos_token_id`:50256 for open-end generation.\n",
            " 26%|██▌       | 17/65 [01:25<04:46,  5.96s/it]"
          ]
        },
        {
          "output_type": "stream",
          "name": "stdout",
          "text": [
            "<startofstring> He was charged under section 302 <tag>:  the appellant, the right side of the the respondent\n"
          ]
        },
        {
          "output_type": "stream",
          "name": "stderr",
          "text": [
            "Setting `pad_token_id` to `eos_token_id`:50256 for open-end generation.\n",
            " 28%|██▊       | 18/65 [01:31<04:34,  5.84s/it]"
          ]
        },
        {
          "output_type": "stream",
          "name": "stdout",
          "text": [
            "<startofstring> He was charged under section 302 <tag>:  the right of the appellant. <pad> <pad> <tag>: ex\n"
          ]
        },
        {
          "output_type": "stream",
          "name": "stderr",
          "text": [
            "Setting `pad_token_id` to `eos_token_id`:50256 for open-end generation.\n",
            " 29%|██▉       | 19/65 [01:36<04:18,  5.61s/it]"
          ]
        },
        {
          "output_type": "stream",
          "name": "stdout",
          "text": [
            "<startofstring> He was charged under section 302 <tag>:  the appellant_witness_testimony <pad> <pad>\n"
          ]
        },
        {
          "output_type": "stream",
          "name": "stderr",
          "text": [
            "Setting `pad_token_id` to `eos_token_id`:50256 for open-end generation.\n",
            " 31%|███       | 20/65 [01:42<04:12,  5.60s/it]"
          ]
        },
        {
          "output_type": "stream",
          "name": "stdout",
          "text": [
            "<startofstring> He was charged under section 302 <tag>:  persons. <pad> <pad> <endofstring> <pad> <tag>: witness_\n"
          ]
        },
        {
          "output_type": "stream",
          "name": "stderr",
          "text": [
            "Setting `pad_token_id` to `eos_token_id`:50256 for open-end generation.\n",
            " 32%|███▏      | 21/65 [01:46<03:51,  5.27s/it]"
          ]
        },
        {
          "output_type": "stream",
          "name": "stdout",
          "text": [
            "<startofstring> He was charged under section 302 <tag>: expert_testimony <pad> <pad> <endofstring> <pad> <tag>:\n"
          ]
        },
        {
          "output_type": "stream",
          "name": "stderr",
          "text": [
            "Setting `pad_token_id` to `eos_token_id`:50256 for open-end generation.\n",
            " 34%|███▍      | 22/65 [01:51<03:40,  5.12s/it]"
          ]
        },
        {
          "output_type": "stream",
          "name": "stdout",
          "text": [
            "<startofstring> He was charged under section 302 <tag>:. <pad> <pad> _witness_testimony <pad>\n"
          ]
        },
        {
          "output_type": "stream",
          "name": "stderr",
          "text": [
            "Setting `pad_token_id` to `eos_token_id`:50256 for open-end generation.\n",
            " 35%|███▌      | 23/65 [01:56<03:33,  5.08s/it]"
          ]
        },
        {
          "output_type": "stream",
          "name": "stdout",
          "text": [
            "<startofstring> He was charged under section 302 <tag>:. <pad> <pad> <tag>: expert_witness_\n"
          ]
        },
        {
          "output_type": "stream",
          "name": "stderr",
          "text": [
            "Setting `pad_token_id` to `eos_token_id`:50256 for open-end generation.\n",
            " 37%|███▋      | 24/65 [02:05<04:21,  6.38s/it]"
          ]
        },
        {
          "output_type": "stream",
          "name": "stdout",
          "text": [
            "<startofstring> He was charged under section 302 <tag>: expert_imprisonment <endofstring> <pad> <pad> <tag>:\n"
          ]
        },
        {
          "output_type": "stream",
          "name": "stderr",
          "text": [
            "Setting `pad_token_id` to `eos_token_id`:50256 for open-end generation.\n",
            " 38%|███▊      | 25/65 [02:11<04:07,  6.19s/it]"
          ]
        },
        {
          "output_type": "stream",
          "name": "stdout",
          "text": [
            "<startofstring> He was charged under section 302 <tag>:  Surgeon attached to the right side of the appellant\n"
          ]
        },
        {
          "output_type": "stream",
          "name": "stderr",
          "text": [
            "Setting `pad_token_id` to `eos_token_id`:50256 for open-end generation.\n",
            " 40%|████      | 26/65 [02:20<04:35,  7.06s/it]"
          ]
        },
        {
          "output_type": "stream",
          "name": "stdout",
          "text": [
            "<startofstring> He was charged under section 302 <tag>: -24 hours before the Government hospital. <tag>: ex\n"
          ]
        },
        {
          "output_type": "stream",
          "name": "stderr",
          "text": [
            "Setting `pad_token_id` to `eos_token_id`:50256 for open-end generation.\n",
            " 42%|████▏     | 27/65 [02:24<03:48,  6.02s/it]"
          ]
        },
        {
          "output_type": "stream",
          "name": "stdout",
          "text": [
            "<startofstring> He was charged under section 302 <tag>:  PW1.. <tag>: expert_witness_\n"
          ]
        },
        {
          "output_type": "stream",
          "name": "stderr",
          "text": [
            "Setting `pad_token_id` to `eos_token_id`:50256 for open-end generation.\n",
            " 43%|████▎     | 28/65 [02:27<03:15,  5.30s/it]"
          ]
        },
        {
          "output_type": "stream",
          "name": "stdout",
          "text": [
            "<startofstring> He was charged under section 302 <tag>:. <tag>: physical_assault <endofstring> <pad> <pad> <endofstring> <endofstring>\n"
          ]
        },
        {
          "output_type": "stream",
          "name": "stderr",
          "text": [
            "Setting `pad_token_id` to `eos_token_id`:50256 for open-end generation.\n",
            " 45%|████▍     | 29/65 [02:32<03:01,  5.04s/it]"
          ]
        },
        {
          "output_type": "stream",
          "name": "stdout",
          "text": [
            "<startofstring> He was charged under section 302 <tag>:  and 4 of the Assistant Civil Surgeon attached to\n"
          ]
        },
        {
          "output_type": "stream",
          "name": "stderr",
          "text": [
            "Setting `pad_token_id` to `eos_token_id`:50256 for open-end generation.\n",
            " 46%|████▌     | 30/65 [02:36<02:50,  4.87s/it]"
          ]
        },
        {
          "output_type": "stream",
          "name": "stdout",
          "text": [
            "<startofstring> He was charged under section 302 <tag>:  power of the judgment of PW7 and 498\n"
          ]
        },
        {
          "output_type": "stream",
          "name": "stderr",
          "text": [
            "Setting `pad_token_id` to `eos_token_id`:50256 for open-end generation.\n",
            " 48%|████▊     | 31/65 [02:42<02:53,  5.10s/it]"
          ]
        },
        {
          "output_type": "stream",
          "name": "stdout",
          "text": [
            "<startofstring> He was charged under section 302 <tag>: homicide_murder <endofstring> <pad> <pad> <endofstring> <endofstring>\n"
          ]
        },
        {
          "output_type": "stream",
          "name": "stderr",
          "text": [
            "Setting `pad_token_id` to `eos_token_id`:50256 for open-end generation.\n",
            " 49%|████▉     | 32/65 [02:51<03:28,  6.33s/it]"
          ]
        },
        {
          "output_type": "stream",
          "name": "stdout",
          "text": [
            "<startofstring> He was charged under section 302 <tag>: expert_witness_testimony <endofstring> <pad>\n"
          ]
        },
        {
          "output_type": "stream",
          "name": "stderr",
          "text": [
            "Setting `pad_token_id` to `eos_token_id`:50256 for open-end generation.\n",
            " 51%|█████     | 33/65 [02:55<02:56,  5.53s/it]"
          ]
        },
        {
          "output_type": "stream",
          "name": "stdout",
          "text": [
            "<startofstring> He was charged under section 302 <tag>:  s. 302. <tag>: homicide_murder\n"
          ]
        },
        {
          "output_type": "stream",
          "name": "stderr",
          "text": [
            "Setting `pad_token_id` to `eos_token_id`:50256 for open-end generation.\n",
            " 52%|█████▏    | 34/65 [02:58<02:32,  4.90s/it]"
          ]
        },
        {
          "output_type": "stream",
          "name": "stdout",
          "text": [
            "<startofstring> He was charged under section 302 <tag>: homicide_murder <endofstring> <pad> <pad> <endofstring> <endofstring>\n"
          ]
        },
        {
          "output_type": "stream",
          "name": "stderr",
          "text": [
            "Setting `pad_token_id` to `eos_token_id`:50256 for open-end generation.\n",
            " 54%|█████▍    | 35/65 [03:05<02:46,  5.55s/it]"
          ]
        },
        {
          "output_type": "stream",
          "name": "stdout",
          "text": [
            "<startofstring> He was charged under section 302 <tag>: appellant Vineet Kumar Chauhan has been\n"
          ]
        },
        {
          "output_type": "stream",
          "name": "stderr",
          "text": [
            "Setting `pad_token_id` to `eos_token_id`:50256 for open-end generation.\n",
            " 55%|█████▌    | 36/65 [03:09<02:22,  4.93s/it]"
          ]
        },
        {
          "output_type": "stream",
          "name": "stdout",
          "text": [
            "<startofstring> He was charged under section 302 <tag>: homicide_imprisonment <endofstring> <pad> <pad> <endofstring>\n"
          ]
        },
        {
          "output_type": "stream",
          "name": "stderr",
          "text": [
            "Setting `pad_token_id` to `eos_token_id`:50256 for open-end generation.\n",
            " 57%|█████▋    | 37/65 [03:17<02:48,  6.01s/it]"
          ]
        },
        {
          "output_type": "stream",
          "name": "stdout",
          "text": [
            "<startofstring> He was charged under section 302 <tag>: homicide_murder <endofstring> <pad> <pad> <startofstring> <pad>\n"
          ]
        },
        {
          "output_type": "stream",
          "name": "stderr",
          "text": [
            "Setting `pad_token_id` to `eos_token_id`:50256 for open-end generation.\n",
            " 58%|█████▊    | 38/65 [03:21<02:22,  5.26s/it]"
          ]
        },
        {
          "output_type": "stream",
          "name": "stdout",
          "text": [
            "<startofstring> He was charged under section 302 <tag>: homicide_murder <endofstring> <pad> <pad> <startofstring> <pad>\n"
          ]
        },
        {
          "output_type": "stream",
          "name": "stderr",
          "text": [
            "Setting `pad_token_id` to `eos_token_id`:50256 for open-end generation.\n",
            " 60%|██████    | 39/65 [03:24<02:02,  4.70s/it]"
          ]
        },
        {
          "output_type": "stream",
          "name": "stdout",
          "text": [
            "<startofstring> He was charged under section 302 <tag>: homicide_murder <endofstring> <pad> <pad> <startofstring> <pad>\n"
          ]
        },
        {
          "output_type": "stream",
          "name": "stderr",
          "text": [
            "Setting `pad_token_id` to `eos_token_id`:50256 for open-end generation.\n",
            " 62%|██████▏   | 40/65 [03:29<01:56,  4.68s/it]"
          ]
        },
        {
          "output_type": "stream",
          "name": "stdout",
          "text": [
            "<startofstring> He was charged under section 302 <tag>: homicide_murder <endofstring> <pad> <pad> <endofstring> <endofstring>\n"
          ]
        },
        {
          "output_type": "stream",
          "name": "stderr",
          "text": [
            "Setting `pad_token_id` to `eos_token_id`:50256 for open-end generation.\n",
            " 63%|██████▎   | 41/65 [03:34<01:54,  4.78s/it]"
          ]
        },
        {
          "output_type": "stream",
          "name": "stdout",
          "text": [
            "<startofstring> He was charged under section 302 <tag>: homicide_murder <endofstring> <pad> <pad> <endofstring> <startofstring>\n"
          ]
        },
        {
          "output_type": "stream",
          "name": "stderr",
          "text": [
            "Setting `pad_token_id` to `eos_token_id`:50256 for open-end generation.\n",
            " 65%|██████▍   | 42/65 [03:39<01:51,  4.83s/it]"
          ]
        },
        {
          "output_type": "stream",
          "name": "stdout",
          "text": [
            "<startofstring> He was charged under section 302 <tag>: expert_witness_testimony <endofstring> <pad>\n"
          ]
        },
        {
          "output_type": "stream",
          "name": "stderr",
          "text": [
            "Setting `pad_token_id` to `eos_token_id`:50256 for open-end generation.\n",
            " 66%|██████▌   | 43/65 [03:46<02:04,  5.65s/it]"
          ]
        },
        {
          "output_type": "stream",
          "name": "stdout",
          "text": [
            "<startofstring> He was charged under section 302 <tag>:  for the offence punishable under Section 302. <tag>: hom\n"
          ]
        },
        {
          "output_type": "stream",
          "name": "stderr",
          "text": [
            "Setting `pad_token_id` to `eos_token_id`:50256 for open-end generation.\n",
            " 68%|██████▊   | 44/65 [03:50<01:44,  4.99s/it]"
          ]
        },
        {
          "output_type": "stream",
          "name": "stdout",
          "text": [
            "<startofstring> He was charged under section 302 <tag>:  s. <tag>: expert_witness_test\n"
          ]
        },
        {
          "output_type": "stream",
          "name": "stderr",
          "text": [
            "Setting `pad_token_id` to `eos_token_id`:50256 for open-end generation.\n",
            " 69%|██████▉   | 45/65 [03:59<02:05,  6.28s/it]"
          ]
        },
        {
          "output_type": "stream",
          "name": "stdout",
          "text": [
            "<startofstring> He was charged under section 302 <tag>: homicide_murder <endofstring> <pad> <pad> <endofstring> <startofstring>\n"
          ]
        },
        {
          "output_type": "stream",
          "name": "stderr",
          "text": [
            "Setting `pad_token_id` to `eos_token_id`:50256 for open-end generation.\n",
            " 71%|███████   | 46/65 [04:03<01:43,  5.47s/it]"
          ]
        },
        {
          "output_type": "stream",
          "name": "stdout",
          "text": [
            "<startofstring> He was charged under section 302 <tag>: expert_witness_testimony <endofstring> <pad>\n"
          ]
        },
        {
          "output_type": "stream",
          "name": "stderr",
          "text": [
            "Setting `pad_token_id` to `eos_token_id`:50256 for open-end generation.\n",
            " 72%|███████▏  | 47/65 [04:11<01:53,  6.33s/it]"
          ]
        },
        {
          "output_type": "stream",
          "name": "stdout",
          "text": [
            "<startofstring> He was charged under section 302 <tag>:  302. <tag>: homicide_murder <endofstring> <pad>\n"
          ]
        },
        {
          "output_type": "stream",
          "name": "stderr",
          "text": [
            "Setting `pad_token_id` to `eos_token_id`:50256 for open-end generation.\n",
            " 74%|███████▍  | 48/65 [04:16<01:41,  6.00s/it]"
          ]
        },
        {
          "output_type": "stream",
          "name": "stdout",
          "text": [
            "<startofstring> He was charged under section 302 <tag>: expert_witness_testimony <endofstring> <pad>\n"
          ]
        },
        {
          "output_type": "stream",
          "name": "stderr",
          "text": [
            "Setting `pad_token_id` to `eos_token_id`:50256 for open-end generation.\n",
            " 75%|███████▌  | 49/65 [04:25<01:50,  6.89s/it]"
          ]
        },
        {
          "output_type": "stream",
          "name": "stdout",
          "text": [
            "<startofstring> He was charged under section 302 <tag>: expert_witness_testimony <endofstring> <pad>\n"
          ]
        },
        {
          "output_type": "stream",
          "name": "stderr",
          "text": [
            "Setting `pad_token_id` to `eos_token_id`:50256 for open-end generation.\n",
            " 77%|███████▋  | 50/65 [04:29<01:27,  5.84s/it]"
          ]
        },
        {
          "output_type": "stream",
          "name": "stdout",
          "text": [
            "<startofstring> He was charged under section 302 <tag>: homicide_murder <endofstring> <pad> <pad> <endofstring> <endofstring>\n"
          ]
        },
        {
          "output_type": "stream",
          "name": "stderr",
          "text": [
            "Setting `pad_token_id` to `eos_token_id`:50256 for open-end generation.\n",
            " 78%|███████▊  | 51/65 [04:32<01:11,  5.11s/it]"
          ]
        },
        {
          "output_type": "stream",
          "name": "stdout",
          "text": [
            "<startofstring> He was charged under section 302 <tag>: homicide_murder <endofstring> <pad> <pad> <endofstring> <startofstring>\n"
          ]
        },
        {
          "output_type": "stream",
          "name": "stderr",
          "text": [
            "Setting `pad_token_id` to `eos_token_id`:50256 for open-end generation.\n",
            " 80%|████████  | 52/65 [04:36<01:02,  4.82s/it]"
          ]
        },
        {
          "output_type": "stream",
          "name": "stdout",
          "text": [
            "<startofstring> He was charged under section 302 <tag>: expert_witness_testimony <endofstring> <pad>\n"
          ]
        },
        {
          "output_type": "stream",
          "name": "stderr",
          "text": [
            "Setting `pad_token_id` to `eos_token_id`:50256 for open-end generation.\n",
            " 82%|████████▏ | 53/65 [04:46<01:16,  6.34s/it]"
          ]
        },
        {
          "output_type": "stream",
          "name": "stdout",
          "text": [
            "<startofstring> He was charged under section 302 <tag>: homicide_murder <endofstring> <pad> <pad> <startofstring> <pad>\n"
          ]
        },
        {
          "output_type": "stream",
          "name": "stderr",
          "text": [
            "Setting `pad_token_id` to `eos_token_id`:50256 for open-end generation.\n",
            " 83%|████████▎ | 54/65 [04:52<01:07,  6.11s/it]"
          ]
        },
        {
          "output_type": "stream",
          "name": "stdout",
          "text": [
            "<startofstring> He was charged under section 302 <tag>: homicide_murder <endofstring> <pad> <pad> <endofstring> <endofstring>\n"
          ]
        },
        {
          "output_type": "stream",
          "name": "stderr",
          "text": [
            "Setting `pad_token_id` to `eos_token_id`:50256 for open-end generation.\n",
            " 85%|████████▍ | 55/65 [05:01<01:11,  7.10s/it]"
          ]
        },
        {
          "output_type": "stream",
          "name": "stdout",
          "text": [
            "<startofstring> He was charged under section 302 <tag>: homicide_murder <endofstring> <pad> <pad> <startofstring> <pad>\n"
          ]
        },
        {
          "output_type": "stream",
          "name": "stderr",
          "text": [
            "Setting `pad_token_id` to `eos_token_id`:50256 for open-end generation.\n",
            " 86%|████████▌ | 56/65 [05:06<00:58,  6.53s/it]"
          ]
        },
        {
          "output_type": "stream",
          "name": "stdout",
          "text": [
            "<startofstring> He was charged under section 302 <tag>: homicide_murder <endofstring> <pad> <pad> <startofstring> <pad>\n"
          ]
        },
        {
          "output_type": "stream",
          "name": "stderr",
          "text": [
            "Setting `pad_token_id` to `eos_token_id`:50256 for open-end generation.\n",
            " 88%|████████▊ | 57/65 [05:10<00:44,  5.59s/it]"
          ]
        },
        {
          "output_type": "stream",
          "name": "stdout",
          "text": [
            "<startofstring> He was charged under section 302 <tag>: homicide_murder <endofstring> <pad> <pad> <startofstring> <pad>\n"
          ]
        },
        {
          "output_type": "stream",
          "name": "stderr",
          "text": [
            "Setting `pad_token_id` to `eos_token_id`:50256 for open-end generation.\n",
            " 89%|████████▉ | 58/65 [05:13<00:34,  4.93s/it]"
          ]
        },
        {
          "output_type": "stream",
          "name": "stdout",
          "text": [
            "<startofstring> He was charged under section 302 <tag>: homicide_murder <endofstring> <pad> <pad> <endofstring> <endofstring>\n"
          ]
        },
        {
          "output_type": "stream",
          "name": "stderr",
          "text": [
            "Setting `pad_token_id` to `eos_token_id`:50256 for open-end generation.\n",
            " 91%|█████████ | 59/65 [05:18<00:29,  4.88s/it]"
          ]
        },
        {
          "output_type": "stream",
          "name": "stdout",
          "text": [
            "<startofstring> He was charged under section 302 <tag>: homicide_murder <endofstring> <pad> <pad> <endofstring> <endofstring>\n"
          ]
        },
        {
          "output_type": "stream",
          "name": "stderr",
          "text": [
            "Setting `pad_token_id` to `eos_token_id`:50256 for open-end generation.\n",
            " 92%|█████████▏| 60/65 [05:23<00:24,  4.88s/it]"
          ]
        },
        {
          "output_type": "stream",
          "name": "stdout",
          "text": [
            "<startofstring> He was charged under section 302 <tag>:  power of grip of the IPC. <tag>: hom\n"
          ]
        },
        {
          "output_type": "stream",
          "name": "stderr",
          "text": [
            "Setting `pad_token_id` to `eos_token_id`:50256 for open-end generation.\n",
            " 94%|█████████▍| 61/65 [05:32<00:24,  6.22s/it]"
          ]
        },
        {
          "output_type": "stream",
          "name": "stdout",
          "text": [
            "<startofstring> He was charged under section 302 <tag>: homicide_murder <endofstring> <pad> <pad> <endofstring> <endofstring>\n"
          ]
        },
        {
          "output_type": "stream",
          "name": "stderr",
          "text": [
            "Setting `pad_token_id` to `eos_token_id`:50256 for open-end generation.\n",
            " 95%|█████████▌| 62/65 [05:37<00:17,  5.82s/it]"
          ]
        },
        {
          "output_type": "stream",
          "name": "stdout",
          "text": [
            "<startofstring> He was charged under section 302 <tag>: homicide_murder <endofstring> <pad> <pad> <startofstring> <pad>\n"
          ]
        },
        {
          "output_type": "stream",
          "name": "stderr",
          "text": [
            "Setting `pad_token_id` to `eos_token_id`:50256 for open-end generation.\n",
            " 97%|█████████▋| 63/65 [05:41<00:10,  5.16s/it]"
          ]
        },
        {
          "output_type": "stream",
          "name": "stdout",
          "text": [
            "<startofstring> He was charged under section 302 <tag>: homicide_murder <endofstring> <pad> <pad> <endofstring> <endofstring>\n"
          ]
        },
        {
          "output_type": "stream",
          "name": "stderr",
          "text": [
            "Setting `pad_token_id` to `eos_token_id`:50256 for open-end generation.\n",
            " 98%|█████████▊| 64/65 [05:44<00:04,  4.68s/it]"
          ]
        },
        {
          "output_type": "stream",
          "name": "stdout",
          "text": [
            "<startofstring> He was charged under section 302 <tag>:  302. <tag>: expert_witness_test\n"
          ]
        },
        {
          "output_type": "stream",
          "name": "stderr",
          "text": [
            "Setting `pad_token_id` to `eos_token_id`:50256 for open-end generation.\n",
            "100%|██████████| 65/65 [05:48<00:00,  5.36s/it]"
          ]
        },
        {
          "output_type": "stream",
          "name": "stdout",
          "text": [
            "<startofstring> He was charged under section 302 <tag>: homicide_murder <endofstring> <pad> <pad> <startofstring> <pad>\n",
            "infer from model : \n"
          ]
        },
        {
          "output_type": "stream",
          "name": "stderr",
          "text": [
            "\n"
          ]
        },
        {
          "output_type": "execute_result",
          "data": {
            "text/plain": [
              "'\\nwhile True:\\n  inp = input()\\n  print(infer(inp))\\n'"
            ],
            "application/vnd.google.colaboratory.intrinsic+json": {
              "type": "string"
            }
          },
          "metadata": {},
          "execution_count": 11
        }
      ]
    },
    {
      "cell_type": "code",
      "source": [
        "#*****file creation for testing******\n",
        "\n",
        "#print(\"prompt: \",prompt)\n",
        "#print(emp)\n",
        "pf=open('promptfile_edited.txt')\n",
        "l=''\n",
        "for i in pf:\n",
        "  s=i.split(':')\n",
        "  if \"Statement\" in s[0]:\n",
        "    l+=(s[1])\n",
        "dh={}\n",
        "dh[\"Statement\"]=[]\n",
        "dh[\"Assigned tag\"]=[]\n",
        "p=[\"homicide_murder\",\"life_imprisonment\",\"riot\",\"physical_assault\",\"evidence_inconsistency\",\"witness_testimony\",\"expert_witness_testimony\"]\n",
        "for j in p:\n",
        "    dl=list(emp[emp[2]==j].index.values)\n",
        "    c=0\n",
        "    for i in dl:\n",
        "        if emp[0][i] not in dh[\"Statement\"] and emp[0][i] not in l:\n",
        "            dh[\"Statement\"].append(emp[0][i])\n",
        "            dh[\"Assigned tag\"].append(emp[2][i])\n",
        "            c=c+1\n",
        "        if c==20:\n",
        "            break\n",
        "    #print(dh)\n",
        "'''\n",
        "for j in s: #to generate statements from others tag in the test set\n",
        "    c=0\n",
        "    for i in emp.index.values:\n",
        "        if j in emp[2][i]:\n",
        "           dh[\"Statement\"].append(emp[0][i])\n",
        "           dh[\"Assigned tag\"].append(emp[2][i])\n",
        "           c+=1\n",
        "        if c==2:\n",
        "            break\n",
        "'''\n",
        "\n",
        "p.append(\"others\")\n",
        "\n",
        "hm=pd.DataFrame(data=dh)\n",
        "print(hm)\n",
        "#hm.to_csv('h2_test.csv', index=False)\n",
        "\n",
        "ip=list(hm.index.values)\n",
        "#print(ip)\n",
        "#r=1005 # The starting index from which checking should be started\n",
        "l=[]\n",
        "for i in ip:\n",
        "    print(\"Statement:\",hm[\"Statement\"][i])\n",
        "    s = infer(hm[\"Statement\"][i])+'<endofstring>'\n",
        "    print(s)\n",
        "    j=s.index('<endofstring>')\n",
        "    m=s.index('<tag>:')\n",
        "    #p=s[i:].split(':')[1]\n",
        "    response=s[m:j].split(':')[1]\n",
        "    #print(p)\n",
        "    print(\"Generated Tag:\",response)\n",
        "    print(\"Assigned Tag:\",hm[\"Assigned tag\"][i])\n",
        "    l.append(response)\n",
        "hm[\"generated response\"]=l\n",
        "hm.to_excel('gpt2_test.xlsx', index=False)\n"
      ],
      "metadata": {
        "colab": {
          "base_uri": "https://localhost:8080/"
        },
        "id": "w6eIiSbPUWRH",
        "outputId": "86ce6ff5-fa9f-4279-9324-b7169da89702"
      },
      "execution_count": 12,
      "outputs": [
        {
          "output_type": "stream",
          "name": "stderr",
          "text": [
            "Setting `pad_token_id` to `eos_token_id`:50256 for open-end generation.\n",
            "Setting `pad_token_id` to `eos_token_id`:50256 for open-end generation.\n"
          ]
        },
        {
          "output_type": "stream",
          "name": "stdout",
          "text": [
            "                                             Statement  \\\n",
            "0    The High Court also held that the case of the ...   \n",
            "1            conviction and sentence under Section 302   \n",
            "2    charge under Section 302 read with Section 34 ...   \n",
            "3    three sons Kulwant Singh, Gurmit Singh and Man...   \n",
            "4    appeal is held devoid of any merit and is dism...   \n",
            "..                                                 ...   \n",
            "120  An incised wound 8 cms x 3 cms x 2 cms over th...   \n",
            "121  Laceration 8 cms x 4 cms x 2 cm over the inner...   \n",
            "122  Laceration 4 x 3 x 1 cm over inner side of lef...   \n",
            "123  Laceration 5 cms x cms x 1 cm over the dorsal ...   \n",
            "124                            Heart : Chambers empty.   \n",
            "\n",
            "                 Assigned tag  \n",
            "0             homicide_murder  \n",
            "1             homicide_murder  \n",
            "2             homicide_murder  \n",
            "3             homicide_murder  \n",
            "4             homicide_murder  \n",
            "..                        ...  \n",
            "120  expert_witness_testimony  \n",
            "121  expert_witness_testimony  \n",
            "122  expert_witness_testimony  \n",
            "123  expert_witness_testimony  \n",
            "124  expert_witness_testimony  \n",
            "\n",
            "[125 rows x 2 columns]\n",
            "Statement: The High Court also held that the case of the accused is covered under Clause (4) of Section 300 of IPC and, therefore, passed an order of conviction of the appellant under Section 302 IPC for murder\n",
            "<startofstring> The High Court also held that the case of the accused is covered under Clause (4) of Section 300 of IPC and, therefore, passed an order of conviction of the appellant under Section 302 IPC for murder <tag>: homicide_murder <endofstring> <pad> <pad> <tag>: <pad><endofstring>\n",
            "Generated Tag:  homicide_murder \n",
            "Assigned Tag: homicide_murder\n",
            "Statement: conviction and sentence under Section 302\n"
          ]
        },
        {
          "output_type": "stream",
          "name": "stderr",
          "text": [
            "Setting `pad_token_id` to `eos_token_id`:50256 for open-end generation.\n",
            "Setting `pad_token_id` to `eos_token_id`:50256 for open-end generation.\n"
          ]
        },
        {
          "output_type": "stream",
          "name": "stdout",
          "text": [
            "<startofstring> conviction and sentence under Section 302 <tag>: homicide_murder <endofstring> <pad> <pad> <startofstring> <pad><endofstring>\n",
            "Generated Tag:  homicide_murder \n",
            "Assigned Tag: homicide_murder\n",
            "Statement: charge under Section 302 read with Section 34 of the IPC and convicted all of them under the aforesaid sections.\n",
            "<startofstring> charge under Section 302 read with Section 34 of the IPC and convicted all of them under the aforesaid sections. <tag>: homicide_murder <endofstring> <pad> <pad> <startofstring> <pad><endofstring>\n",
            "Generated Tag:  homicide_murder \n",
            "Assigned Tag: homicide_murder\n",
            "Statement: three sons Kulwant Singh, Gurmit Singh and Mangal Singh were tried on charges under Sections 302\n"
          ]
        },
        {
          "output_type": "stream",
          "name": "stderr",
          "text": [
            "Setting `pad_token_id` to `eos_token_id`:50256 for open-end generation.\n",
            "Setting `pad_token_id` to `eos_token_id`:50256 for open-end generation.\n"
          ]
        },
        {
          "output_type": "stream",
          "name": "stdout",
          "text": [
            "<startofstring> three sons Kulwant Singh, Gurmit Singh and Mangal Singh were tried on charges under Sections 302 <tag>: homicide_murder <endofstring> <pad> <pad> <startofstring> <pad><endofstring>\n",
            "Generated Tag:  homicide_murder \n",
            "Assigned Tag: homicide_murder\n",
            "Statement: appeal is held devoid of any merit and is dismissed\n",
            "<startofstring> appeal is held devoid of any merit and is dismissed <tag>: Others <endofstring> <pad> <pad> <startofstring> <pad> <tag>: <pad> <endofstring> <startofstring><endofstring>\n",
            "Generated Tag:  Others \n",
            "Assigned Tag: homicide_murder\n",
            "Statement: Kulwant Singh was held guilty under Sections 302\n"
          ]
        },
        {
          "output_type": "stream",
          "name": "stderr",
          "text": [
            "Setting `pad_token_id` to `eos_token_id`:50256 for open-end generation.\n",
            "Setting `pad_token_id` to `eos_token_id`:50256 for open-end generation.\n"
          ]
        },
        {
          "output_type": "stream",
          "name": "stdout",
          "text": [
            "<startofstring> Kulwant Singh was held guilty under Sections 302 <tag>: homicide_murder <endofstring> <pad> <pad> <endofstring> <endofstring><endofstring>\n",
            "Generated Tag:  homicide_murder \n",
            "Assigned Tag: homicide_murder\n",
            "Statement: respondents herein were convicted for the offences punishable under Section 302\n",
            "<startofstring> respondents herein were convicted for the offences punishable under Section 302 <tag>: homicide_murder <endofstring> <pad> <pad> <startofstring> <pad><endofstring>\n",
            "Generated Tag:  homicide_murder \n",
            "Assigned Tag: homicide_murder\n",
            "Statement: The trial court after a very careful consideration and meticulous discussion of the evidence on record found that the prosecution case was proved beyond reasonable doubt and accordingly convicted the respondents under s. 302\n"
          ]
        },
        {
          "output_type": "stream",
          "name": "stderr",
          "text": [
            "Setting `pad_token_id` to `eos_token_id`:50256 for open-end generation.\n",
            "Setting `pad_token_id` to `eos_token_id`:50256 for open-end generation.\n"
          ]
        },
        {
          "output_type": "stream",
          "name": "stdout",
          "text": [
            "<startofstring> The trial court after a very careful consideration and meticulous discussion of the evidence on record found that the prosecution case was proved beyond reasonable doubt and accordingly convicted the respondents under s. 302 <tag>: homicide_murder <endofstring> <pad> <pad> <startofstring> <pad><endofstring>\n",
            "Generated Tag:  homicide_murder \n",
            "Assigned Tag: homicide_murder\n",
            "Statement: The respondents were convicted and sentenced under 8.\n",
            "<startofstring> The respondents were convicted and sentenced under 8. <tag>: Others <endofstring> <pad> <pad> <startofstring> <pad> <endofstring> <startofstring> <startofstring> <endofstring><endofstring>\n",
            "Generated Tag:  Others \n",
            "Assigned Tag: homicide_murder\n",
            "Statement: charged for committing an offence under Sections 302\n"
          ]
        },
        {
          "output_type": "stream",
          "name": "stderr",
          "text": [
            "Setting `pad_token_id` to `eos_token_id`:50256 for open-end generation.\n",
            "Setting `pad_token_id` to `eos_token_id`:50256 for open-end generation.\n"
          ]
        },
        {
          "output_type": "stream",
          "name": "stdout",
          "text": [
            "<startofstring> charged for committing an offence under Sections 302 <tag>: homicide_murder <endofstring> <pad> <pad> <startofstring> <pad><endofstring>\n",
            "Generated Tag:  homicide_murder \n",
            "Assigned Tag: homicide_murder\n",
            "Statement: Respondent Shera Ram @ Vishnu Dutta was charged for committing an offence under Sections 302\n",
            "<startofstring> Respondent Shera Ram @ Vishnu Dutta was charged for committing an offence under Sections 302 <tag>: homicide_murder <endofstring> <pad> <pad> <startofstring> <pad><endofstring>\n",
            "Generated Tag:  homicide_murder \n",
            "Assigned Tag: homicide_murder\n",
            "Statement: conviction of the appellants under Section 302\n"
          ]
        },
        {
          "output_type": "stream",
          "name": "stderr",
          "text": [
            "Setting `pad_token_id` to `eos_token_id`:50256 for open-end generation.\n",
            "Setting `pad_token_id` to `eos_token_id`:50256 for open-end generation.\n"
          ]
        },
        {
          "output_type": "stream",
          "name": "stdout",
          "text": [
            "<startofstring> conviction of the appellants under Section 302 <tag>: homicide_murder <endofstring> <pad> <pad> <startofstring> <pad><endofstring>\n",
            "Generated Tag:  homicide_murder \n",
            "Assigned Tag: homicide_murder\n",
            "Statement: FIR was registered in Case No.12 of 2002 under Section 302\n",
            "<startofstring> FIR was registered in Case No.12 of 2002 under Section 302 <tag>: homicide_murder <endofstring> <pad> <pad> <startofstring> <pad><endofstring>\n",
            "Generated Tag:  homicide_murder \n",
            "Assigned Tag: homicide_murder\n",
            "Statement: After investigation, chargesheet was filed against the appellants and other accused under Section 302\n"
          ]
        },
        {
          "output_type": "stream",
          "name": "stderr",
          "text": [
            "Setting `pad_token_id` to `eos_token_id`:50256 for open-end generation.\n",
            "Setting `pad_token_id` to `eos_token_id`:50256 for open-end generation.\n"
          ]
        },
        {
          "output_type": "stream",
          "name": "stdout",
          "text": [
            "<startofstring> After investigation, chargesheet was filed against the appellants and other accused under Section 302 <tag>: homicide_murder <endofstring> <pad> <pad> <startofstring> <pad><endofstring>\n",
            "Generated Tag:  homicide_murder \n",
            "Assigned Tag: homicide_murder\n",
            "Statement: appellants were rightly convicted under Section 302\n",
            "<startofstring> appellants were rightly convicted under Section 302 <tag>: homicide_murder <endofstring> <pad> <pad> <startofstring> <pad><endofstring>\n",
            "Generated Tag:  homicide_murder \n",
            "Assigned Tag: homicide_murder\n",
            "Statement: In that case Raghbir and Mani 729 Ram were charged under s. 302 read with s. 34 of the Indian Penal Code for having caused the death of Sahi Ram and Sultan and Dalip were charged under s. 302 read with s. 109 of the same Code in the same connection.\n"
          ]
        },
        {
          "output_type": "stream",
          "name": "stderr",
          "text": [
            "Setting `pad_token_id` to `eos_token_id`:50256 for open-end generation.\n",
            "Setting `pad_token_id` to `eos_token_id`:50256 for open-end generation.\n"
          ]
        },
        {
          "output_type": "stream",
          "name": "stdout",
          "text": [
            "<startofstring> In that case Raghbir and Mani 729 Ram were charged under s. 302 read with s. 34 of the Indian Penal Code for having caused the death of Sahi Ram and Sultan and Dalip were charged under s. 302 read with s. 109 of the same Code in the same connection. <tag>: homicide_murder <endofstring> <pad> <pad> <endofstring> <tag>:<endofstring>\n",
            "Generated Tag:  homicide_murder \n",
            "Assigned Tag: homicide_murder\n",
            "Statement: appellant has been convicted under Section 302 IPC for causing death of Balwant Kaur\n",
            "<startofstring> appellant has been convicted under Section 302 IPC for causing death of Balwant Kaur <tag>: homicide_murder <endofstring> <pad> <pad> <startofstring> <pad><endofstring>\n",
            "Generated Tag:  homicide_murder \n",
            "Assigned Tag: homicide_murder\n",
            "Statement: we are of the view that the High Court was right in confirming the conviction of the appellant\n"
          ]
        },
        {
          "output_type": "stream",
          "name": "stderr",
          "text": [
            "Setting `pad_token_id` to `eos_token_id`:50256 for open-end generation.\n",
            "Setting `pad_token_id` to `eos_token_id`:50256 for open-end generation.\n"
          ]
        },
        {
          "output_type": "stream",
          "name": "stdout",
          "text": [
            "<startofstring> we are of the view that the High Court was right in confirming the conviction of the appellant <tag>: witness_testimony <endofstring> <pad> <pad> <startofstring> <pad><endofstring>\n",
            "Generated Tag:  witness_testimony \n",
            "Assigned Tag: homicide_murder\n",
            "Statement: The appellant has been convicted under Section 302 IPC for causing death of Balwant Kaur.\n",
            "<startofstring> The appellant has been convicted under Section 302 IPC for causing death of Balwant Kaur. <tag>: homicide_murder <endofstring> <pad> <pad> <startofstring> <pad><endofstring>\n",
            "Generated Tag:  homicide_murder \n",
            "Assigned Tag: homicide_murder\n",
            "Statement: Initially, the appellant/accused Govindaraju was tried for offence under Section 302\n"
          ]
        },
        {
          "output_type": "stream",
          "name": "stderr",
          "text": [
            "Setting `pad_token_id` to `eos_token_id`:50256 for open-end generation.\n",
            "Setting `pad_token_id` to `eos_token_id`:50256 for open-end generation.\n"
          ]
        },
        {
          "output_type": "stream",
          "name": "stdout",
          "text": [
            "<startofstring> Initially, the appellant/accused Govindaraju was tried for offence under Section 302 <tag>: homicide_murder <endofstring> <pad> <pad> <startofstring> <pad><endofstring>\n",
            "Generated Tag:  homicide_murder \n",
            "Assigned Tag: homicide_murder\n",
            "Statement: Mukhtiyar and Asif have been sentenced to death whereas accused Raziulla life imprisonment.\n",
            "<startofstring> Mukhtiyar and Asif have been sentenced to death whereas accused Raziulla life imprisonment. <tag>: life_imprisonment <endofstring> <pad> <pad> <startofstring> <pad><endofstring>\n",
            "Generated Tag:  life_imprisonment \n",
            "Assigned Tag: life_imprisonment\n",
            "Statement: In our view the evidence in this case is.\n"
          ]
        },
        {
          "output_type": "stream",
          "name": "stderr",
          "text": [
            "Setting `pad_token_id` to `eos_token_id`:50256 for open-end generation.\n",
            "Setting `pad_token_id` to `eos_token_id`:50256 for open-end generation.\n"
          ]
        },
        {
          "output_type": "stream",
          "name": "stdout",
          "text": [
            "<startofstring> In our view the evidence in this case is. <tag>: evidence_inconsistency <endofstring> <pad> <pad> <startofstring><endofstring>\n",
            "Generated Tag:  evidence_inconsistency \n",
            "Assigned Tag: life_imprisonment\n",
            "Statement: - sufficient to justify the conviction of the accused for an offence of murder.\n",
            "<startofstring> - sufficient to justify the conviction of the accused for an offence of murder. <tag>: homicide_murder <endofstring> <pad> <pad> <startofstring> <pad><endofstring>\n",
            "Generated Tag:  homicide_murder \n",
            "Assigned Tag: life_imprisonment\n",
            "Statement: We, accordingly set aside the judgment of acquittal of the High Court, convict the accused under Sec.\n"
          ]
        },
        {
          "output_type": "stream",
          "name": "stderr",
          "text": [
            "Setting `pad_token_id` to `eos_token_id`:50256 for open-end generation.\n",
            "Setting `pad_token_id` to `eos_token_id`:50256 for open-end generation.\n"
          ]
        },
        {
          "output_type": "stream",
          "name": "stdout",
          "text": [
            "<startofstring> We, accordingly set aside the judgment of acquittal of the High Court, convict the accused under Sec. <tag>: homicide_murder <endofstring> <pad> <pad> <startofstring> <pad><endofstring>\n",
            "Generated Tag:  homicide_murder \n",
            "Assigned Tag: life_imprisonment\n",
            "Statement: 302 and sentence him to life imprisonment.\n",
            "<startofstring> 302 and sentence him to life imprisonment. <tag>: life_imprisonment <endofstring> <pad> <pad> <startofstring> <pad><endofstring>\n",
            "Generated Tag:  life_imprisonment \n",
            "Assigned Tag: life_imprisonment\n",
            "Statement: sentence him to life imprisonment.\n"
          ]
        },
        {
          "output_type": "stream",
          "name": "stderr",
          "text": [
            "Setting `pad_token_id` to `eos_token_id`:50256 for open-end generation.\n",
            "Setting `pad_token_id` to `eos_token_id`:50256 for open-end generation.\n"
          ]
        },
        {
          "output_type": "stream",
          "name": "stdout",
          "text": [
            "<startofstring> sentence him to life imprisonment. <tag>: life_imprisonment <endofstring> <pad> <pad> <startofstring> <pad><endofstring>\n",
            "Generated Tag:  life_imprisonment \n",
            "Assigned Tag: life_imprisonment\n",
            "Statement: sentenced them to imprisonment for life\n",
            "<startofstring> sentenced them to imprisonment for life <tag>: life_imprisonment <endofstring> <pad> <pad> <endofstring> <startofstring><endofstring>\n",
            "Generated Tag:  life_imprisonment \n",
            "Assigned Tag: life_imprisonment\n",
            "Statement: The instant case is one where a person whose death sentence has been substituted to life imprisonment\n"
          ]
        },
        {
          "output_type": "stream",
          "name": "stderr",
          "text": [
            "Setting `pad_token_id` to `eos_token_id`:50256 for open-end generation.\n",
            "Setting `pad_token_id` to `eos_token_id`:50256 for open-end generation.\n"
          ]
        },
        {
          "output_type": "stream",
          "name": "stdout",
          "text": [
            "<startofstring> The instant case is one where a person whose death sentence has been substituted to life imprisonment <tag>: life_imprisonment <endofstring> <pad> <pad> <startofstring> <pad><endofstring>\n",
            "Generated Tag:  life_imprisonment \n",
            "Assigned Tag: life_imprisonment\n",
            "Statement: it shall be ensured that the respondent will first serve the term of life imprisonment\n",
            "<startofstring> it shall be ensured that the respondent will first serve the term of life imprisonment <tag>: life_imprisonment <endofstring> <pad> <pad> <startofstring> <pad><endofstring>\n",
            "Generated Tag:  life_imprisonment \n",
            "Assigned Tag: life_imprisonment\n",
            "Statement: In the case before us, nine years have passed after substitution of his death sentence by life imprisonment.\n"
          ]
        },
        {
          "output_type": "stream",
          "name": "stderr",
          "text": [
            "Setting `pad_token_id` to `eos_token_id`:50256 for open-end generation.\n",
            "Setting `pad_token_id` to `eos_token_id`:50256 for open-end generation.\n"
          ]
        },
        {
          "output_type": "stream",
          "name": "stdout",
          "text": [
            "<startofstring> In the case before us, nine years have passed after substitution of his death sentence by life imprisonment. <tag>: life_imprisonment <endofstring> <pad> <pad> <endofstring> <startofstring><endofstring>\n",
            "Generated Tag:  life_imprisonment \n",
            "Assigned Tag: life_imprisonment\n",
            "Statement: sentenced him to undergo imprisonment for life along with a fine of Rs.5,000/- and, in default of payment of fine, to further undergo imprisonment of one year.\n",
            "<startofstring> sentenced him to undergo imprisonment for life along with a fine of Rs.5,000/- and, in default of payment of fine, to further undergo imprisonment of one year. <tag>: life_imprisonment <endofstring> <pad> <pad> <startofstring> <pad><endofstring>\n",
            "Generated Tag:  life_imprisonment \n",
            "Assigned Tag: life_imprisonment\n",
            "Statement: keep them sentenced to fife imprisonment\n"
          ]
        },
        {
          "output_type": "stream",
          "name": "stderr",
          "text": [
            "Setting `pad_token_id` to `eos_token_id`:50256 for open-end generation.\n",
            "Setting `pad_token_id` to `eos_token_id`:50256 for open-end generation.\n"
          ]
        },
        {
          "output_type": "stream",
          "name": "stdout",
          "text": [
            "<startofstring> keep them sentenced to fife imprisonment <tag>: life_imprisonment <endofstring> <pad> <pad> <startofstring> <pad><endofstring>\n",
            "Generated Tag:  life_imprisonment \n",
            "Assigned Tag: life_imprisonment\n",
            "Statement: They were sentenced to imprisonment for life.\n",
            "<startofstring> They were sentenced to imprisonment for life. <tag>: life_imprisonment <endofstring> <pad> <pad> <endofstring> <startofstring><endofstring>\n",
            "Generated Tag:  life_imprisonment \n",
            "Assigned Tag: life_imprisonment\n",
            "Statement: keep them sentenced to fife imprisonment.\n"
          ]
        },
        {
          "output_type": "stream",
          "name": "stderr",
          "text": [
            "Setting `pad_token_id` to `eos_token_id`:50256 for open-end generation.\n",
            "Setting `pad_token_id` to `eos_token_id`:50256 for open-end generation.\n"
          ]
        },
        {
          "output_type": "stream",
          "name": "stdout",
          "text": [
            "<startofstring> keep them sentenced to fife imprisonment. <tag>: life_imprisonment <endofstring> <pad> <pad> <startofstring> <pad><endofstring>\n",
            "Generated Tag:  life_imprisonment \n",
            "Assigned Tag: life_imprisonment\n",
            "Statement: These appellants shall surrender to their bail- bonds to undergo the sentence of imprisonment.\n",
            "<startofstring> These appellants shall surrender to their bail- bonds to undergo the sentence of imprisonment. <tag>: Others <endofstring> <pad> <pad> <startofstring> <pad> <endofstring> <startofstring> <startofstring> <tag>:<endofstring>\n",
            "Generated Tag:  Others \n",
            "Assigned Tag: life_imprisonment\n",
            "Statement: sentenced him to imprisonment for life\n"
          ]
        },
        {
          "output_type": "stream",
          "name": "stderr",
          "text": [
            "Setting `pad_token_id` to `eos_token_id`:50256 for open-end generation.\n",
            "Setting `pad_token_id` to `eos_token_id`:50256 for open-end generation.\n"
          ]
        },
        {
          "output_type": "stream",
          "name": "stdout",
          "text": [
            "<startofstring> sentenced him to imprisonment for life <tag>: life_imprisonment <endofstring> <pad> <pad> <startofstring> <pad><endofstring>\n",
            "Generated Tag:  life_imprisonment \n",
            "Assigned Tag: life_imprisonment\n",
            "Statement: sentence of RI for life\n",
            "<startofstring> sentence of RI for life <tag>: life_imprisonment <endofstring> <pad> <pad> <startofstring> <pad><endofstring>\n",
            "Generated Tag:  life_imprisonment \n",
            "Assigned Tag: life_imprisonment\n",
            "Statement: imposed life sentence\n"
          ]
        },
        {
          "output_type": "stream",
          "name": "stderr",
          "text": [
            "Setting `pad_token_id` to `eos_token_id`:50256 for open-end generation.\n",
            "Setting `pad_token_id` to `eos_token_id`:50256 for open-end generation.\n"
          ]
        },
        {
          "output_type": "stream",
          "name": "stdout",
          "text": [
            "<startofstring> imposed life sentence <tag>: life_imprisonment <endofstring> <pad> <pad> <endofstring> <startofstring><endofstring>\n",
            "Generated Tag:  life_imprisonment \n",
            "Assigned Tag: life_imprisonment\n",
            "Statement: convicted by the trial court\n",
            "<startofstring> convicted by the trial court <tag>:  accused formed an unlawful assembly carrying weapons which were used<endofstring>\n",
            "Generated Tag:   accused formed an unlawful assembly carrying weapons which were used\n",
            "Assigned Tag: life_imprisonment\n",
            "Statement: sentenced to imprisonment for life\n"
          ]
        },
        {
          "output_type": "stream",
          "name": "stderr",
          "text": [
            "Setting `pad_token_id` to `eos_token_id`:50256 for open-end generation.\n",
            "Setting `pad_token_id` to `eos_token_id`:50256 for open-end generation.\n"
          ]
        },
        {
          "output_type": "stream",
          "name": "stdout",
          "text": [
            "<startofstring> sentenced to imprisonment for life <tag>: life_imprisonment <endofstring> <pad> <pad> <startofstring> <pad><endofstring>\n",
            "Generated Tag:  life_imprisonment \n",
            "Assigned Tag: life_imprisonment\n",
            "Statement: After this form of agitation continued for some time, the District Magistrate of Manipur promulgated orders under s. 144, Criminal Proce- dure Code on the morning of April 25, 1960 banning public meetings and processions and these orders were proclaimed and communicated to the public through loudspeakers.\n",
            "<startofstring> After this form of agitation continued for some time, the District Magistrate of Manipur promulgated orders under s. 144, Criminal Proce- dure Code on the morning of April 25, 1960 banning public meetings and processions and these orders were proclaimed and communicated to the public through loudspeakers. <tag>: Others <endofstring> <pad> <pad> <tag>: <pad> <startofstring> <pad> <endofstring> <tag>:<endofstring>\n",
            "Generated Tag:  Others \n",
            "Assigned Tag: riot\n",
            "Statement: Not- withstanding this order, crowds continued to collect and move on the streets shouting slogans.\n"
          ]
        },
        {
          "output_type": "stream",
          "name": "stderr",
          "text": [
            "Setting `pad_token_id` to `eos_token_id`:50256 for open-end generation.\n",
            "Setting `pad_token_id` to `eos_token_id`:50256 for open-end generation.\n"
          ]
        },
        {
          "output_type": "stream",
          "name": "stdout",
          "text": [
            "<startofstring> Not- withstanding this order, crowds continued to collect and move on the streets shouting slogans. <tag>: riot <endofstring> <pad> <pad> <tag>: <tag>: <pad> <startofstring> <pad> <endofstring><endofstring>\n",
            "Generated Tag:  riot \n",
            "Assigned Tag: riot\n",
            "Statement: Bira Singh-the res- pondent- was said to have been leading this mob.\n",
            "<startofstring> Bira Singh-the res- pondent- was said to have been leading this mob. <tag>: riot <endofstring> <pad> <pad> <startofstring> <pad> <endofstring> <startofstring> <startofstring> <tag>:<endofstring>\n",
            "Generated Tag:  riot \n",
            "Assigned Tag: riot\n",
            "Statement: A lathi charge by the police took place but it is stated that because of this the crowd moved a little away and began to pelt stones.\n"
          ]
        },
        {
          "output_type": "stream",
          "name": "stderr",
          "text": [
            "Setting `pad_token_id` to `eos_token_id`:50256 for open-end generation.\n",
            "Setting `pad_token_id` to `eos_token_id`:50256 for open-end generation.\n"
          ]
        },
        {
          "output_type": "stream",
          "name": "stdout",
          "text": [
            "<startofstring> A lathi charge by the police took place but it is stated that because of this the crowd moved a little away and began to pelt stones. <tag>: riot <endofstring> <pad> <pad> <startofstring> <pad> <endofstring> <startofstring> <startofstring> <tag>:<endofstring>\n",
            "Generated Tag:  riot \n",
            "Assigned Tag: riot\n",
            "Statement: The crowd was thereupon directed to disperse, its attention being drawn to the promulgation of the order under s. 144, Criminal Procedure Code and to the fact that the gathering in a public place in violation of the order made it an unlawful assembly\n",
            "<startofstring> The crowd was thereupon directed to disperse, its attention being drawn to the promulgation of the order under s. 144, Criminal Procedure Code and to the fact that the gathering in a public place in violation of the order made it an unlawful assembly <tag>: riot <endofstring> <pad> <pad> <startofstring> <pad> <endofstring> <startofstring> <startofstring> <tag>:<endofstring>\n",
            "Generated Tag:  riot \n",
            "Assigned Tag: riot\n",
            "Statement: the appellants were acquitted of the charges of being members of an unlawful assembly\n"
          ]
        },
        {
          "output_type": "stream",
          "name": "stderr",
          "text": [
            "Setting `pad_token_id` to `eos_token_id`:50256 for open-end generation.\n",
            "Setting `pad_token_id` to `eos_token_id`:50256 for open-end generation.\n"
          ]
        },
        {
          "output_type": "stream",
          "name": "stdout",
          "text": [
            "<startofstring> the appellants were acquitted of the charges of being members of an unlawful assembly <tag>: riot <endofstring> <pad> <pad> <startofstring> <pad> <endofstring> <startofstring> <startofstring> <endofstring><endofstring>\n",
            "Generated Tag:  riot \n",
            "Assigned Tag: riot\n",
            "Statement: , the common object of which was an attempt on Puran's life\n",
            "<startofstring>, the common object of which was an attempt on Puran's life <tag>: Others <endofstring> <pad> <pad> <startofstring> <pad> <endofstring> <startofstring> <startofstring> <endofstring><endofstring>\n",
            "Generated Tag:  Others \n",
            "Assigned Tag: riot\n",
            "Statement: Eleven persons, including the right appellants in these appeals, were indicted before the Sessions Judge, Beed in Sessions Case No. 82 of 1982 for rioting\n"
          ]
        },
        {
          "output_type": "stream",
          "name": "stderr",
          "text": [
            "Setting `pad_token_id` to `eos_token_id`:50256 for open-end generation.\n",
            "Setting `pad_token_id` to `eos_token_id`:50256 for open-end generation.\n"
          ]
        },
        {
          "output_type": "stream",
          "name": "stdout",
          "text": [
            "<startofstring> Eleven persons, including the right appellants in these appeals, were indicted before the Sessions Judge, Beed in Sessions Case No. 82 of 1982 for rioting <tag>: riot <endofstring> <pad> <pad> <startofstring> <pad> <tag>: <pad> <endofstring> <tag>:<endofstring>\n",
            "Generated Tag:  riot \n",
            "Assigned Tag: riot\n",
            "Statement: from these circumstances accused can be accepted to have the common object of the assembly of beating with sticks and causing injuries with sticks\n",
            "<startofstring> from these circumstances accused can be accepted to have the common object of the assembly of beating with sticks and causing injuries with sticks <tag>: physical_assault <endofstring> <pad> <pad> <startofstring> <pad> <endofstring> <startofstring><endofstring>\n",
            "Generated Tag:  physical_assault \n",
            "Assigned Tag: riot\n",
            "Statement: All the accused formed an unlawful assembly with the common object of committing the murder of the deceased\n"
          ]
        },
        {
          "output_type": "stream",
          "name": "stderr",
          "text": [
            "Setting `pad_token_id` to `eos_token_id`:50256 for open-end generation.\n",
            "Setting `pad_token_id` to `eos_token_id`:50256 for open-end generation.\n"
          ]
        },
        {
          "output_type": "stream",
          "name": "stdout",
          "text": [
            "<startofstring> All the accused formed an unlawful assembly with the common object of committing the murder of the deceased <tag>: homicide_murder <endofstring> <pad> <pad> <startofstring> <pad><endofstring>\n",
            "Generated Tag:  homicide_murder \n",
            "Assigned Tag: riot\n",
            "Statement: agitation that started in February 1985 against government policy of reservation in the State of Gujarat turned into communal riots of shocking magnitude between Hindus and Muslims in March 1985\n",
            "<startofstring> agitation that started in February 1985 against government policy of reservation in the State of Gujarat turned into communal riots of shocking magnitude between Hindus and Muslims in March 1985 <tag>: riot <endofstring> <pad> <pad> <startofstring> <pad> <endofstring> <tag>: <pad> <tag>:<endofstring>\n",
            "Generated Tag:  riot \n",
            "Assigned Tag: riot\n",
            "Statement: The agitation that started in February 1985 against government policy of reservation in the State of Gujarat turned into communal riots of shocking magnitude between Hindus and Muslims in March 1985, and resulted in mass exodus of Dabgars, a Hindu community, from their houses in the affected locality.\n"
          ]
        },
        {
          "output_type": "stream",
          "name": "stderr",
          "text": [
            "Setting `pad_token_id` to `eos_token_id`:50256 for open-end generation.\n"
          ]
        },
        {
          "output_type": "stream",
          "name": "stdout",
          "text": [
            "<startofstring> The agitation that started in February 1985 against government policy of reservation in the State of Gujarat turned into communal riots of shocking magnitude between Hindus and Muslims in March 1985, and resulted in mass exodus of Dabgars, a Hindu community, from their houses in the affected locality. <tag>: riot <endofstring> <pad> <pad> <tag>: <pad> <endofstring> <tag>: Others <endofstring><endofstring>\n",
            "Generated Tag:  riot \n",
            "Assigned Tag: riot\n",
            "Statement: In the opinion of the High Court,-the circumstances of the case showed that all the accused were members of an unlawful assembly and that the common object of that assembly was to do away with Kunju deceased, who had earlier on that day organized the meeting.\n"
          ]
        },
        {
          "output_type": "stream",
          "name": "stderr",
          "text": [
            "Setting `pad_token_id` to `eos_token_id`:50256 for open-end generation.\n"
          ]
        },
        {
          "output_type": "stream",
          "name": "stdout",
          "text": [
            "<startofstring> In the opinion of the High Court,-the circumstances of the case showed that all the accused were members of an unlawful assembly and that the common object of that assembly was to do away with Kunju deceased, who had earlier on that day organized the meeting. <tag>: riot <endofstring> <pad> <pad> <startofstring> <pad> <tag>: homicide_<endofstring>\n",
            "Generated Tag:  riot \n",
            "Assigned Tag: riot\n",
            "Statement: In the result, accused 6 to 10 were also convicted as mentioned earlier\n"
          ]
        },
        {
          "output_type": "stream",
          "name": "stderr",
          "text": [
            "Setting `pad_token_id` to `eos_token_id`:50256 for open-end generation.\n"
          ]
        },
        {
          "output_type": "stream",
          "name": "stdout",
          "text": [
            "<startofstring> In the result, accused 6 to 10 were also convicted as mentioned earlier <tag>: Others <endofstring> <pad> <pad> <startofstring> <pad> <endofstring> <startofstring> <startofstring> <endofstring><endofstring>\n",
            "Generated Tag:  Others \n",
            "Assigned Tag: riot\n",
            "Statement: The mob which came around 11 a.m. was said to have been armed with iron rods and sticks; but then it was not causing any damage.\n"
          ]
        },
        {
          "output_type": "stream",
          "name": "stderr",
          "text": [
            "Setting `pad_token_id` to `eos_token_id`:50256 for open-end generation.\n"
          ]
        },
        {
          "output_type": "stream",
          "name": "stdout",
          "text": [
            "<startofstring> The mob which came around 11 a.m. was said to have been armed with iron rods and sticks; but then it was not causing any damage. <tag>: riot <endofstring> <pad> <pad> <startofstring> <pad> <endofstring> <startofstring> <startofstring> <endofstring><endofstring>\n",
            "Generated Tag:  riot \n",
            "Assigned Tag: riot\n",
            "Statement: Rather, it was being advised by this mob that the persons staying in jhudgis should get their hairs cut if they wanted to save their lives.\n"
          ]
        },
        {
          "output_type": "stream",
          "name": "stderr",
          "text": [
            "Setting `pad_token_id` to `eos_token_id`:50256 for open-end generation.\n"
          ]
        },
        {
          "output_type": "stream",
          "name": "stdout",
          "text": [
            "<startofstring> Rather, it was being advised by this mob that the persons staying in jhudgis should get their hairs cut if they wanted to save their lives. <tag>: life_imprisonment <endofstring> <pad> <pad> <startofstring> <pad><endofstring>\n",
            "Generated Tag:  life_imprisonment \n",
            "Assigned Tag: riot\n",
            "Statement: But then another mob came which, according to PW.1, consisted of 200-1200 by PW.2 According to PW.4 the mob consisted of 100 persons.\n"
          ]
        },
        {
          "output_type": "stream",
          "name": "stderr",
          "text": [
            "Setting `pad_token_id` to `eos_token_id`:50256 for open-end generation.\n"
          ]
        },
        {
          "output_type": "stream",
          "name": "stdout",
          "text": [
            "<startofstring> But then another mob came which, according to PW.1, consisted of 200-1200 by PW.2 According to PW.4 the mob consisted of 100 persons. <tag>: riot <endofstring> <pad> <pad> <tag>: witness_testimony<endofstring>\n",
            "Generated Tag:  riot \n",
            "Assigned Tag: riot\n",
            "Statement: PW.8 did not give the number.\n"
          ]
        },
        {
          "output_type": "stream",
          "name": "stderr",
          "text": [
            "Setting `pad_token_id` to `eos_token_id`:50256 for open-end generation.\n"
          ]
        },
        {
          "output_type": "stream",
          "name": "stdout",
          "text": [
            "<startofstring> PW.8 did not give the number. <tag>: Others <endofstring> <pad> <pad> <startofstring> <pad> <endofstring> <startofstring> <startofstring> <endofstring><endofstring>\n",
            "Generated Tag:  Others \n",
            "Assigned Tag: riot\n",
            "Statement: We are really not concerned with the number as such.\n"
          ]
        },
        {
          "output_type": "stream",
          "name": "stderr",
          "text": [
            "Setting `pad_token_id` to `eos_token_id`:50256 for open-end generation.\n"
          ]
        },
        {
          "output_type": "stream",
          "name": "stdout",
          "text": [
            "<startofstring> We are really not concerned with the number as such. <tag>: Others <endofstring> <pad> <pad> <endofstring> <endofstring> <startofstring> <pad> <startofstring> <startofstring><endofstring>\n",
            "Generated Tag:  Others \n",
            "Assigned Tag: riot\n",
            "Statement: Suffice it to say that the mob was a big one.\n"
          ]
        },
        {
          "output_type": "stream",
          "name": "stderr",
          "text": [
            "Setting `pad_token_id` to `eos_token_id`:50256 for open-end generation.\n"
          ]
        },
        {
          "output_type": "stream",
          "name": "stdout",
          "text": [
            "<startofstring> Suffice it to say that the mob was a big one. <tag>: Others <endofstring> <pad> <pad> <startofstring> <pad> <endofstring> <startofstring> <startofstring> <endofstring><endofstring>\n",
            "Generated Tag:  Others \n",
            "Assigned Tag: riot\n",
            "Statement: Raghubir Singh thereupon gave a gandassi blow on the head of Balwant Singh while Jagat Singh gave a gandassi blow from its wrong side on the back of the head of Balwant Singh.\n"
          ]
        },
        {
          "output_type": "stream",
          "name": "stderr",
          "text": [
            "Setting `pad_token_id` to `eos_token_id`:50256 for open-end generation.\n",
            "Setting `pad_token_id` to `eos_token_id`:50256 for open-end generation.\n"
          ]
        },
        {
          "output_type": "stream",
          "name": "stdout",
          "text": [
            "<startofstring> Raghubir Singh thereupon gave a gandassi blow on the head of Balwant Singh while Jagat Singh gave a gandassi blow from its wrong side on the back of the head of Balwant Singh. <tag>: physical_assault <endofstring> <pad> <pad> <tag>: assault <pad> <endofstring><endofstring>\n",
            "Generated Tag:  physical_assault \n",
            "Assigned Tag: physical_assault\n",
            "Statement: On receipt of the injuries, Balwant Singh fell down.\n",
            "<startofstring> On receipt of the injuries, Balwant Singh fell down. <tag>: physical_assault <endofstring> <pad> <pad> <tag>: assault <pad> <startofstring><endofstring>\n",
            "Generated Tag:  physical_assault \n",
            "Assigned Tag: physical_assault\n",
            "Statement: it has to conclude that all the accused were present at the time of the occurrence with the common motive to attack Santokh Singh PW and on the lalkara of Amarjit Singh, accused, the others co- accused actually attacked him and caused the injuries which were actually found on his person during the medico legal examination.\n"
          ]
        },
        {
          "output_type": "stream",
          "name": "stderr",
          "text": [
            "Setting `pad_token_id` to `eos_token_id`:50256 for open-end generation.\n",
            "Setting `pad_token_id` to `eos_token_id`:50256 for open-end generation.\n"
          ]
        },
        {
          "output_type": "stream",
          "name": "stdout",
          "text": [
            "<startofstring> it has to conclude that all the accused were present at the time of the occurrence with the common motive to attack Santokh Singh PW and on the lalkara of Amarjit Singh, accused, the others co- accused actually attacked him and caused the injuries which were actually found on his person during the medico legal examination. <tag>: Others <endofstring> <pad> <pad> <tag>: <pad> <startofstring> <pad> <endofstring> <tag>:<endofstring>\n",
            "Generated Tag:  Others \n",
            "Assigned Tag: physical_assault\n",
            "Statement: They took him to the Mukhiya's house at 8.30 p.m. in the night and kept him there assaulting him with lathis and slaps\n",
            "<startofstring> They took him to the Mukhiya's house at 8.30 p.m. in the night and kept him there assaulting him with lathis and slaps <tag>: physical_assault <endofstring> <pad> <pad> <startofstring> <pad> <endofstring> <endofstring><endofstring>\n",
            "Generated Tag:  physical_assault \n",
            "Assigned Tag: physical_assault\n",
            "Statement: Manga gave a `datar' blow on Sheru\n"
          ]
        },
        {
          "output_type": "stream",
          "name": "stderr",
          "text": [
            "Setting `pad_token_id` to `eos_token_id`:50256 for open-end generation.\n",
            "Setting `pad_token_id` to `eos_token_id`:50256 for open-end generation.\n"
          ]
        },
        {
          "output_type": "stream",
          "name": "stdout",
          "text": [
            "<startofstring> Manga gave a `datar' blow on Sheru <tag>: witness_testimony <endofstring> <pad> <pad> <startofstring> <pad><endofstring>\n",
            "Generated Tag:  witness_testimony \n",
            "Assigned Tag: physical_assault\n",
            "Statement: abused and beat the deceased\n",
            "<startofstring> abused and beat the deceased <tag>: expert_witness_testimony <endofstring> <pad><endofstring>\n",
            "Generated Tag:  expert_witness_testimony \n",
            "Assigned Tag: physical_assault\n",
            "Statement: Bife and Thegu were convicted under s. 323 of the Indian Penal Code for causing hurt to Dewal\n"
          ]
        },
        {
          "output_type": "stream",
          "name": "stderr",
          "text": [
            "Setting `pad_token_id` to `eos_token_id`:50256 for open-end generation.\n",
            "Setting `pad_token_id` to `eos_token_id`:50256 for open-end generation.\n"
          ]
        },
        {
          "output_type": "stream",
          "name": "stdout",
          "text": [
            "<startofstring> Bife and Thegu were convicted under s. 323 of the Indian Penal Code for causing hurt to Dewal <tag>: homicide_murder <endofstring> <pad> <pad> <startofstring> <pad><endofstring>\n",
            "Generated Tag:  homicide_murder \n",
            "Assigned Tag: physical_assault\n",
            "Statement: He said that on April 10, 1962 at 3 p.m. while he was returning home, he was assaulted with lathis, garassas and bhalas by the employees of the Bhaiya Saheb.\n",
            "<startofstring> He said that on April 10, 1962 at 3 p.m. while he was returning home, he was assaulted with lathis, garassas and bhalas by the employees of the Bhaiya Saheb. <tag>: riot <endofstring> <pad> <pad> <startofstring> <pad> <tag>: <pad> <endofstring> <startofstring><endofstring>\n",
            "Generated Tag:  riot \n",
            "Assigned Tag: physical_assault\n",
            "Statement: while Ramswarup and Ramdhari were collecting mahua on the plot, the respondents armed with bhalas, garassas and lathis inflicted fatal injuries on them with a view to forcibly prevent them from collecting the mahua, (3) Thegu and Bife assaulted Dewal with lathis,\n"
          ]
        },
        {
          "output_type": "stream",
          "name": "stderr",
          "text": [
            "Setting `pad_token_id` to `eos_token_id`:50256 for open-end generation.\n",
            "Setting `pad_token_id` to `eos_token_id`:50256 for open-end generation.\n"
          ]
        },
        {
          "output_type": "stream",
          "name": "stdout",
          "text": [
            "<startofstring> while Ramswarup and Ramdhari were collecting mahua on the plot, the respondents armed with bhalas, garassas and lathis inflicted fatal injuries on them with a view to forcibly prevent them from collecting the mahua, (3) Thegu and Bife assaulted Dewal with lathis, <tag>: physical_assault <endofstring> <pad> <pad> <startofstring> <pad> <tag>: <pad><endofstring>\n",
            "Generated Tag:  physical_assault \n",
            "Assigned Tag: physical_assault\n",
            "Statement: Ramswarup carrying a tangi and Ramdhari carrying a danta caused severe injuries to respondent Mathu on his head, leg, and that while doing so they were not defending themselves\n",
            "<startofstring> Ramswarup carrying a tangi and Ramdhari carrying a danta caused severe injuries to respondent Mathu on his head, leg, and that while doing so they were not defending themselves <tag>: homicide_murder <endofstring> <pad> <pad> <startofstring> <pad><endofstring>\n",
            "Generated Tag:  homicide_murder \n",
            "Assigned Tag: physical_assault\n",
            "Statement: boy took out a pistol from his pant's pocket and fired at the deceased on his chest\n"
          ]
        },
        {
          "output_type": "stream",
          "name": "stderr",
          "text": [
            "Setting `pad_token_id` to `eos_token_id`:50256 for open-end generation.\n",
            "Setting `pad_token_id` to `eos_token_id`:50256 for open-end generation.\n"
          ]
        },
        {
          "output_type": "stream",
          "name": "stdout",
          "text": [
            "<startofstring> boy took out a pistol from his pant's pocket and fired at the deceased on his chest <tag>: expert_witness_testimony <endofstring> <pad><endofstring>\n",
            "Generated Tag:  expert_witness_testimony \n",
            "Assigned Tag: physical_assault\n",
            "Statement: Thakurdin was given a 'kudali' blow on his head and was also beaten by sticks.\n",
            "<startofstring> Thakurdin was given a 'kudali' blow on his head and was also beaten by sticks. <tag>: physical_assault <endofstring> <pad> <pad> <startofstring> <pad> <endofstring> <startofstring><endofstring>\n",
            "Generated Tag:  physical_assault \n",
            "Assigned Tag: physical_assault\n",
            "Statement: Brijwasi was given blows with sticks.\n"
          ]
        },
        {
          "output_type": "stream",
          "name": "stderr",
          "text": [
            "Setting `pad_token_id` to `eos_token_id`:50256 for open-end generation.\n",
            "Setting `pad_token_id` to `eos_token_id`:50256 for open-end generation.\n"
          ]
        },
        {
          "output_type": "stream",
          "name": "stdout",
          "text": [
            "<startofstring> Brijwasi was given blows with sticks. <tag>: physical_assault <endofstring> <pad> <pad> <startofstring> <pad> <endofstring> <startofstring><endofstring>\n",
            "Generated Tag:  physical_assault \n",
            "Assigned Tag: physical_assault\n",
            "Statement: As Bhaiyalal raised shouts for help he was hit on his head with a 'kudali' by Hubelal (Accused No.11).\n",
            "<startofstring> As Bhaiyalal raised shouts for help he was hit on his head with a 'kudali' by Hubelal (Accused No.11). <tag>: expert_witness_testimony <endofstring> <pad><endofstring>\n",
            "Generated Tag:  expert_witness_testimony \n",
            "Assigned Tag: physical_assault\n",
            "Statement: he was given stick blows by the other accused.\n"
          ]
        },
        {
          "output_type": "stream",
          "name": "stderr",
          "text": [
            "Setting `pad_token_id` to `eos_token_id`:50256 for open-end generation.\n",
            "Setting `pad_token_id` to `eos_token_id`:50256 for open-end generation.\n"
          ]
        },
        {
          "output_type": "stream",
          "name": "stdout",
          "text": [
            "<startofstring> he was given stick blows by the other accused. <tag>: witness_testimony <endofstring> <pad> <pad> <startofstring> <pad><endofstring>\n",
            "Generated Tag:  witness_testimony \n",
            "Assigned Tag: physical_assault\n",
            "Statement: Thakurdin had received many injuding including a lacerated wound on his head and fractures of eight ribs.\n",
            "<startofstring> Thakurdin had received many injuding including a lacerated wound on his head and fractures of eight ribs. <tag>: expert_witness_testimony <endofstring> <pad><endofstring>\n",
            "Generated Tag:  expert_witness_testimony \n",
            "Assigned Tag: physical_assault\n",
            "Statement: Brijwasi had also received seven injuries.\n"
          ]
        },
        {
          "output_type": "stream",
          "name": "stderr",
          "text": [
            "Setting `pad_token_id` to `eos_token_id`:50256 for open-end generation.\n",
            "Setting `pad_token_id` to `eos_token_id`:50256 for open-end generation.\n"
          ]
        },
        {
          "output_type": "stream",
          "name": "stdout",
          "text": [
            "<startofstring> Brijwasi had also received seven injuries. <tag>: physical_assault <endofstring> <pad> <pad> <startofstring> <pad> <endofstring> <tag>:<endofstring>\n",
            "Generated Tag:  physical_assault \n",
            "Assigned Tag: physical_assault\n",
            "Statement: Bhaiyalal had also received three injuries one of which was an lncise wound on the right side of his head.\n",
            "<startofstring> Bhaiyalal had also received three injuries one of which was an lncise wound on the right side of his head. <tag>: expert_witness_testimony <endofstring> <pad><endofstring>\n",
            "Generated Tag:  expert_witness_testimony \n",
            "Assigned Tag: physical_assault\n",
            "Statement: He became unconscious and fell down on the ground.\n"
          ]
        },
        {
          "output_type": "stream",
          "name": "stderr",
          "text": [
            "Setting `pad_token_id` to `eos_token_id`:50256 for open-end generation.\n",
            "Setting `pad_token_id` to `eos_token_id`:50256 for open-end generation.\n"
          ]
        },
        {
          "output_type": "stream",
          "name": "stdout",
          "text": [
            "<startofstring> He became unconscious and fell down on the ground. <tag>: expert_witness_testimony <endofstring> <pad><endofstring>\n",
            "Generated Tag:  expert_witness_testimony \n",
            "Assigned Tag: physical_assault\n",
            "Statement: Manohar Singh pelted stone causing injury on his head\n",
            "<startofstring> Manohar Singh pelted stone causing injury on his head <tag>: expert_witness_testimony <endofstring> <pad><endofstring>\n",
            "Generated Tag:  expert_witness_testimony \n",
            "Assigned Tag: physical_assault\n",
            "Statement: The very fact that he was standing in his night dress at 8.00 a.m. demonstrably shows that the respondent had not left the house on his professional visit but he was very much present in the house\n"
          ]
        },
        {
          "output_type": "stream",
          "name": "stderr",
          "text": [
            "Setting `pad_token_id` to `eos_token_id`:50256 for open-end generation.\n",
            "Setting `pad_token_id` to `eos_token_id`:50256 for open-end generation.\n"
          ]
        },
        {
          "output_type": "stream",
          "name": "stdout",
          "text": [
            "<startofstring> The very fact that he was standing in his night dress at 8.00 a.m. demonstrably shows that the respondent had not left the house on his professional visit but he was very much present in the house <tag>: witness_testimony <endofstring> <pad> <pad> <startofstring> <pad><endofstring>\n",
            "Generated Tag:  witness_testimony \n",
            "Assigned Tag: evidence_inconsistency\n",
            "Statement: P.W.6, who only testifies about it, is improbable and lacking in credence\n",
            "<startofstring> P.W.6, who only testifies about it, is improbable and lacking in credence <tag>: evidence_inconsistency <endofstring> <pad> <pad> <startofstring><endofstring>\n",
            "Generated Tag:  evidence_inconsistency \n",
            "Assigned Tag: evidence_inconsistency\n",
            "Statement: The prosecution case is that A-1 and A-5 armed with lathis and spears cannot be accepted inasmuch as neither of them used any such weapon\n"
          ]
        },
        {
          "output_type": "stream",
          "name": "stderr",
          "text": [
            "Setting `pad_token_id` to `eos_token_id`:50256 for open-end generation.\n",
            "Setting `pad_token_id` to `eos_token_id`:50256 for open-end generation.\n"
          ]
        },
        {
          "output_type": "stream",
          "name": "stdout",
          "text": [
            "<startofstring> The prosecution case is that A-1 and A-5 armed with lathis and spears cannot be accepted inasmuch as neither of them used any such weapon <tag>: expert_witness_testimony <endofstring> <pad><endofstring>\n",
            "Generated Tag:  expert_witness_testimony \n",
            "Assigned Tag: evidence_inconsistency\n",
            "Statement: We are therefore of the view that the credibility of his version regarding the words alleged to have been uttered by the victim is open to doubt as it goes against probabilities and the natural course of conduct\n",
            "<startofstring> We are therefore of the view that the credibility of his version regarding the words alleged to have been uttered by the victim is open to doubt as it goes against probabilities and the natural course of conduct <tag>: Others <endofstring> <pad> <pad> <startofstring> <pad> <endofstring> <startofstring> <startofstring> <endofstring><endofstring>\n",
            "Generated Tag:  Others \n",
            "Assigned Tag: evidence_inconsistency\n",
            "Statement: This statement can not be true because, P.W.10 doctor specifically stated that the injured was not sent by the police and there was no hospital memo\n"
          ]
        },
        {
          "output_type": "stream",
          "name": "stderr",
          "text": [
            "Setting `pad_token_id` to `eos_token_id`:50256 for open-end generation.\n",
            "Setting `pad_token_id` to `eos_token_id`:50256 for open-end generation.\n"
          ]
        },
        {
          "output_type": "stream",
          "name": "stdout",
          "text": [
            "<startofstring> This statement can not be true because, P.W.10 doctor specifically stated that the injured was not sent by the police and there was no hospital memo <tag>: expert_witness_testimony <endofstring> <pad><endofstring>\n",
            "Generated Tag:  expert_witness_testimony \n",
            "Assigned Tag: evidence_inconsistency\n",
            "Statement: She stated that she knew the appellant (A-15) as one of Tiger's men\n",
            "<startofstring> She stated that she knew the appellant (A-15) as one of Tiger's men <tag>: <tag>:  brother R came and fired shots at the deceased<endofstring>\n",
            "Generated Tag:  <tag>\n",
            "Assigned Tag: witness_testimony\n",
            "Statement: deposition of PW-171 clearly establishes that A-112 alerted the customs officials at Bankot and Alibaug also whereas the information received was for landing at Mhasla only\n"
          ]
        },
        {
          "output_type": "stream",
          "name": "stderr",
          "text": [
            "Setting `pad_token_id` to `eos_token_id`:50256 for open-end generation.\n",
            "Setting `pad_token_id` to `eos_token_id`:50256 for open-end generation.\n"
          ]
        },
        {
          "output_type": "stream",
          "name": "stdout",
          "text": [
            "<startofstring> deposition of PW-171 clearly establishes that A-112 alerted the customs officials at Bankot and Alibaug also whereas the information received was for landing at Mhasla only <tag>: expert_witness_testimony <endofstring> <pad><endofstring>\n",
            "Generated Tag:  expert_witness_testimony \n",
            "Assigned Tag: witness_testimony\n",
            "Statement: PW-97 reveals as under:- (i) He was working as a Mechanic in the State Transport Corporation.\n",
            "<startofstring> PW-97 reveals as under:- (i) He was working as a Mechanic in the State Transport Corporation. <tag>: <tag>: witness_testimony <endofstring> <pad> <pad> <startofstring><endofstring>\n",
            "Generated Tag:  <tag>\n",
            "Assigned Tag: witness_testimony\n",
            "Statement: (ii) He drove one of the two trucks bearing No. 5533 in which silver, as told to him by Shabbir Kadri, was loaded on 09.01.1993 at Dighi Jetty.\n"
          ]
        },
        {
          "output_type": "stream",
          "name": "stderr",
          "text": [
            "Setting `pad_token_id` to `eos_token_id`:50256 for open-end generation.\n",
            "Setting `pad_token_id` to `eos_token_id`:50256 for open-end generation.\n"
          ]
        },
        {
          "output_type": "stream",
          "name": "stdout",
          "text": [
            "<startofstring> (ii) He drove one of the two trucks bearing No. 5533 in which silver, as told to him by Shabbir Kadri, was loaded on 09.01.1993 at Dighi Jetty. <tag>: expert_witness_testimony <endofstring> <pad><endofstring>\n",
            "Generated Tag:  expert_witness_testimony \n",
            "Assigned Tag: witness_testimony\n",
            "Statement: (iii) He stated that at Gongdhar Phata, he was stopped by a police jeep.\n",
            "<startofstring> (iii) He stated that at Gongdhar Phata, he was stopped by a police jeep. <tag>: witness_testimony <endofstring> <pad> <pad> <startofstring> <pad><endofstring>\n",
            "Generated Tag:  witness_testimony \n",
            "Assigned Tag: witness_testimony\n",
            "Statement: (iv) He stated that the police men boarded the said truck and started shouting that there was silver in the truck.\n"
          ]
        },
        {
          "output_type": "stream",
          "name": "stderr",
          "text": [
            "Setting `pad_token_id` to `eos_token_id`:50256 for open-end generation.\n",
            "Setting `pad_token_id` to `eos_token_id`:50256 for open-end generation.\n"
          ]
        },
        {
          "output_type": "stream",
          "name": "stdout",
          "text": [
            "<startofstring> (iv) He stated that the police men boarded the said truck and started shouting that there was silver in the truck. <tag>: witness_testimony <endofstring> <pad> <pad> <startofstring> <pad><endofstring>\n",
            "Generated Tag:  witness_testimony \n",
            "Assigned Tag: witness_testimony\n",
            "Statement: (v) He stated that, in the meanwhile, another truck also came following his truck and the police men also boarded the said truck and the persons who were traveling in the said truck said ‘Saab Andar Math Jao, Andar Kaanch ka Saman Hai’.\n",
            "<startofstring> (v) He stated that, in the meanwhile, another truck also came following his truck and the police men also boarded the said truck and the persons who were traveling in the said truck said ‘Saab Andar Math Jao, Andar Kaanch ka Saman Hai’. <tag>: witness_testimony <endofstring> <pad> <pad> <tag>: test<endofstring>\n",
            "Generated Tag:  witness_testimony \n",
            "Assigned Tag: witness_testimony\n",
            "Statement: (vi) He stated that, thereafter, Shabbir Kadri came and started asking Patil Sahib (A-116) “what had happened”.\n"
          ]
        },
        {
          "output_type": "stream",
          "name": "stderr",
          "text": [
            "Setting `pad_token_id` to `eos_token_id`:50256 for open-end generation.\n",
            "Setting `pad_token_id` to `eos_token_id`:50256 for open-end generation.\n"
          ]
        },
        {
          "output_type": "stream",
          "name": "stdout",
          "text": [
            "<startofstring> (vi) He stated that, thereafter, Shabbir Kadri came and started asking Patil Sahib (A-116) “what had happened”. <tag>: witness_testimony <endofstring> <pad> <pad> <endofstring> <endofstring><endofstring>\n",
            "Generated Tag:  witness_testimony \n",
            "Assigned Tag: witness_testimony\n",
            "Statement: (viii) He stated that meanwhile A-30 and A-82 also came there and they talked for about half an hour.\n",
            "<startofstring> (viii) He stated that meanwhile A-30 and A-82 also came there and they talked for about half an hour. <tag>: expert_witness_testimony <endofstring> <pad><endofstring>\n",
            "Generated Tag:  expert_witness_testimony \n",
            "Assigned Tag: witness_testimony\n",
            "Statement: (ix) He stated that, thereafter, 5 silver bricks were taken out of the truck bearing No. 5533 and were kept in the police jeep.\n"
          ]
        },
        {
          "output_type": "stream",
          "name": "stderr",
          "text": [
            "Setting `pad_token_id` to `eos_token_id`:50256 for open-end generation.\n",
            "Setting `pad_token_id` to `eos_token_id`:50256 for open-end generation.\n"
          ]
        },
        {
          "output_type": "stream",
          "name": "stdout",
          "text": [
            "<startofstring> (ix) He stated that, thereafter, 5 silver bricks were taken out of the truck bearing No. 5533 and were kept in the police jeep. <tag>: witness_testimony <endofstring> <pad> <pad> <startofstring> <pad><endofstring>\n",
            "Generated Tag:  witness_testimony \n",
            "Assigned Tag: witness_testimony\n",
            "Statement: (x) He stated that when he left the said spot, the other truck alongwith the police jeep was still there.\n",
            "<startofstring> (x) He stated that when he left the said spot, the other truck alongwith the police jeep was still there. <tag>: witness_testimony <endofstring> <pad> <pad> <endofstring> <startofstring><endofstring>\n",
            "Generated Tag:  witness_testimony \n",
            "Assigned Tag: witness_testimony\n",
            "Statement: (xii) He stated that the police checked his truck for 15 minutes and took 10 minutes for checking the other truck\n"
          ]
        },
        {
          "output_type": "stream",
          "name": "stderr",
          "text": [
            "Setting `pad_token_id` to `eos_token_id`:50256 for open-end generation.\n",
            "Setting `pad_token_id` to `eos_token_id`:50256 for open-end generation.\n"
          ]
        },
        {
          "output_type": "stream",
          "name": "stdout",
          "text": [
            "<startofstring> (xii) He stated that the police checked his truck for 15 minutes and took 10 minutes for checking the other truck <tag>: witness_testimony <endofstring> <pad> <pad> <startofstring> <pad><endofstring>\n",
            "Generated Tag:  witness_testimony \n",
            "Assigned Tag: witness_testimony\n",
            "Statement: testimonies of P.W.1 and P.W.2, the two star witnesses of the prosecution, are concerned, from the impugned judgment, it is manifest that the High Court, on analysis of their statements, has found these to be trustworthy\n",
            "<startofstring> testimonies of P.W.1 and P.W.2, the two star witnesses of the prosecution, are concerned, from the impugned judgment, it is manifest that the High Court, on analysis of their statements, has found these to be trustworthy <tag>: Others <endofstring> <pad> <pad> <startofstring> <pad> <endofstring> <startofstring> <startofstring> <endofstring><endofstring>\n",
            "Generated Tag:  Others \n",
            "Assigned Tag: witness_testimony\n",
            "Statement: He has clearly stated that he had seen the occurrence.\n"
          ]
        },
        {
          "output_type": "stream",
          "name": "stderr",
          "text": [
            "Setting `pad_token_id` to `eos_token_id`:50256 for open-end generation.\n",
            "Setting `pad_token_id` to `eos_token_id`:50256 for open-end generation.\n"
          ]
        },
        {
          "output_type": "stream",
          "name": "stdout",
          "text": [
            "<startofstring> He has clearly stated that he had seen the occurrence. <tag>: expert_witness_testimony <endofstring> <pad><endofstring>\n",
            "Generated Tag:  expert_witness_testimony \n",
            "Assigned Tag: witness_testimony\n",
            "Statement: There is nothing on record to cast a doubt as to the presence of P.W\n",
            "<startofstring> There is nothing on record to cast a doubt as to the presence of P.W <tag>: Others <endofstring> <pad> <pad> <startofstring> <pad> <endofstring> <startofstring> <startofstring> <endofstring><endofstring>\n",
            "Generated Tag:  Others \n",
            "Assigned Tag: witness_testimony\n",
            "Statement: PW-4 in her evidence in Court has clearly stated as to why she had given a limited answer.\n"
          ]
        },
        {
          "output_type": "stream",
          "name": "stderr",
          "text": [
            "Setting `pad_token_id` to `eos_token_id`:50256 for open-end generation.\n",
            "Setting `pad_token_id` to `eos_token_id`:50256 for open-end generation.\n"
          ]
        },
        {
          "output_type": "stream",
          "name": "stdout",
          "text": [
            "<startofstring> PW-4 in her evidence in Court has clearly stated as to why she had given a limited answer. <tag>: Others <endofstring> <pad> <pad> <startofstring> <pad> <tag>: <pad> <endofstring> <startofstring><endofstring>\n",
            "Generated Tag:  Others \n",
            "Assigned Tag: witness_testimony\n",
            "Statement: the respondents Naqli and Surendra were armed with knives while Hari Ram and Satyapal were armed with ballams (spears).\n",
            "<startofstring> the respondents Naqli and Surendra were armed with knives while Hari Ram and Satyapal were armed with ballams (spears). <tag>: riot <endofstring> <pad> <pad> <endofstring> <startofstring> <pad> <startofstring> <startofstring> <endofstring><endofstring>\n",
            "Generated Tag:  riot \n",
            "Assigned Tag: witness_testimony\n",
            "Statement: The witnesses had clearly explained in their statements that the accused, who were armed with ballams, plied or struck the deceased by the lathi portion of the spears on the front side\n"
          ]
        },
        {
          "output_type": "stream",
          "name": "stderr",
          "text": [
            "Setting `pad_token_id` to `eos_token_id`:50256 for open-end generation.\n",
            "Setting `pad_token_id` to `eos_token_id`:50256 for open-end generation.\n"
          ]
        },
        {
          "output_type": "stream",
          "name": "stdout",
          "text": [
            "<startofstring> The witnesses had clearly explained in their statements that the accused, who were armed with ballams, plied or struck the deceased by the lathi portion of the spears on the front side <tag>: witness_testimony <endofstring> <pad> <pad> <startofstring> <pad><endofstring>\n",
            "Generated Tag:  witness_testimony \n",
            "Assigned Tag: witness_testimony\n",
            "Statement: PWs 1 and 3 have categorically stated in their evidence that ballams were used as lathis\n",
            "<startofstring> PWs 1 and 3 have categorically stated in their evidence that ballams were used as lathis <tag>: physical_assault <endofstring> <pad> <pad> <startofstring> <pad> <endofstring> <endofstring><endofstring>\n",
            "Generated Tag:  physical_assault \n",
            "Assigned Tag: witness_testimony\n",
            "Statement: He stated that after the incident, he became afraid and went to the house of his uncle and was called from there by the Investigating officer at 2 a m\n"
          ]
        },
        {
          "output_type": "stream",
          "name": "stderr",
          "text": [
            "Setting `pad_token_id` to `eos_token_id`:50256 for open-end generation.\n",
            "Setting `pad_token_id` to `eos_token_id`:50256 for open-end generation.\n"
          ]
        },
        {
          "output_type": "stream",
          "name": "stdout",
          "text": [
            "<startofstring> He stated that after the incident, he became afraid and went to the house of his uncle and was called from there by the Investigating officer at 2 a m <tag>: witness_testimony <endofstring> <pad> <pad> <startofstring> <pad><endofstring>\n",
            "Generated Tag:  witness_testimony \n",
            "Assigned Tag: witness_testimony\n",
            "Statement: A stab wound 2 cm x 2 cm x 6 cms over the right side of the chest 3 cms away from midline and 1 cm below the right nipple.\n",
            "<startofstring> A stab wound 2 cm x 2 cm x 6 cms over the right side of the chest 3 cms away from midline and 1 cm below the right nipple. <tag>: expert_witness_testimony <endofstring> <pad><endofstring>\n",
            "Generated Tag:  expert_witness_testimony \n",
            "Assigned Tag: expert_witness_testimony\n",
            "Statement: An incised wound 2 cms x 1 cm x .\n"
          ]
        },
        {
          "output_type": "stream",
          "name": "stderr",
          "text": [
            "Setting `pad_token_id` to `eos_token_id`:50256 for open-end generation.\n",
            "Setting `pad_token_id` to `eos_token_id`:50256 for open-end generation.\n"
          ]
        },
        {
          "output_type": "stream",
          "name": "stdout",
          "text": [
            "<startofstring> An incised wound 2 cms x 1 cm x. <tag>: expert_witness_testimony <endofstring> <pad><endofstring>\n",
            "Generated Tag:  expert_witness_testimony \n",
            "Assigned Tag: expert_witness_testimony\n",
            "Statement: 5 cm over the right side of the chest on the mid antillary line 6 cms below and away from right nipple.\n",
            "<startofstring> 5 cm over the right side of the chest on the mid antillary line 6 cms below and away from right nipple. <tag>: expert_witness_testimony <endofstring> <pad><endofstring>\n",
            "Generated Tag:  expert_witness_testimony \n",
            "Assigned Tag: expert_witness_testimony\n",
            "Statement: A stab wound 4 cms x 4 cms x 4 cms over the left side of the abdomen 4 cms above and away from umbilicus.\n"
          ]
        },
        {
          "output_type": "stream",
          "name": "stderr",
          "text": [
            "Setting `pad_token_id` to `eos_token_id`:50256 for open-end generation.\n",
            "Setting `pad_token_id` to `eos_token_id`:50256 for open-end generation.\n"
          ]
        },
        {
          "output_type": "stream",
          "name": "stdout",
          "text": [
            "<startofstring> A stab wound 4 cms x 4 cms x 4 cms over the left side of the abdomen 4 cms above and away from umbilicus. <tag>: expert_witness_testimony <endofstring> <pad><endofstring>\n",
            "Generated Tag:  expert_witness_testimony \n",
            "Assigned Tag: expert_witness_testimony\n",
            "Statement: A stab wound 4 cms x 3 cms x 5 cms at the spot of right axilla.\n",
            "<startofstring> A stab wound 4 cms x 3 cms x 5 cms at the spot of right axilla. <tag>: expert_witness_testimony <endofstring> <pad><endofstring>\n",
            "Generated Tag:  expert_witness_testimony \n",
            "Assigned Tag: expert_witness_testimony\n",
            "Statement: An incised wound 2 cms x .\n"
          ]
        },
        {
          "output_type": "stream",
          "name": "stderr",
          "text": [
            "Setting `pad_token_id` to `eos_token_id`:50256 for open-end generation.\n",
            "Setting `pad_token_id` to `eos_token_id`:50256 for open-end generation.\n"
          ]
        },
        {
          "output_type": "stream",
          "name": "stdout",
          "text": [
            "<startofstring> An incised wound 2 cms x. <tag>: expert_witness_testimony <endofstring> <pad><endofstring>\n",
            "Generated Tag:  expert_witness_testimony \n",
            "Assigned Tag: expert_witness_testimony\n",
            "Statement: 5 cms x .\n",
            "<startofstring> 5 cms x. <tag>: expert_witness_testimony <endofstring> <pad><endofstring>\n",
            "Generated Tag:  expert_witness_testimony \n",
            "Assigned Tag: expert_witness_testimony\n",
            "Statement: 5 cms over the left side of the abdomen on the mid antillary line 15 cms above the iliac crest.\n"
          ]
        },
        {
          "output_type": "stream",
          "name": "stderr",
          "text": [
            "Setting `pad_token_id` to `eos_token_id`:50256 for open-end generation.\n",
            "Setting `pad_token_id` to `eos_token_id`:50256 for open-end generation.\n"
          ]
        },
        {
          "output_type": "stream",
          "name": "stdout",
          "text": [
            "<startofstring> 5 cms over the left side of the abdomen on the mid antillary line 15 cms above the iliac crest. <tag>: expert_witness_testimony <endofstring> <pad><endofstring>\n",
            "Generated Tag:  expert_witness_testimony \n",
            "Assigned Tag: expert_witness_testimony\n",
            "Statement: An abrasion 6 cms x 8 cms over the right front of the left keen joint.\n",
            "<startofstring> An abrasion 6 cms x 8 cms over the right front of the left keen joint. <tag>: expert_witness_testimony <endofstring> <pad><endofstring>\n",
            "Generated Tag:  expert_witness_testimony \n",
            "Assigned Tag: expert_witness_testimony\n",
            "Statement: An abrasion 6 cms x .\n"
          ]
        },
        {
          "output_type": "stream",
          "name": "stderr",
          "text": [
            "Setting `pad_token_id` to `eos_token_id`:50256 for open-end generation.\n",
            "Setting `pad_token_id` to `eos_token_id`:50256 for open-end generation.\n"
          ]
        },
        {
          "output_type": "stream",
          "name": "stdout",
          "text": [
            "<startofstring> An abrasion 6 cms x. <tag>: expert_witness_testimony <endofstring> <pad><endofstring>\n",
            "Generated Tag:  expert_witness_testimony \n",
            "Assigned Tag: expert_witness_testimony\n",
            "Statement: 5 cms over the right front of the neck, 6 cms above the suprasternal notch.\n",
            "<startofstring> 5 cms over the right front of the neck, 6 cms above the suprasternal notch. <tag>: expert_witness_testimony <endofstring> <pad><endofstring>\n",
            "Generated Tag:  expert_witness_testimony \n",
            "Assigned Tag: expert_witness_testimony\n",
            "Statement: A stab wound 4 cms x 2 cms x 7 cms over the back of the left side of chest 32 cms above the posterior iliac spine.\n"
          ]
        },
        {
          "output_type": "stream",
          "name": "stderr",
          "text": [
            "Setting `pad_token_id` to `eos_token_id`:50256 for open-end generation.\n",
            "Setting `pad_token_id` to `eos_token_id`:50256 for open-end generation.\n"
          ]
        },
        {
          "output_type": "stream",
          "name": "stdout",
          "text": [
            "<startofstring> A stab wound 4 cms x 2 cms x 7 cms over the back of the left side of chest 32 cms above the posterior iliac spine. <tag>: expert_witness_testimony <endofstring> <pad><endofstring>\n",
            "Generated Tag:  expert_witness_testimony \n",
            "Assigned Tag: expert_witness_testimony\n",
            "Statement: A stab wound 4 cms x 2 cms x 4 cms over the centre of the back and below the nape of the neck.\n",
            "<startofstring> A stab wound 4 cms x 2 cms x 4 cms over the centre of the back and below the nape of the neck. <tag>: expert_witness_testimony <endofstring> <pad><endofstring>\n",
            "Generated Tag:  expert_witness_testimony \n",
            "Assigned Tag: expert_witness_testimony\n",
            "Statement: A stab wound 3 cms x 2 cms x 6 cms over the centre of back 7 cms below injury no.14.\n"
          ]
        },
        {
          "output_type": "stream",
          "name": "stderr",
          "text": [
            "Setting `pad_token_id` to `eos_token_id`:50256 for open-end generation.\n",
            "Setting `pad_token_id` to `eos_token_id`:50256 for open-end generation.\n"
          ]
        },
        {
          "output_type": "stream",
          "name": "stdout",
          "text": [
            "<startofstring> A stab wound 3 cms x 2 cms x 6 cms over the centre of back 7 cms below injury no.14. <tag>: expert_witness_testimony <endofstring> <pad><endofstring>\n",
            "Generated Tag:  expert_witness_testimony \n",
            "Assigned Tag: expert_witness_testimony\n",
            "Statement: A stab wound 3 cms x 2 cms x 6 cms over the back of the right side of the chest 6 cms away from injury no.14.\n",
            "<startofstring> A stab wound 3 cms x 2 cms x 6 cms over the back of the right side of the chest 6 cms away from injury no.14. <tag>: expert_witness_testimony <endofstring> <pad><endofstring>\n",
            "Generated Tag:  expert_witness_testimony \n",
            "Assigned Tag: expert_witness_testimony\n",
            "Statement: An incised wound 8 cms x 3 cms x 2 cms over the back of the right side of the chest 6 cms away from injury no.15.\n"
          ]
        },
        {
          "output_type": "stream",
          "name": "stderr",
          "text": [
            "Setting `pad_token_id` to `eos_token_id`:50256 for open-end generation.\n",
            "Setting `pad_token_id` to `eos_token_id`:50256 for open-end generation.\n"
          ]
        },
        {
          "output_type": "stream",
          "name": "stdout",
          "text": [
            "<startofstring> An incised wound 8 cms x 3 cms x 2 cms over the back of the right side of the chest 6 cms away from injury no.15. <tag>: expert_witness_testimony <endofstring> <pad><endofstring>\n",
            "Generated Tag:  expert_witness_testimony \n",
            "Assigned Tag: expert_witness_testimony\n",
            "Statement: Laceration 8 cms x 4 cms x 2 cm over the inner side of the left elbow.\n",
            "<startofstring> Laceration 8 cms x 4 cms x 2 cm over the inner side of the left elbow. <tag>: expert_witness_testimony <endofstring> <pad><endofstring>\n",
            "Generated Tag:  expert_witness_testimony \n",
            "Assigned Tag: expert_witness_testimony\n",
            "Statement: Laceration 4 x 3 x 1 cm over inner side of left palm.\n"
          ]
        },
        {
          "output_type": "stream",
          "name": "stderr",
          "text": [
            "Setting `pad_token_id` to `eos_token_id`:50256 for open-end generation.\n",
            "Setting `pad_token_id` to `eos_token_id`:50256 for open-end generation.\n"
          ]
        },
        {
          "output_type": "stream",
          "name": "stdout",
          "text": [
            "<startofstring> Laceration 4 x 3 x 1 cm over inner side of left palm. <tag>: expert_witness_testimony <endofstring> <pad><endofstring>\n",
            "Generated Tag:  expert_witness_testimony \n",
            "Assigned Tag: expert_witness_testimony\n",
            "Statement: Laceration 5 cms x cms x 1 cm over the dorsal aspect of the left palm.\n",
            "<startofstring> Laceration 5 cms x cms x 1 cm over the dorsal aspect of the left palm. <tag>: expert_witness_testimony <endofstring> <pad><endofstring>\n",
            "Generated Tag:  expert_witness_testimony \n",
            "Assigned Tag: expert_witness_testimony\n",
            "Statement: Heart : Chambers empty.\n",
            "<startofstring> Heart : Chambers empty. <tag>: expert_witness_testimony <endofstring> <pad><endofstring>\n",
            "Generated Tag:  expert_witness_testimony \n",
            "Assigned Tag: expert_witness_testimony\n"
          ]
        }
      ]
    },
    {
      "cell_type": "code",
      "source": [
        "pf=open('promptfile_edited.txt')\n",
        "l=''\n",
        "for i in pf:\n",
        "  s=i.split(':')\n",
        "  if \"Statement\" in s[0]:\n",
        "    l+=(s[1])\n",
        "print(l)"
      ],
      "metadata": {
        "colab": {
          "base_uri": "https://localhost:8080/"
        },
        "id": "0jFQm1uI0Mlr",
        "outputId": "deb5676e-c832-4685-8b3e-519759106984"
      },
      "execution_count": 5,
      "outputs": [
        {
          "output_type": "stream",
          "name": "stdout",
          "text": [
            "The Sessions Judge framed charge under Section 302/34 of the IPC. \n",
            "we do not find any cogent reason to interfere with the judgment of the High Court converting the offence to Section 304 Part II of the IPC from Section 302 of the IPC. \n",
            "having been charged of the offences under Sections 302 and 397 IPC for having committed the murder of a young girl. \n",
            "charged for offences punishable under Sections 302. \n",
            "And thereby committed offences punishable under Section 3(3) of TADA (P) Act, 1987 and Section 120-B of IPC read with Sections 3(2)(i)(ii), 3(3)(4), 5 and 6 of TADA (P) Act, 1987 and read with Sections 302. \n",
            "The appellant, by causing the death of 3 persons as mentioned above, committed an offence punishable under Section 302. \n",
            "convicting them under Section 302. \n",
            "High Court by convicting them under Section 302. \n",
            "appellants under the impugned order stood convicted for an offence punishable under Sections 148 and 302. \n",
            "appellants along with Bhagirath (A-5) and Bali Ram (A-7) were tried for an offence punishable under Sections 148, 302. \n",
            "we are satisfied that the impugned order of conviction and sentence of the appellants does not suffer from any infirmity. \n",
            "for the offence under Section 302. \n",
            "appellant Vineet Kumar Chauhan has been convicted under Section 302 of the Indian Penal Code. \n",
            "the appellant Vineet Kumar Chauhan has been convicted under Section 302. \n",
            "The conviction U/s 302 of IPC was confirmed by the Aurangabad Bench of the High Court. \n",
            "held the appellant responsible for the same, principally on the basis of her dying declarations, and convicted him for cruelty and murder under Sections 498-A and 302. \n",
            "Suffice it to state here that the appellants, apart from other offences were convicted under Section 302. \n",
            "High Court was justified in convicting the appellants under Section 302. \n",
            "consequent thereto convicting her under Section 302. \n",
            "the appellant was charge- sheeted for the offence punishable under section 302 of IPC. \n",
            "sentenced to RI for life. \n",
            "sentenced to rigorous imprisonment (RI) for life. \n",
            "imprisonment for life. \n",
            "sentenced him to undergo imprisonment for life. \n",
            "He has been sentenced to suffer imprisonment for life.. \n",
            "sentenced to suffer life imprisonment. \n",
            "sentencing the appellant to imprisonment for life. \n",
            "sentenced her to imprisonment for life. \n",
            "By a separate order, they were sentenced to undergo imprisonment for life.. \n",
            "sentence of life imprisonment. \n",
            "Raghubir Singh and Joginder Singh were sentenced to undergo life imprisonment and to pay a fine of Rs. 5000/- and in default R.I. for one and a half years each for the offence under Section 302 IPC.. \n",
            "sentenced them to rigorous imprison- ment for life each. \n",
            "sentencing the accused-appellants to imprisonment for life. \n",
            "sentence dated April 12, 2008 sentencing them for life imprisonment. \n",
            "sentenced them to undergo imprisonment for life.. \n",
            "sentencing him to imprisonment for life. \n",
            "sentenced for life imprisonment. \n",
            "were sentenced for life imprisonment.. \n",
            "they were sentenced to suffer imprisonment for life. \n",
            "sentenced each of them to suffer imprisonment for life and further convicted the first two appellants. \n",
            "In Dubai, on 13.02.1993, he attended a meeting in which Tiger Memon and Javed Chikna discussed about the communal riots.. \n",
            "In this situation the accused formed an unlawful assembly carrying weapons which were used in the commission of the offence qua Santokh Singh and consequently, they became liable under Section 148 IPC.. \n",
            "the respondents, armed with bhallas, lathis, etc., attacked these men killing two of them and injuring others. \n",
            "they were members of an unlawful assembly prosecuting the common object of forcibly preventing the two deceased from collecting 'fruit from the land in question and if necessary in causing the murder of the said two persons for the purpose. \n",
            "appellants party were members of an unlawful assembly, \"as both sides were determined to vindicate their rights by show of force or use of force\".. \n",
            "communal unrest in the village Bhalej for sometime.. \n",
            "People belonging to two communities were on warpath against each other. \n",
            "trial before the Addl.. \n",
            "Sessions Judge, Gurgaon for offences punishable under Sections 148, 302/179, 323/149 and 120-B of the Indian Penal Code for conspiracy, rioting. \n",
            "that when several persons were with lathis and one of them was armed with hatchet and were agreed to use these weapons in case they were thwarted in the achievement of their object, it would be concluded that they were prepared to use violence in prosecution of their common object and that they knew that in the prosecution of such common object it was likely that some one might be so injured as to die as a result of those injuries. \n",
            "If one of the rioters causes injury for which the other rioters are to be liable under s. 149, I.P.C., the injury must have been caused in prosecution of the common object; (iii) An assembly ceases to be an unlawful assembly after the completion of its common object and only that member of the unlawful assembly would be liable for any criminal act committed later, who has actually committed it. \n",
            "The appellants' party consisted of a number of persons one of whom was armed with a hatchet.. \n",
            "It is therefore not unreasonable to conclude that the appellants' party was prepared to use force against such an objector to achieve their object of taking the carts to the public pathway by a short-cut.. \n",
            "The northern route, previously mentioned, was certainly shorter to reach the public passage, but that route, along with the longer portion of the public passage to be covered before reaching the spot near which the incident took place, was longer than the westerly route through the field which the party had taken.. \n",
            "When several persons are armed with lathis and one of them is armed with a hatchet and are agreed to use these weapons in case they are thwarted in the achievement of their object, it is by no means incorrect to conclude that they were prepared to use violence in prosecution of their common object. \n",
            "Moradabad for rioting. \n",
            "'the respondent Bira Singh was a member of the unlawful assembly which was formed between 3 and 5 p.m. on 25th April 1960, in contravention of the promulgation of the order under s. 144 of the Code of Criminal Procedure.. \n",
            "As a member of the mob he was alleged to have pelted Stones at police officers. \n",
            "In that complaint the District Magistrate alleged that the respondent had disobeyed the order passed under s. 144 by forming himself alongwith other persons into an unlawful assembly between the hours of 3 and 5 p.m. on April 25, 1960. \n",
            "The agitation took the form of picketing of Government offices and the residences of Government servants and blocking roads in order to paralyse the administration.. \n",
            "parents of accused 1 and 2 and the wife of the 2nd accused sustained injuries. \n",
            "Ramchandra Singh sustained 21 injuries. \n",
            "Accused Nos. 1, 3 and 4 beat Madhavrao with fist blows and leg kicks and threw him out of cattle shed.. \n",
            "Apparao(A-1), who was having bottle containing kerosene, poured the entire kerosene on cattle shed and Sachin ( A-4) set the cattle shed on fire.. \n",
            "Savitribai, who was resisting the appellants, caught in contact of fire and received severe burn injuries.. \n",
            "On noticing this, Madhavrao tried to enter in cattle shed to save his wife- Savitribai.. \n",
            "Gopal (A-2) then inflicted an axe blow on Madhavrao's head due to which he sustained bleeding injury. \n",
            "her act of setting 5 fire to the terylene clothes put on by the deceased was so imminently dangerous that it would, in all probability, cause death of the deceased or such bodily injury. \n",
            "Sri Shrawan Kumar and Ganesh Singh put their country made pistols at the deceased and fired shots. \n",
            "accused Kulwant Singh gave a kirpan blow on the head and neck of Kashmir Singh.. \n",
            "Nishan Singh tried to rescue his father on which Gurmit Singh gave a gandasi blow which hit on his right arm.. \n",
            "Kulwant Singh accused gave another kirpan blow which hit Nishan Singh on the right side of his head. \n",
            "Naqli and Surendra struck the deceased with their knives while Hari Ram and Satyapal assaulted him with the Lathi portion of the spears. \n",
            "hurled a stone on his head resulting into his instantaneous death. \n",
            "Several persons attacked and seriously injured one M. \n",
            "They fell upon Mani Ram and assaulted him. \n",
            "Several persons attacked and seriously injured one M.After assaulting him the assailants were carrying him away when M's brother R came to rescue him and in self defence shot dead one of the assailants and carried M away. \n",
            "after Mani Ram had been assaulted and shot at and after he had been put on a horse and had been carried some distance.. \n",
            "On this Raghubir Singh is alleged to have given a gandassi blow, from its wrong side, on the right forearm of Santokh Singh PW6 while Jagat Singh appellant gave a gandassi blow by its wrong side on his left thigh.. \n",
            "All the accused thereafter caused injuries to him with their respective weapons on his left arm and fingers and other parts of the body, including his right thigh and the right side of his head.. \n",
            "The evidence adduced by the prosecution itself discloses that Ali Bahadur had run away from the place where Anwar Ali was killed and when he was running towards his house he was accosted by the present appellants near his house.. \n",
            "That indicates that these two appellants were not present at the place where the first incident had taken place, which, in turn, indicates that they were not present at the place where Anwar Ali was killed but they were at a different place. \n",
            "The defence of the appellant in this behalf was, however, inconsistent. \n",
            "A point was sought to be made by counsel for the appellant ,that the footprints and finger prints in the lavatory of the first class compartment taken at Madhupur station were found to be different from those of the appellant and that this went to show that the appellant could not have been the murderer.. \n",
            "The High Court turned down this contention on the ground that before the police took charge of the situation many people had entered the compartment of the train and the above difference therefore was not a factor on which any reliance could be placed. \n",
            "for it is highly unnatural that the wife and the father- in-law of the deceased coming to the spot could not take the injured to any nearby hospital for treatment though he lived for few hours after the assault. \n",
            "In view of the contradictions appearing in the evidence of the eye-witnesses the learned judge was of the view that probably the incident took place when Thakurdin and Brijwasi were trying to let the water come in their field from the field of Remsiya and Accused Jagdish obstructed them.. \n",
            "He also held that the eye-witnesses had not given a correct version before the court as regards the manner and circumstances in which the incident had started.. \n",
            "Apart from the above infirmity in the evidence of three eye witnesses, I find that the prosecution evidence is of a partisan character and not such on which implicit reliance can be placed.\n",
            "on this ground, the medical evicence cannot be saia to be inconsistent with the evidence of the eye-witnesses.. \n",
            "testimony of an eye- witness having minor discrepancies has to be given weightage unless discrepancies are such which demolish the basic case of the prosecution. \n",
            "There are many other vital discrepancies in the testimony of the eye witnesses inasmuch as the testimony of the witnesses are at variance with the case set out in the First Information Report and as such, the High Court was justified in discarding the testimony of the witnesses. \n",
            "there appears to be some inconsistency in the evidence of eye witnesses and the medical evidence but this inconsistency is of very insignificant character. \n",
            "The submission was, their evidence is totally untrustworthy and suffers from material contradictions. \n",
            "There had been material discrepancies/contradictions/ inconsistencies in regard to the lodging of FIR and investigation so far as the statements of Pratap Singh, Head Constable and R.D. Yadav, S.O., and the entries made in the Rojnamcha. \n",
            "Since the reasons given by the learned courts below for disbelieving the eyewitnesses are cogent and convincing we must leave their evidence out of our consideration.. \n",
            "It is pointed out that there are material contradictions between what was stated by Miss Mammie and what was stated by Anjani.. \n",
            "We do not see any material contradictions. \n",
            "improbability in the version of the accused is, while he says that in the struggle two shots went off, we find three spent bullets-two of them were found in the bathroom and the other in the body of the deceased. \n",
            "evidence of the complainant PW4, eye witness, was at variance with medical evidence. \n",
            "Both the eye-witnesses PW 2 Dannu and PW 3 Om Prakash had stated that they were present in the fair and had seen the occurrence. \n",
            "(xi) He stated that the person who shouted to take out the keys of my truck was at the rear side portion of the truck. \n",
            "PW-2 stated that at about 10 a.m. when he was coming to his house, on the path in front of the house of PW-17 he had seen the appellant going towards Katapadypete. \n",
            "Dr. Mahabaleshwar Vaidya PW-6, the medical officer in Government Hospital, Udupi stated that he had examined the appellant at about 9.15 p.m. on 7.4.. \n",
            "1995 when he was brought to him by a police constable. \n",
            "He found the following injuries on the appellant He stated that, in the meanwhile, another truck also came following his truck and the police men also boarded the said truck and the persons who were traveling in the said truck said ‘Saab Andar Math Jao, Andar Kaanch ka Saman Hai’.\n",
            "3) Lacerated injury of the size of 1- =\" x =\" x muscle deep over the middle finger at the junction of the proximal and inter phalanges.. \n",
            "He stated that, thereafter, Shabbir Kadri came and started asking Patil Sahib (A-116) “what had happened”.\n",
            "The witnesses had clearly explained in their statements that the accused had plied and struck the deceased with the lathi portions of the ballams on the front side and this was fully corroborated by the medical evidence which showed that the two lacerated wounds were on the right side of the front portion of the head\n",
            "According to him, injuries numbers 2, 3 and 4 were grievous in nature and the other injuries were simple.. \n",
            "He found injury number 4 to be sutured which indicated that the appellant had been treated earlier.. \n",
            "He also deposed that if the accused held the blade of the knife (MO-14) during a scuffle, injury Nos. 1 to 4 could have been caused. \n",
            "evidence of DW.1 Dr. B. Jayaprakash Shetty and his report established that the appellant by reason of deformity in both his hands since birth could not hold any object with firm grip with either hand. \n",
            "He found the following injuries on the person of the appellant.. \n",
            "\"i) Lacerated wound measuring 1 X =\" and muscle deep obliquely situated over the palmar aspect of the right index finger over the junction of the first and second injuries.. \n",
            "ii) Lacerated wound of the size of 2\" x =\" muscle deep exposing the tendence over the proximal phalynux over the palmar aspect of the ring finger.. \n",
            "iii) Lacerated injury of the size of 1 = \" x =\" again muscle deep over the middle finger at the junction of the proximal and inter phalyaline.. \n",
            "iv) Partly sutured wound 1 =\" long to which the underly's tendence and muscles at the junction of the first and second preveinal of the little finger.. \n",
            "(vii) He stated that he took A-116 nearby a white car which was stationed behind the said truck.\n",
            "In his opinion those injuries could be caused by the knife shown to him, if the appellant had held the blade of that knife in the course of scuffle.. \n",
            "Injury Nos. 2 to 4 were grievous in nature while other injuries were simple. \n",
            "It is evident from the evidence of PW7 Dr. Naik that the sample blood of the accused was examined and it was found that the blood group of the appellant was A+. \n",
            "Dr. Shetty stated that he had examined the appellant on 14th August, 1996 when he was sent to him by the Superintendent, District Prison, Mangalore pursuant to the direction of the Court.. \n",
            "On examination of the accused he noticed the following On the right hand there is swan neck deformity of fingers with the hyper extension of PIP and DIP (Proximal inter phalengeal joint and Distal inter phalangeal joints).. \n",
            "He has less power of grip and pinch of grade II.. \n",
            "He has the absence of terminal phalinx of all the fingers with deformity of residual power of grip of Grade II and with no pinch. \n",
            "Age of these injuries, according to him, was 12-24 hours before the medical examination.. \n",
            "He examined PW1.. \n",
            "He found the dead body in the mortuary.. \n",
            "PW13 found blood- stains on the ground and also on the tar portion of the road.. \n",
            "PW10 is the Assistant Civil Surgeon attached to the Government hospital, Salem.. \n",
            "He conducted post-mortem and found the following injuries.. \n",
            "Lacerated 2 cm x .. \n",
            "5 cm x.5 cm on the right side of the lower lip.. \n",
            "A stab wound 2 cm x 1 cm x 2 cms over the right side of the face at the angle of middle.. \n",
            "An incised wound 2 cm x 5 cm x 5 cms over the right side of the face 3 cm below the right eye.. \n",
            "A stab wound 3 cms x 1.5 cm x 6 cms over the right side of chest 10 cms below the right collar bone 6 cm medial top the nipple.. \n",
            "A stab wound 2 cm x 1 cm x 4 cms over the right side of the chest 2 cm away from injury no.4.. \n",
            "This is a second journey of the appellant to this Court. \n",
            "Earlier the appellant had questioned grant of bail to the respondent no.2 in each case by learned Single Judge of the Orissa High Court. \n",
            "The date for framing of charges was fixed on 6.6.2002. \n",
            "Accused Bimal filed bail application before the High Court. \n",
            "In the result, all the appeals fail and are dismissed accordingly. \n",
            "We do not find any reason why to differ therewith. \n",
            "It was within their special knowledge. \n",
            "We have been taken through the entire evidence on record. \n",
            "Therefore, interference with the judgment of the High Court is warranted. \n",
            "Sometimes it is the correctional needs of the perpetrator that are offered to justify a sentence. \n",
            "\n"
          ]
        }
      ]
    },
    {
      "cell_type": "code",
      "source": [
        "import pandas as pd\n",
        "fd=pd.read_csv(\"gpt2_test_data_edited.csv\")\n",
        "print(fd)\n",
        "p=[\"homicide_murder\",\"life_imprisonment\",\"riot\",\"physical_assault\",\"evidence_inconsistency\",\"witness_testimony\",\"expert_witness_testimony\"]\n",
        "dd={}\n",
        "dd1={}\n",
        "for i in p:\n",
        "    tp=0\n",
        "    fp=0\n",
        "    fn=0\n",
        "    tn=0\n",
        "    for (m,k) in zip(fd[\"Assigned tag\"],fd[\"generated response\"]):\n",
        "        for j in (m.strip()).split(\",\"):\n",
        "            if i==j and i==k.strip():\n",
        "                tp+=1\n",
        "            elif i!=j and i==k.strip():\n",
        "                fp+=1\n",
        "            elif i==j and i!=k.strip():\n",
        "                fn+=1\n",
        "            elif i!=j and i!=k.strip():\n",
        "                tn+=1\n",
        "    dd[i]=[tp,fp,fn,tn]\n",
        "\n",
        "'''\n",
        "tp,fp,fn,tn=0,0,0,0\n",
        "for (i,j) in zip(fd[\"Assigned tag\"],fd[\"generated response\"]):\n",
        "    if i not in p:\n",
        "        if \"others\" in j:\n",
        "            tp+=1\n",
        "        else:\n",
        "            fn+=1\n",
        "    else:\n",
        "        if \"others\" in j:\n",
        "            fp+=1\n",
        "        else:\n",
        "            tn+=1\n",
        "dd[\"others\"]=[tp,fp,fn,tn]\n",
        "'''\n",
        "\n",
        "print(dd)\n",
        "#p.append(\"others\")\n",
        "dd1[\"labels\"]=p\n",
        "dd1[\"Accuracy\"]=[(dd[i][0]+dd[i][3])/(dd[i][0]+dd[i][1]+dd[i][2]+dd[i][3]) for i in dd.keys()]\n",
        "dd1[\"Misclassification\"]=[(dd[i][1]+dd[i][2])/(dd[i][0]+dd[i][1]+dd[i][2]+dd[i][3]) for i in dd.keys()]\n",
        "dd1[\"Precision\"]=[dd[i][0]/(dd[i][0]+dd[i][1]) for i in dd.keys()]\n",
        "dd1[\"Sensitivity\"]=[dd[i][0]/(dd[i][0]+dd[i][2]) for i in dd.keys()]\n",
        "dd1[\"Specificity\"]=[dd[i][3]/(dd[i][3]+dd[i][1]) for i in dd.keys()]\n",
        "em=pd.DataFrame(data=dd1)\n",
        "print(em)\n",
        "em.to_csv('data_eval_edited.csv', index=False)"
      ],
      "metadata": {
        "colab": {
          "base_uri": "https://localhost:8080/"
        },
        "id": "wVnNpH36ay0O",
        "outputId": "6f8121c9-c0b5-44ab-de79-281220614a75"
      },
      "execution_count": 14,
      "outputs": [
        {
          "output_type": "stream",
          "name": "stdout",
          "text": [
            "                                             Statement  \\\n",
            "0    The High Court also held that the case of the ...   \n",
            "1            conviction and sentence under Section 302   \n",
            "2    charge under Section 302 read with Section 34 ...   \n",
            "3    three sons Kulwant Singh, Gurmit Singh and Man...   \n",
            "4    appeal is held devoid of any merit and is dism...   \n",
            "..                                                 ...   \n",
            "119  An incised wound 8 cms x 3 cms x 2 cms over th...   \n",
            "120  Laceration 8 cms x 4 cms x 2 cm over the inner...   \n",
            "121  Laceration 4 x 3 x 1 cm over inner side of lef...   \n",
            "122  Laceration 5 cms x cms x 1 cm over the dorsal ...   \n",
            "123                            Heart : Chambers empty.   \n",
            "\n",
            "                 Assigned tag          generated response  \n",
            "0             homicide_murder            homicide_murder   \n",
            "1             homicide_murder            homicide_murder   \n",
            "2             homicide_murder            homicide_murder   \n",
            "3             homicide_murder            homicide_murder   \n",
            "4             homicide_murder                     Others   \n",
            "..                        ...                         ...  \n",
            "119  expert_witness_testimony   expert_witness_testimony   \n",
            "120  expert_witness_testimony   expert_witness_testimony   \n",
            "121  expert_witness_testimony   expert_witness_testimony   \n",
            "122  expert_witness_testimony   expert_witness_testimony   \n",
            "123  expert_witness_testimony   expert_witness_testimony   \n",
            "\n",
            "[124 rows x 3 columns]\n",
            "{'homicide_murder': [17, 5, 3, 99], 'life_imprisonment': [15, 1, 4, 104], 'riot': [11, 2, 9, 102], 'physical_assault': [7, 2, 13, 102], 'evidence_inconsistency': [1, 1, 4, 118], 'witness_testimony': [9, 4, 11, 100], 'expert_witness_testimony': [20, 13, 0, 91]}\n",
            "                     labels  Accuracy  Misclassification  Precision  \\\n",
            "0           homicide_murder  0.935484           0.064516   0.772727   \n",
            "1         life_imprisonment  0.959677           0.040323   0.937500   \n",
            "2                      riot  0.911290           0.088710   0.846154   \n",
            "3          physical_assault  0.879032           0.120968   0.777778   \n",
            "4    evidence_inconsistency  0.959677           0.040323   0.500000   \n",
            "5         witness_testimony  0.879032           0.120968   0.692308   \n",
            "6  expert_witness_testimony  0.895161           0.104839   0.606061   \n",
            "\n",
            "   Sensitivity  Specificity  \n",
            "0     0.850000     0.951923  \n",
            "1     0.789474     0.990476  \n",
            "2     0.550000     0.980769  \n",
            "3     0.350000     0.980769  \n",
            "4     0.200000     0.991597  \n",
            "5     0.450000     0.961538  \n",
            "6     1.000000     0.875000  \n"
          ]
        }
      ]
    },
    {
      "cell_type": "code",
      "source": [],
      "metadata": {
        "id": "mY8bGBDibujp"
      },
      "execution_count": null,
      "outputs": []
    }
  ]
}